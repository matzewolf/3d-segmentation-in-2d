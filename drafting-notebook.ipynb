{
 "cells": [
  {
   "cell_type": "code",
   "execution_count": 1,
   "id": "27be0624",
   "metadata": {},
   "outputs": [
    {
     "name": "stderr",
     "output_type": "stream",
     "text": [
      "/home/ahmed/.local/lib/python3.10/site-packages/tqdm/auto.py:22: TqdmWarning: IProgress not found. Please update jupyter and ipywidgets. See https://ipywidgets.readthedocs.io/en/stable/user_install.html\n",
      "  from .autonotebook import tqdm as notebook_tqdm\n"
     ]
    }
   ],
   "source": [
    "import torch\n",
    "import torch.nn as nn\n",
    "\n",
    "\n",
    "NUM_POINTS = 2048\n",
    "NUM_CUTS = 32\n",
    "SIZE_SUB = 16\n",
    "SIZE_TOP = 16\n",
    "SIZE_IMG = SIZE_SUB*SIZE_SUB\n",
    "\n",
    "\n",
    "class Inception(nn.Module):\n",
    "    def __init__(self, size_in, size_out):\n",
    "        super().__init__()\n",
    "        self.size_in, self.size_out = size_in, size_out\n",
    "        \n",
    "        self.cv1 = nn.Conv2d(size_in, size_out, 1, padding = 'same')\n",
    "        self.cv2 = nn.Conv2d(size_in, size_out, 3, padding = 'same')\n",
    "        self.relu = nn.ReLU()\n",
    "        \n",
    "    def forward(self, x):\n",
    "        x0 = self.cv1(x)\n",
    "        x0 = self.relu(x0)\n",
    "        \n",
    "        x1 = self.cv2(x)\n",
    "        x1 = self.relu(x1)\n",
    "        \n",
    "        x = torch.cat((x0, x1))\n",
    "        return x   \n",
    "    \n",
    "    \n",
    "    \n",
    "\n",
    "class MultiSacleUNet(nn.Module):\n",
    "    def __init__(self):\n",
    "        super().__init__()\n",
    "        self.inception_1 = Inception(3, 64)\n",
    "        self.inception_2 = Inception(128, 128)\n",
    "        self.inception_3 = Inception(512, 128)\n",
    "        self.inception_4 = Inception(384, 64)\n",
    "        \n",
    "        self.maxPool_1 = nn.MaxPool2d(SIZE_SUB, padding = 'valid')\n",
    "        self.maxPool_2 = nn.MaxPool2d(SIZE_TOP, padding = 'valid')\n",
    "\n",
    "        self.upSample_1 = nn.Upsample(size = SIZE_SUB)\n",
    "        self.upSample_2 = nn.Upsample(size = SIZE_TOP)\n",
    "        \n",
    "        self.fc1 = nn.Linear(256,256)\n",
    "        self.fc2 = nn.Linear(128,50)\n",
    "        \n",
    "        self.relu = nn.ReLU()\n",
    "        self.softmax = nn.Softmax()\n",
    "\n",
    "    def forward(self, x):\n",
    "        \n",
    "        x0 = self.inception_1(x)\n",
    "        x1 = self.maxPool_1(x0)\n",
    "        \n",
    "        x1 = self.inception_2(x1)\n",
    "        x2 = self.maxPool_2(x1)\n",
    "        \n",
    "        xg = x2\n",
    "        xg = self.fc1(xg)\n",
    "        y2 = xg\n",
    "        \n",
    "        y1 = self.upSample_1(y2)\n",
    "        y1 = torch.cat((x1, y1), dim=1)\n",
    "        y1 = self.inception_3(y1)\n",
    "        \n",
    "        \n",
    "        y0 = self.upSample_2(y1)\n",
    "        y0 = torch.cat((x0, y0), dim=1)\n",
    "        y0 = self.inception_4(y0)\n",
    "        \n",
    "        \n",
    "        outputs = self.fc2(y0)\n",
    "        \n",
    "        \n",
    "        return  outputs\n",
    "    \n"
   ]
  },
  {
   "cell_type": "code",
   "execution_count": 2,
   "id": "ba18af11",
   "metadata": {},
   "outputs": [],
   "source": [
    "%load_ext autoreload\n",
    "%autoreload 2\n",
    "%reload_ext autoreload\n"
   ]
  },
  {
   "cell_type": "code",
   "execution_count": 3,
   "id": "61bb12c6",
   "metadata": {},
   "outputs": [],
   "source": [
    "from pathlib import Path\n",
    "\n",
    "import numpy as np\n",
    "import torch\n",
    "import torch.nn as nn\n",
    "\n",
    "from model import MultiSacleUNet\n",
    "from dataset import ShapeNetPartDataset\n",
    "\n",
    "\n",
    "def train(model, train_dataloader, val_dataloader, device, config):\n",
    "    # Declare loss and move to device;     \n",
    "    loss = nn.CrossEntropyLoss()\n",
    "    loss.to(device)\n",
    "    \n",
    "    # Declare optimizer with learning rate given in config\n",
    "    optimizer = torch.optim.Adam(model.parameters(), lr=config['learning_rate'])\n",
    "    \n",
    "    # TODO: Set model to train\n",
    "    model.train()\n",
    "    best_loss_val = np.inf\n",
    "\n",
    "    # Keep track of running average of train loss for printing\n",
    "    train_loss_running = 0.\n",
    "\n",
    "    for epoch in range(config['max_epochs']):\n",
    "        for batch_idx, batch in enumerate(train_dataloader):\n",
    "            print(batch.keys())\n",
    "            # TODO: Move batch to device\n",
    "            \n",
    "            # set optimizer gradients to zero, perform forward pass\n",
    "            optimizer.zero_grad()\n",
    "            predicted = model(batch_val['input_sdf'])\n",
    "            \n",
    "\n",
    "            # TODO: Compute loss, Compute gradients, Update network parameters\n",
    "            loss = loss(predicted, )  \n",
    "\n",
    "            loss.backward()\n",
    "\n",
    "            optimizer.step()\n",
    "                \n",
    "            # Logging\n",
    "            train_loss_running += loss.item()\n",
    "            iteration = epoch * len(train_dataloader) + batch_idx\n",
    "\n",
    "            if iteration % config['print_every_n'] == (config['print_every_n'] - 1):\n",
    "                print(f'[{epoch:03d}/{batch_idx:05d}] train_loss: {train_loss_running / config[\"print_every_n\"]:.6f}')\n",
    "                train_loss_running = 0.\n",
    "\n",
    "            # Validation evaluation and logging\n",
    "            if iteration % config['validate_every_n'] == (config['validate_every_n'] - 1):\n",
    "                # Set model to eval\n",
    "                model.eval()\n",
    "                # Evaluation on entire validation set\n",
    "                loss_val = 0.\n",
    "                for batch_val in val_dataloader:\n",
    "                    # TODO: Move batch to device\n",
    "                    \n",
    "                    # TODO: validationf forward loss\n",
    "                    with torch.no_grad():\n",
    "                        prediction = model(batch_val['input_sdf'])\n",
    "\n",
    "                    loss_val += loss_criterion_test(reconstruction, ).item()\n",
    "\n",
    "                loss_val /= len(val_dataloader)\n",
    "                if loss_val < best_loss_val:\n",
    "                    torch.save(model.state_dict(), f'/runs/{config[\"experiment_name\"]}/model_best.ckpt')\n",
    "                    best_loss_val = loss_val\n",
    "\n",
    "                print(f'[{epoch:03d}/{batch_idx:05d}] val_loss: {loss_val:.6f} | best_loss_val: {best_loss_val:.6f}')\n",
    "\n",
    "                # Set model back to train\n",
    "                model.train()"
   ]
  },
  {
   "cell_type": "code",
   "execution_count": 4,
   "id": "0732e79b",
   "metadata": {},
   "outputs": [],
   "source": [
    "def main(config):\n",
    "    \"\"\"\n",
    "    Function for training multi-scale U-Net on ShapeNetPart\n",
    "    :param config: configuration for training - has the following keys\n",
    "                   'experiment_name': name of the experiment, checkpoint will be saved to folder \"/runs/<experiment_name>\"\n",
    "                   'device': device on which model is trained, e.g. 'cpu' or 'cuda:0'\n",
    "                   'batch_size': batch size for training and validation dataloaders\n",
    "                   'resume_ckpt': None if training from scratch, otherwise path to checkpoint (saved weights)\n",
    "                   'learning_rate': learning rate for optimizer\n",
    "                   'max_epochs': total number of epochs after which training should stop\n",
    "                   'print_every_n': print train loss every n iterations\n",
    "                   'validate_every_n': print validation loss and validation accuracy every n iterations\n",
    "                   'is_overfit': if the training is done on a small subset of data specified in exercise_2/split/overfit.txt,\n",
    "                                 train and validation done on the same set, so error close to 0 means a good overfit. Useful for debugging.\n",
    "    \"\"\"\n",
    "\n",
    "    # Declare device\n",
    "    device = torch.device('cpu')\n",
    "    if torch.cuda.is_available() and config['device'].startswith('cuda'):\n",
    "        device = torch.device(config['device'])\n",
    "        print('Using device:', config['device'])\n",
    "    else:\n",
    "        print('Using CPU')\n",
    "\n",
    "    # Create Dataloaders\n",
    "    train_dataset = ShapeNetPartDataset(path = 'shapenet_prepared.h5', split = 'train' if not config['is_overfit'] else 'overfit')\n",
    "    train_dataloader = torch.utils.data.DataLoader(\n",
    "        train_dataset,   # Datasets return data one sample at a time; Dataloaders use them and aggregate samples into batches\n",
    "        batch_size=config['train_batch_size'],   # The size of batches is defined here\n",
    "        shuffle=True,    # Shuffling the order of samples is useful during training to prevent that the network learns to depend on the order of the input data\n",
    "        num_workers=4,   # Data is usually loaded in parallel by num_workers\n",
    "        pin_memory=True,  # This is an implementation detail to speed up data uploading to the GPU\n",
    "    )\n",
    "\n",
    "    val_dataset = ShapeNetPartDataset(path = 'shapenet_prepared.h5',split = 'val' if not config['is_overfit'] else 'overfit')\n",
    "    val_dataloader = torch.utils.data.DataLoader(\n",
    "        val_dataset,     # Datasets return data one sample at a time; Dataloaders use them and aggregate samples into batches\n",
    "        batch_size=config['val_batch_size'],   # The size of batches is defined here\n",
    "        shuffle=False,   # During validation, shuffling is not necessary anymore\n",
    "        num_workers=4,   # Data is usually loaded in parallel by num_workers\n",
    "        pin_memory=True,  # This is an implementation detail to speed up data uploading to the GPU\n",
    "    )\n",
    "\n",
    "    # Instantiate model\n",
    "    model = MultiSacleUNet()\n",
    "\n",
    "    # Load model if resuming from checkpoint\n",
    "#     if config['resume_ckpt'] is not None:\n",
    "#         model.load_state_dict(torch.load(config['resume_ckpt'], map_location='cpu'))\n",
    "\n",
    "    # Move model to specified device\n",
    "    model.to(device)\n",
    "\n",
    "    # Create folder for saving checkpoints\n",
    "    Path(f'./runs/{config[\"experiment_name\"]}').mkdir(exist_ok=True, parents=True)\n",
    "\n",
    "    # Start training\n",
    "    train(model, train_dataloader, val_dataloader, device, config)"
   ]
  },
  {
   "cell_type": "code",
   "execution_count": 5,
   "id": "e40b80cb",
   "metadata": {},
   "outputs": [],
   "source": [
    "config = {\n",
    "\"experiment_name\": 'test_1',\n",
    "\"is_overfit\": False,\n",
    "\"device\": 'cuda:0',\n",
    "\"max_epochs\": 1,\n",
    "\"train_batch_size\": 4,\n",
    "\"val_batch_size\": 1,\n",
    "\"learning_rate\": 0.0001,\n",
    "\"resume_ckpt\": False,\n",
    "\"print_every_n\": 1,\n",
    "\"validate_every_n\": 1 \n",
    "}"
   ]
  },
  {
   "cell_type": "code",
   "execution_count": 6,
   "id": "3635a310",
   "metadata": {},
   "outputs": [
    {
     "name": "stdout",
     "output_type": "stream",
     "text": [
      "Using device: cuda:0\n"
     ]
    },
    {
     "ename": "TypeError",
     "evalue": "Caught TypeError in DataLoader worker process 0.\nOriginal Traceback (most recent call last):\n  File \"/home/ahmed/anaconda3/envs/3d-seg-in-2d/lib/python3.10/site-packages/torch/utils/data/_utils/worker.py\", line 302, in _worker_loop\n    data = fetcher.fetch(index)\n  File \"/home/ahmed/anaconda3/envs/3d-seg-in-2d/lib/python3.10/site-packages/torch/utils/data/_utils/fetch.py\", line 49, in fetch\n    data = [self.dataset[idx] for idx in possibly_batched_index]\n  File \"/home/ahmed/anaconda3/envs/3d-seg-in-2d/lib/python3.10/site-packages/torch/utils/data/_utils/fetch.py\", line 49, in <listcomp>\n    data = [self.dataset[idx] for idx in possibly_batched_index]\n  File \"/home/ahmed/Desktop/ss21/ML3D/project/3d-segmentation-in-2d/dataset.py\", line 61, in __getitem__\n    points_3d_image[points_2d_item[:, 0],\nTypeError: can't assign a numpy.ndarray to a torch.FloatTensor\n",
     "output_type": "error",
     "traceback": [
      "\u001b[0;31m---------------------------------------------------------------------------\u001b[0m",
      "\u001b[0;31mTypeError\u001b[0m                                 Traceback (most recent call last)",
      "Input \u001b[0;32mIn [6]\u001b[0m, in \u001b[0;36m<cell line: 1>\u001b[0;34m()\u001b[0m\n\u001b[0;32m----> 1\u001b[0m \u001b[43mmain\u001b[49m\u001b[43m(\u001b[49m\u001b[43mconfig\u001b[49m\u001b[43m)\u001b[49m\n",
      "Input \u001b[0;32mIn [4]\u001b[0m, in \u001b[0;36mmain\u001b[0;34m(config)\u001b[0m\n\u001b[1;32m     55\u001b[0m Path(\u001b[38;5;124mf\u001b[39m\u001b[38;5;124m'\u001b[39m\u001b[38;5;124m./runs/\u001b[39m\u001b[38;5;132;01m{\u001b[39;00mconfig[\u001b[38;5;124m\"\u001b[39m\u001b[38;5;124mexperiment_name\u001b[39m\u001b[38;5;124m\"\u001b[39m]\u001b[38;5;132;01m}\u001b[39;00m\u001b[38;5;124m'\u001b[39m)\u001b[38;5;241m.\u001b[39mmkdir(exist_ok\u001b[38;5;241m=\u001b[39m\u001b[38;5;28;01mTrue\u001b[39;00m, parents\u001b[38;5;241m=\u001b[39m\u001b[38;5;28;01mTrue\u001b[39;00m)\n\u001b[1;32m     57\u001b[0m \u001b[38;5;66;03m# Start training\u001b[39;00m\n\u001b[0;32m---> 58\u001b[0m \u001b[43mtrain\u001b[49m\u001b[43m(\u001b[49m\u001b[43mmodel\u001b[49m\u001b[43m,\u001b[49m\u001b[43m \u001b[49m\u001b[43mtrain_dataloader\u001b[49m\u001b[43m,\u001b[49m\u001b[43m \u001b[49m\u001b[43mval_dataloader\u001b[49m\u001b[43m,\u001b[49m\u001b[43m \u001b[49m\u001b[43mdevice\u001b[49m\u001b[43m,\u001b[49m\u001b[43m \u001b[49m\u001b[43mconfig\u001b[49m\u001b[43m)\u001b[49m\n",
      "Input \u001b[0;32mIn [3]\u001b[0m, in \u001b[0;36mtrain\u001b[0;34m(model, train_dataloader, val_dataloader, device, config)\u001b[0m\n\u001b[1;32m     24\u001b[0m train_loss_running \u001b[38;5;241m=\u001b[39m \u001b[38;5;241m0.\u001b[39m\n\u001b[1;32m     26\u001b[0m \u001b[38;5;28;01mfor\u001b[39;00m epoch \u001b[38;5;129;01min\u001b[39;00m \u001b[38;5;28mrange\u001b[39m(config[\u001b[38;5;124m'\u001b[39m\u001b[38;5;124mmax_epochs\u001b[39m\u001b[38;5;124m'\u001b[39m]):\n\u001b[0;32m---> 27\u001b[0m     \u001b[38;5;28;01mfor\u001b[39;00m batch_idx, batch \u001b[38;5;129;01min\u001b[39;00m \u001b[38;5;28menumerate\u001b[39m(train_dataloader):\n\u001b[1;32m     28\u001b[0m         \u001b[38;5;28mprint\u001b[39m(batch\u001b[38;5;241m.\u001b[39mkeys())\n\u001b[1;32m     29\u001b[0m         \u001b[38;5;66;03m# TODO: Move batch to device\u001b[39;00m\n\u001b[1;32m     30\u001b[0m         \n\u001b[1;32m     31\u001b[0m         \u001b[38;5;66;03m# set optimizer gradients to zero, perform forward pass\u001b[39;00m\n",
      "File \u001b[0;32m~/anaconda3/envs/3d-seg-in-2d/lib/python3.10/site-packages/torch/utils/data/dataloader.py:652\u001b[0m, in \u001b[0;36m_BaseDataLoaderIter.__next__\u001b[0;34m(self)\u001b[0m\n\u001b[1;32m    649\u001b[0m \u001b[38;5;28;01mif\u001b[39;00m \u001b[38;5;28mself\u001b[39m\u001b[38;5;241m.\u001b[39m_sampler_iter \u001b[38;5;129;01mis\u001b[39;00m \u001b[38;5;28;01mNone\u001b[39;00m:\n\u001b[1;32m    650\u001b[0m     \u001b[38;5;66;03m# TODO(https://github.com/pytorch/pytorch/issues/76750)\u001b[39;00m\n\u001b[1;32m    651\u001b[0m     \u001b[38;5;28mself\u001b[39m\u001b[38;5;241m.\u001b[39m_reset()  \u001b[38;5;66;03m# type: ignore[call-arg]\u001b[39;00m\n\u001b[0;32m--> 652\u001b[0m data \u001b[38;5;241m=\u001b[39m \u001b[38;5;28;43mself\u001b[39;49m\u001b[38;5;241;43m.\u001b[39;49m\u001b[43m_next_data\u001b[49m\u001b[43m(\u001b[49m\u001b[43m)\u001b[49m\n\u001b[1;32m    653\u001b[0m \u001b[38;5;28mself\u001b[39m\u001b[38;5;241m.\u001b[39m_num_yielded \u001b[38;5;241m+\u001b[39m\u001b[38;5;241m=\u001b[39m \u001b[38;5;241m1\u001b[39m\n\u001b[1;32m    654\u001b[0m \u001b[38;5;28;01mif\u001b[39;00m \u001b[38;5;28mself\u001b[39m\u001b[38;5;241m.\u001b[39m_dataset_kind \u001b[38;5;241m==\u001b[39m _DatasetKind\u001b[38;5;241m.\u001b[39mIterable \u001b[38;5;129;01mand\u001b[39;00m \\\n\u001b[1;32m    655\u001b[0m         \u001b[38;5;28mself\u001b[39m\u001b[38;5;241m.\u001b[39m_IterableDataset_len_called \u001b[38;5;129;01mis\u001b[39;00m \u001b[38;5;129;01mnot\u001b[39;00m \u001b[38;5;28;01mNone\u001b[39;00m \u001b[38;5;129;01mand\u001b[39;00m \\\n\u001b[1;32m    656\u001b[0m         \u001b[38;5;28mself\u001b[39m\u001b[38;5;241m.\u001b[39m_num_yielded \u001b[38;5;241m>\u001b[39m \u001b[38;5;28mself\u001b[39m\u001b[38;5;241m.\u001b[39m_IterableDataset_len_called:\n",
      "File \u001b[0;32m~/anaconda3/envs/3d-seg-in-2d/lib/python3.10/site-packages/torch/utils/data/dataloader.py:1347\u001b[0m, in \u001b[0;36m_MultiProcessingDataLoaderIter._next_data\u001b[0;34m(self)\u001b[0m\n\u001b[1;32m   1345\u001b[0m \u001b[38;5;28;01melse\u001b[39;00m:\n\u001b[1;32m   1346\u001b[0m     \u001b[38;5;28;01mdel\u001b[39;00m \u001b[38;5;28mself\u001b[39m\u001b[38;5;241m.\u001b[39m_task_info[idx]\n\u001b[0;32m-> 1347\u001b[0m     \u001b[38;5;28;01mreturn\u001b[39;00m \u001b[38;5;28;43mself\u001b[39;49m\u001b[38;5;241;43m.\u001b[39;49m\u001b[43m_process_data\u001b[49m\u001b[43m(\u001b[49m\u001b[43mdata\u001b[49m\u001b[43m)\u001b[49m\n",
      "File \u001b[0;32m~/anaconda3/envs/3d-seg-in-2d/lib/python3.10/site-packages/torch/utils/data/dataloader.py:1373\u001b[0m, in \u001b[0;36m_MultiProcessingDataLoaderIter._process_data\u001b[0;34m(self, data)\u001b[0m\n\u001b[1;32m   1371\u001b[0m \u001b[38;5;28mself\u001b[39m\u001b[38;5;241m.\u001b[39m_try_put_index()\n\u001b[1;32m   1372\u001b[0m \u001b[38;5;28;01mif\u001b[39;00m \u001b[38;5;28misinstance\u001b[39m(data, ExceptionWrapper):\n\u001b[0;32m-> 1373\u001b[0m     \u001b[43mdata\u001b[49m\u001b[38;5;241;43m.\u001b[39;49m\u001b[43mreraise\u001b[49m\u001b[43m(\u001b[49m\u001b[43m)\u001b[49m\n\u001b[1;32m   1374\u001b[0m \u001b[38;5;28;01mreturn\u001b[39;00m data\n",
      "File \u001b[0;32m~/anaconda3/envs/3d-seg-in-2d/lib/python3.10/site-packages/torch/_utils.py:461\u001b[0m, in \u001b[0;36mExceptionWrapper.reraise\u001b[0;34m(self)\u001b[0m\n\u001b[1;32m    457\u001b[0m \u001b[38;5;28;01mexcept\u001b[39;00m \u001b[38;5;167;01mTypeError\u001b[39;00m:\n\u001b[1;32m    458\u001b[0m     \u001b[38;5;66;03m# If the exception takes multiple arguments, don't try to\u001b[39;00m\n\u001b[1;32m    459\u001b[0m     \u001b[38;5;66;03m# instantiate since we don't know how to\u001b[39;00m\n\u001b[1;32m    460\u001b[0m     \u001b[38;5;28;01mraise\u001b[39;00m \u001b[38;5;167;01mRuntimeError\u001b[39;00m(msg) \u001b[38;5;28;01mfrom\u001b[39;00m \u001b[38;5;28mNone\u001b[39m\n\u001b[0;32m--> 461\u001b[0m \u001b[38;5;28;01mraise\u001b[39;00m exception\n",
      "\u001b[0;31mTypeError\u001b[0m: Caught TypeError in DataLoader worker process 0.\nOriginal Traceback (most recent call last):\n  File \"/home/ahmed/anaconda3/envs/3d-seg-in-2d/lib/python3.10/site-packages/torch/utils/data/_utils/worker.py\", line 302, in _worker_loop\n    data = fetcher.fetch(index)\n  File \"/home/ahmed/anaconda3/envs/3d-seg-in-2d/lib/python3.10/site-packages/torch/utils/data/_utils/fetch.py\", line 49, in fetch\n    data = [self.dataset[idx] for idx in possibly_batched_index]\n  File \"/home/ahmed/anaconda3/envs/3d-seg-in-2d/lib/python3.10/site-packages/torch/utils/data/_utils/fetch.py\", line 49, in <listcomp>\n    data = [self.dataset[idx] for idx in possibly_batched_index]\n  File \"/home/ahmed/Desktop/ss21/ML3D/project/3d-segmentation-in-2d/dataset.py\", line 61, in __getitem__\n    points_3d_image[points_2d_item[:, 0],\nTypeError: can't assign a numpy.ndarray to a torch.FloatTensor\n"
     ]
    }
   ],
   "source": [
    "main(config)"
   ]
  },
  {
   "cell_type": "code",
   "execution_count": 30,
   "id": "5aacb3ba",
   "metadata": {},
   "outputs": [],
   "source": [
    "import h5py\n",
    "\n",
    "data = h5py.File('shapenet_prepared.h5')"
   ]
  },
  {
   "cell_type": "code",
   "execution_count": 31,
   "id": "414bb6a1",
   "metadata": {},
   "outputs": [
    {
     "data": {
      "text/plain": [
       "<KeysViewHDF5 ['mean node loss_test', 'mean node loss_train', 'mean node loss_val', 'num_repeats_test', 'num_repeats_train', 'num_repeats_val', 'p_test', 'p_train', 'p_val', 's_test', 's_train', 's_val', 'x_test', 'x_train', 'x_val', 'y_test', 'y_train', 'y_val']>"
      ]
     },
     "execution_count": 31,
     "metadata": {},
     "output_type": "execute_result"
    }
   ],
   "source": [
    "data.keys()"
   ]
  },
  {
   "cell_type": "code",
   "execution_count": 37,
   "id": "c4d56f4c",
   "metadata": {},
   "outputs": [],
   "source": [
    "train = data['x_train']"
   ]
  },
  {
   "cell_type": "code",
   "execution_count": 38,
   "id": "61cf8d08",
   "metadata": {},
   "outputs": [
    {
     "data": {
      "text/plain": [
       "(<HDF5 dataset \"x_train\": shape (60685, 2048, 3), type \"<f4\">,\n",
       " h5py._hl.dataset.Dataset)"
      ]
     },
     "execution_count": 38,
     "metadata": {},
     "output_type": "execute_result"
    }
   ],
   "source": [
    "train, type(train)"
   ]
  },
  {
   "cell_type": "code",
   "execution_count": 39,
   "id": "9a5dd7d6",
   "metadata": {},
   "outputs": [],
   "source": [
    "train_dataset = ShapeNetPartDataset(path = 'shapenet_prepared.h5', split = 'train' if not config['is_overfit'] else 'overfit')\n"
   ]
  },
  {
   "cell_type": "code",
   "execution_count": 40,
   "id": "78eca585",
   "metadata": {},
   "outputs": [],
   "source": [
    "train_dataloader = torch.utils.data.DataLoader(\n",
    "    train_dataset,  \n",
    "    batch_size=4,\n",
    "    shuffle=True,    # Shuffling the order of samples is useful during training to prevent that the network learns to depend on the order of the input data\n",
    "    num_workers=4,   # Data is usually loaded in parallel by num_workers\n",
    "    pin_memory=True,  # This is an implementation detail to speed up data uploading to the GPU\n",
    ")\n"
   ]
  },
  {
   "cell_type": "code",
   "execution_count": 43,
   "id": "f1fa9eed",
   "metadata": {},
   "outputs": [
    {
     "name": "stdout",
     "output_type": "stream",
     "text": [
      "(2048, 2) (256, 256, 3) (2048, 3)\n",
      "(2048, 2) (256, 256, 3) (2048, 3)\n",
      "(2048, 2) (256, 256, 3) (2048, 3)\n",
      "(2048, 2) (256, 256, 3) (2048, 3)\n"
     ]
    },
    {
     "ename": "ValueError",
     "evalue": "Caught ValueError in DataLoader worker process 0.\nOriginal Traceback (most recent call last):\n  File \"/home/ahmed/anaconda3/envs/3d-seg-in-2d/lib/python3.10/site-packages/torch/utils/data/_utils/worker.py\", line 302, in _worker_loop\n    data = fetcher.fetch(index)\n  File \"/home/ahmed/anaconda3/envs/3d-seg-in-2d/lib/python3.10/site-packages/torch/utils/data/_utils/fetch.py\", line 49, in fetch\n    data = [self.dataset[idx] for idx in possibly_batched_index]\n  File \"/home/ahmed/anaconda3/envs/3d-seg-in-2d/lib/python3.10/site-packages/torch/utils/data/_utils/fetch.py\", line 49, in <listcomp>\n    data = [self.dataset[idx] for idx in possibly_batched_index]\n  File \"/home/ahmed/Desktop/ss21/ML3D/project/3d-segmentation-in-2d/dataset.py\", line 65, in __getitem__\n    parts_image[points_2d_item[:, 0],\nValueError: shape mismatch: value array of shape (2048,) could not be broadcast to indexing result of shape (2048,3)\n",
     "output_type": "error",
     "traceback": [
      "\u001b[0;31m---------------------------------------------------------------------------\u001b[0m",
      "\u001b[0;31mValueError\u001b[0m                                Traceback (most recent call last)",
      "Input \u001b[0;32mIn [43]\u001b[0m, in \u001b[0;36m<cell line: 1>\u001b[0;34m()\u001b[0m\n\u001b[0;32m----> 1\u001b[0m \u001b[38;5;28;01mfor\u001b[39;00m idx,i \u001b[38;5;129;01min\u001b[39;00m \u001b[38;5;28menumerate\u001b[39m(train_dataloader):\n\u001b[1;32m      2\u001b[0m     \u001b[38;5;28mprint\u001b[39m(\u001b[38;5;28mtype\u001b[39m(i))\n",
      "File \u001b[0;32m~/anaconda3/envs/3d-seg-in-2d/lib/python3.10/site-packages/torch/utils/data/dataloader.py:652\u001b[0m, in \u001b[0;36m_BaseDataLoaderIter.__next__\u001b[0;34m(self)\u001b[0m\n\u001b[1;32m    649\u001b[0m \u001b[38;5;28;01mif\u001b[39;00m \u001b[38;5;28mself\u001b[39m\u001b[38;5;241m.\u001b[39m_sampler_iter \u001b[38;5;129;01mis\u001b[39;00m \u001b[38;5;28;01mNone\u001b[39;00m:\n\u001b[1;32m    650\u001b[0m     \u001b[38;5;66;03m# TODO(https://github.com/pytorch/pytorch/issues/76750)\u001b[39;00m\n\u001b[1;32m    651\u001b[0m     \u001b[38;5;28mself\u001b[39m\u001b[38;5;241m.\u001b[39m_reset()  \u001b[38;5;66;03m# type: ignore[call-arg]\u001b[39;00m\n\u001b[0;32m--> 652\u001b[0m data \u001b[38;5;241m=\u001b[39m \u001b[38;5;28;43mself\u001b[39;49m\u001b[38;5;241;43m.\u001b[39;49m\u001b[43m_next_data\u001b[49m\u001b[43m(\u001b[49m\u001b[43m)\u001b[49m\n\u001b[1;32m    653\u001b[0m \u001b[38;5;28mself\u001b[39m\u001b[38;5;241m.\u001b[39m_num_yielded \u001b[38;5;241m+\u001b[39m\u001b[38;5;241m=\u001b[39m \u001b[38;5;241m1\u001b[39m\n\u001b[1;32m    654\u001b[0m \u001b[38;5;28;01mif\u001b[39;00m \u001b[38;5;28mself\u001b[39m\u001b[38;5;241m.\u001b[39m_dataset_kind \u001b[38;5;241m==\u001b[39m _DatasetKind\u001b[38;5;241m.\u001b[39mIterable \u001b[38;5;129;01mand\u001b[39;00m \\\n\u001b[1;32m    655\u001b[0m         \u001b[38;5;28mself\u001b[39m\u001b[38;5;241m.\u001b[39m_IterableDataset_len_called \u001b[38;5;129;01mis\u001b[39;00m \u001b[38;5;129;01mnot\u001b[39;00m \u001b[38;5;28;01mNone\u001b[39;00m \u001b[38;5;129;01mand\u001b[39;00m \\\n\u001b[1;32m    656\u001b[0m         \u001b[38;5;28mself\u001b[39m\u001b[38;5;241m.\u001b[39m_num_yielded \u001b[38;5;241m>\u001b[39m \u001b[38;5;28mself\u001b[39m\u001b[38;5;241m.\u001b[39m_IterableDataset_len_called:\n",
      "File \u001b[0;32m~/anaconda3/envs/3d-seg-in-2d/lib/python3.10/site-packages/torch/utils/data/dataloader.py:1347\u001b[0m, in \u001b[0;36m_MultiProcessingDataLoaderIter._next_data\u001b[0;34m(self)\u001b[0m\n\u001b[1;32m   1345\u001b[0m \u001b[38;5;28;01melse\u001b[39;00m:\n\u001b[1;32m   1346\u001b[0m     \u001b[38;5;28;01mdel\u001b[39;00m \u001b[38;5;28mself\u001b[39m\u001b[38;5;241m.\u001b[39m_task_info[idx]\n\u001b[0;32m-> 1347\u001b[0m     \u001b[38;5;28;01mreturn\u001b[39;00m \u001b[38;5;28;43mself\u001b[39;49m\u001b[38;5;241;43m.\u001b[39;49m\u001b[43m_process_data\u001b[49m\u001b[43m(\u001b[49m\u001b[43mdata\u001b[49m\u001b[43m)\u001b[49m\n",
      "File \u001b[0;32m~/anaconda3/envs/3d-seg-in-2d/lib/python3.10/site-packages/torch/utils/data/dataloader.py:1373\u001b[0m, in \u001b[0;36m_MultiProcessingDataLoaderIter._process_data\u001b[0;34m(self, data)\u001b[0m\n\u001b[1;32m   1371\u001b[0m \u001b[38;5;28mself\u001b[39m\u001b[38;5;241m.\u001b[39m_try_put_index()\n\u001b[1;32m   1372\u001b[0m \u001b[38;5;28;01mif\u001b[39;00m \u001b[38;5;28misinstance\u001b[39m(data, ExceptionWrapper):\n\u001b[0;32m-> 1373\u001b[0m     \u001b[43mdata\u001b[49m\u001b[38;5;241;43m.\u001b[39;49m\u001b[43mreraise\u001b[49m\u001b[43m(\u001b[49m\u001b[43m)\u001b[49m\n\u001b[1;32m   1374\u001b[0m \u001b[38;5;28;01mreturn\u001b[39;00m data\n",
      "File \u001b[0;32m~/anaconda3/envs/3d-seg-in-2d/lib/python3.10/site-packages/torch/_utils.py:461\u001b[0m, in \u001b[0;36mExceptionWrapper.reraise\u001b[0;34m(self)\u001b[0m\n\u001b[1;32m    457\u001b[0m \u001b[38;5;28;01mexcept\u001b[39;00m \u001b[38;5;167;01mTypeError\u001b[39;00m:\n\u001b[1;32m    458\u001b[0m     \u001b[38;5;66;03m# If the exception takes multiple arguments, don't try to\u001b[39;00m\n\u001b[1;32m    459\u001b[0m     \u001b[38;5;66;03m# instantiate since we don't know how to\u001b[39;00m\n\u001b[1;32m    460\u001b[0m     \u001b[38;5;28;01mraise\u001b[39;00m \u001b[38;5;167;01mRuntimeError\u001b[39;00m(msg) \u001b[38;5;28;01mfrom\u001b[39;00m \u001b[38;5;28mNone\u001b[39m\n\u001b[0;32m--> 461\u001b[0m \u001b[38;5;28;01mraise\u001b[39;00m exception\n",
      "\u001b[0;31mValueError\u001b[0m: Caught ValueError in DataLoader worker process 0.\nOriginal Traceback (most recent call last):\n  File \"/home/ahmed/anaconda3/envs/3d-seg-in-2d/lib/python3.10/site-packages/torch/utils/data/_utils/worker.py\", line 302, in _worker_loop\n    data = fetcher.fetch(index)\n  File \"/home/ahmed/anaconda3/envs/3d-seg-in-2d/lib/python3.10/site-packages/torch/utils/data/_utils/fetch.py\", line 49, in fetch\n    data = [self.dataset[idx] for idx in possibly_batched_index]\n  File \"/home/ahmed/anaconda3/envs/3d-seg-in-2d/lib/python3.10/site-packages/torch/utils/data/_utils/fetch.py\", line 49, in <listcomp>\n    data = [self.dataset[idx] for idx in possibly_batched_index]\n  File \"/home/ahmed/Desktop/ss21/ML3D/project/3d-segmentation-in-2d/dataset.py\", line 65, in __getitem__\n    parts_image[points_2d_item[:, 0],\nValueError: shape mismatch: value array of shape (2048,) could not be broadcast to indexing result of shape (2048,3)\n"
     ]
    },
    {
     "name": "stdout",
     "output_type": "stream",
     "text": [
      "(2048, 2) (256, 256, 3) (2048, 3)\n",
      "(2048, 2) (256, 256, 3) (2048, 2)(2048, 3) \n",
      "(256, 256, 3)(2048, 2)  (2048, 3)\n",
      "(256, 256, 3) (2048, 3)\n",
      "(2048, 2) (256, 256, 3) (2048, 3)\n"
     ]
    }
   ],
   "source": [
    "for idx,i in enumerate(train_dataloader):\n",
    "    print(type(i))"
   ]
  },
  {
   "cell_type": "code",
   "execution_count": null,
   "id": "f5f7444e",
   "metadata": {},
   "outputs": [],
   "source": []
  }
 ],
 "metadata": {
  "kernelspec": {
   "display_name": "Python [conda env:3d-seg-in-2d]",
   "language": "python",
   "name": "conda-env-3d-seg-in-2d-py"
  },
  "language_info": {
   "codemirror_mode": {
    "name": "ipython",
    "version": 3
   },
   "file_extension": ".py",
   "mimetype": "text/x-python",
   "name": "python",
   "nbconvert_exporter": "python",
   "pygments_lexer": "ipython3",
   "version": "3.10.5"
  }
 },
 "nbformat": 4,
 "nbformat_minor": 5
}
