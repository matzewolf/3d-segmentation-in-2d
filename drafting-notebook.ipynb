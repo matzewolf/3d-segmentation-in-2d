{
 "cells": [
  {
   "cell_type": "code",
   "execution_count": null,
   "id": "ba18af11",
   "metadata": {},
   "outputs": [],
   "source": [
    "%load_ext autoreload\n",
    "%autoreload 2\n",
    "%reload_ext autoreload\n"
   ]
  },
  {
   "cell_type": "code",
   "execution_count": null,
   "id": "61bb12c6",
   "metadata": {},
   "outputs": [],
   "source": [
    "from pathlib import Path\n",
    "\n",
    "import numpy as np\n",
    "import torch\n",
    "import torch.nn as nn\n",
    "\n",
    "from model import MultiSacleUNet\n",
    "from dataset import ShapeNetPartDataset\n",
    "\n",
    "\n",
    "def train(model, train_dataloader, val_dataloader, device, config):\n",
    "    # Declare loss and move to device;     \n",
    "    loss = nn.CrossEntropyLoss()\n",
    "    loss.to(device)\n",
    "    \n",
    "    # Declare optimizer with learning rate given in config\n",
    "    optimizer = torch.optim.Adam(model.parameters(), lr=config['learning_rate'])\n",
    "    \n",
    "    # TODO: Set model to train\n",
    "    model.train()\n",
    "    best_loss_val = np.inf\n",
    "\n",
    "    # Keep track of running average of train loss for printing\n",
    "    train_loss_running = 0.\n",
    "\n",
    "    for epoch in range(config['max_epochs']):\n",
    "        for batch_idx, batch in enumerate(train_dataloader):\n",
    "            print(batch.keys())\n",
    "            # Move batch to device\n",
    "            ShapeNetPartDataset.move_batch_to_device(batch, device)\n",
    "            # set optimizer gradients to zero, perform forward pass\n",
    "            optimizer.zero_grad()\n",
    "            predicted_part_label = model(batch['3d_points'])\n",
    "            \n",
    "\n",
    "            # Compute loss, Compute gradients, Update network parameters\n",
    "            loss = loss(predicted_part_label, batch['part_label'])  \n",
    "\n",
    "            loss.backward()\n",
    "\n",
    "            optimizer.step()\n",
    "                \n",
    "            # Logging\n",
    "            train_loss_running += loss.item()\n",
    "            iteration = epoch * len(train_dataloader) + batch_idx\n",
    "\n",
    "            if iteration % config['print_every_n'] == (config['print_every_n'] - 1):\n",
    "                print(f'[{epoch:03d}/{batch_idx:05d}] train_loss: {train_loss_running / config[\"print_every_n\"]:.6f}')\n",
    "                train_loss_running = 0.\n",
    "\n",
    "            # Validation evaluation and logging\n",
    "            if iteration % config['validate_every_n'] == (config['validate_every_n'] - 1):\n",
    "                # Set model to eval\n",
    "                model.eval()\n",
    "                # Evaluation on entire validation set\n",
    "                loss_val = 0.\n",
    "                for batch_val in val_dataloader:\n",
    "                    # Move batch to device\n",
    "                    ShapeNetPartDataset.move_batch_to_device(batch_val, device)\n",
    "                    #  validationf forward loss\n",
    "                    with torch.no_grad():\n",
    "                        prediction = model(batch_val['3d_points'])\n",
    "\n",
    "                    loss_val += loss_criterion_test(prediction, batch_val['part_label']).item()\n",
    "\n",
    "                loss_val /= len(val_dataloader)\n",
    "                if loss_val < best_loss_val:\n",
    "                    torch.save(model.state_dict(), f'/runs/{config[\"experiment_name\"]}/model_best.ckpt')\n",
    "                    best_loss_val = loss_val\n",
    "\n",
    "                print(f'[{epoch:03d}/{batch_idx:05d}] val_loss: {loss_val:.6f} | best_loss_val: {best_loss_val:.6f}')\n",
    "\n",
    "                # Set model back to train\n",
    "                model.train()"
   ]
  },
  {
   "cell_type": "code",
   "execution_count": null,
   "id": "0732e79b",
   "metadata": {},
   "outputs": [],
   "source": [
    "def main(config):\n",
    "    \"\"\"\n",
    "    Function for training multi-scale U-Net on ShapeNetPart\n",
    "    :param config: configuration for training - has the following keys\n",
    "                   'experiment_name': name of the experiment, checkpoint will be saved to folder \"/runs/<experiment_name>\"\n",
    "                   'device': device on which model is trained, e.g. 'cpu' or 'cuda:0'\n",
    "                   'batch_size': batch size for training and validation dataloaders\n",
    "                   'resume_ckpt': None if training from scratch, otherwise path to checkpoint (saved weights)\n",
    "                   'learning_rate': learning rate for optimizer\n",
    "                   'max_epochs': total number of epochs after which training should stop\n",
    "                   'print_every_n': print train loss every n iterations\n",
    "                   'validate_every_n': print validation loss and validation accuracy every n iterations\n",
    "                   'is_overfit': if the training is done on a small subset of data specified in exercise_2/split/overfit.txt,\n",
    "                                 train and validation done on the same set, so error close to 0 means a good overfit. Useful for debugging.\n",
    "    \"\"\"\n",
    "\n",
    "    # Declare device\n",
    "    device = torch.device('cpu')\n",
    "    if torch.cuda.is_available() and config['device'].startswith('cuda'):\n",
    "        device = torch.device(config['device'])\n",
    "        print('Using device:', config['device'])\n",
    "    else:\n",
    "        print('Using CPU')\n",
    "\n",
    "    # Create Dataloaders\n",
    "    train_dataset = ShapeNetPartDataset(path = 'shapenet_prepared.h5', split = 'train' if not config['is_overfit'] else 'overfit')\n",
    "    train_dataloader = torch.utils.data.DataLoader(\n",
    "        train_dataset,   # Datasets return data one sample at a time; Dataloaders use them and aggregate samples into batches\n",
    "        batch_size=config['train_batch_size'],   # The size of batches is defined here\n",
    "        shuffle=True,    # Shuffling the order of samples is useful during training to prevent that the network learns to depend on the order of the input data\n",
    "        num_workers=4,   # Data is usually loaded in parallel by num_workers\n",
    "        pin_memory=True,  # This is an implementation detail to speed up data uploading to the GPU\n",
    "    )\n",
    "\n",
    "    val_dataset = ShapeNetPartDataset(path = 'shapenet_prepared.h5',split = 'val' if not config['is_overfit'] else 'overfit')\n",
    "    val_dataloader = torch.utils.data.DataLoader(\n",
    "        val_dataset,     # Datasets return data one sample at a time; Dataloaders use them and aggregate samples into batches\n",
    "        batch_size=config['val_batch_size'],   # The size of batches is defined here\n",
    "        shuffle=False,   # During validation, shuffling is not necessary anymore\n",
    "        num_workers=4,   # Data is usually loaded in parallel by num_workers\n",
    "        pin_memory=True,  # This is an implementation detail to speed up data uploading to the GPU\n",
    "    )\n",
    "\n",
    "    # Instantiate model\n",
    "    model = MultiSacleUNet()\n",
    "\n",
    "    # Load model if resuming from checkpoint\n",
    "#     if config['resume_ckpt'] is not None:\n",
    "#         model.load_state_dict(torch.load(config['resume_ckpt'], map_location='cpu'))\n",
    "\n",
    "    # Move model to specified device\n",
    "    model.to(device)\n",
    "\n",
    "    # Create folder for saving checkpoints\n",
    "    Path(f'./runs/{config[\"experiment_name\"]}').mkdir(exist_ok=True, parents=True)\n",
    "\n",
    "    # Start training\n",
    "    train(model, train_dataloader, val_dataloader, device, config)"
   ]
  },
  {
   "cell_type": "code",
   "execution_count": null,
   "id": "e40b80cb",
   "metadata": {},
   "outputs": [],
   "source": [
    "config = {\n",
    "\"experiment_name\": 'test_1',\n",
    "\"is_overfit\": False,\n",
    "\"device\": 'cuda:0',\n",
    "\"max_epochs\": 1,\n",
    "\"train_batch_size\": 4,\n",
    "\"val_batch_size\": 1,\n",
    "\"learning_rate\": 0.0001,\n",
    "\"resume_ckpt\": False,\n",
    "\"print_every_n\": 1,\n",
    "\"validate_every_n\": 1 \n",
    "}"
   ]
  },
  {
   "cell_type": "code",
   "execution_count": null,
   "id": "3635a310",
   "metadata": {},
   "outputs": [],
   "source": [
    "# main(config)"
   ]
  },
  {
   "cell_type": "code",
   "execution_count": null,
   "id": "5aacb3ba",
   "metadata": {},
   "outputs": [],
   "source": [
    "import h5py\n",
    "\n",
    "data = h5py.File('shapenet_prepared.h5')"
   ]
  },
  {
   "cell_type": "code",
   "execution_count": null,
   "id": "414bb6a1",
   "metadata": {},
   "outputs": [],
   "source": [
    "data.keys()"
   ]
  },
  {
   "cell_type": "code",
   "execution_count": null,
   "id": "1bcc3dbb",
   "metadata": {},
   "outputs": [],
   "source": [
    "data['x_train']"
   ]
  },
  {
   "cell_type": "code",
   "execution_count": null,
   "id": "af2ddf1e",
   "metadata": {},
   "outputs": [],
   "source": [
    "data['p_train']"
   ]
  },
  {
   "cell_type": "code",
   "execution_count": null,
   "id": "d145c89b",
   "metadata": {},
   "outputs": [],
   "source": [
    "data['s_train']"
   ]
  },
  {
   "cell_type": "code",
   "execution_count": null,
   "id": "6aba4570",
   "metadata": {},
   "outputs": [],
   "source": [
    "data['y_train']"
   ]
  },
  {
   "cell_type": "code",
   "execution_count": null,
   "id": "9a5dd7d6",
   "metadata": {},
   "outputs": [],
   "source": [
    "from dataset import ShapeNetPartDataset\n",
    "\n",
    "train_dataset = ShapeNetPartDataset(path = 'shapenet_prepared.h5', split = 'train' if not config['is_overfit'] else 'overfit')\n"
   ]
  },
  {
   "cell_type": "code",
   "execution_count": null,
   "id": "78eca585",
   "metadata": {},
   "outputs": [],
   "source": [
    "train_dataloader = torch.utils.data.DataLoader(\n",
    "    train_dataset,  \n",
    "    batch_size=2,\n",
    "    shuffle=True,    # Shuffling the order of samples is useful during training to prevent that the network learns to depend on the order of the input data\n",
    "    num_workers=4,   # Data is usually loaded in parallel by num_workers\n",
    "    pin_memory=True,  # This is an implementation detail to speed up data uploading to the GPU\n",
    ")\n"
   ]
  },
  {
   "cell_type": "code",
   "execution_count": null,
   "id": "a0eab984",
   "metadata": {},
   "outputs": [],
   "source": [
    "d = None\n",
    "for idx,i in enumerate(train_dataloader):\n",
    "    d = i\n",
    "    print(i.keys())\n",
    "    break"
   ]
  },
  {
   "cell_type": "code",
   "execution_count": null,
   "id": "0383139d",
   "metadata": {},
   "outputs": [],
   "source": [
    "d.keys()"
   ]
  },
  {
   "cell_type": "code",
   "execution_count": 17,
   "id": "dcec652f",
   "metadata": {},
   "outputs": [],
   "source": [
    "device = 'cuda:0'"
   ]
  },
  {
   "cell_type": "code",
   "execution_count": 30,
   "id": "0788f0d0",
   "metadata": {},
   "outputs": [
    {
     "data": {
      "text/plain": [
       "MultiSacleUNet(\n",
       "  (inception_1): Inception(\n",
       "    (cv1): Conv2d(3, 64, kernel_size=(1, 1), stride=(1, 1), padding=same)\n",
       "    (cv2): Conv2d(3, 64, kernel_size=(3, 3), stride=(1, 1), padding=same)\n",
       "    (relu): ReLU()\n",
       "  )\n",
       "  (inception_2): Inception(\n",
       "    (cv1): Conv2d(128, 128, kernel_size=(1, 1), stride=(1, 1), padding=same)\n",
       "    (cv2): Conv2d(128, 128, kernel_size=(3, 3), stride=(1, 1), padding=same)\n",
       "    (relu): ReLU()\n",
       "  )\n",
       "  (inception_3): Inception(\n",
       "    (cv1): Conv2d(512, 128, kernel_size=(1, 1), stride=(1, 1), padding=same)\n",
       "    (cv2): Conv2d(512, 128, kernel_size=(3, 3), stride=(1, 1), padding=same)\n",
       "    (relu): ReLU()\n",
       "  )\n",
       "  (inception_4): Inception(\n",
       "    (cv1): Conv2d(384, 64, kernel_size=(1, 1), stride=(1, 1), padding=same)\n",
       "    (cv2): Conv2d(384, 64, kernel_size=(3, 3), stride=(1, 1), padding=same)\n",
       "    (relu): ReLU()\n",
       "  )\n",
       "  (maxPool_1): MaxPool2d(kernel_size=16, stride=16, padding=(1, 1), dilation=1, ceil_mode=False)\n",
       "  (maxPool_2): MaxPool2d(kernel_size=16, stride=16, padding=(1, 1), dilation=1, ceil_mode=False)\n",
       "  (upSample_1): Upsample(size=16, mode=nearest)\n",
       "  (upSample_2): Upsample(size=16, mode=nearest)\n",
       "  (fc1): Linear(in_features=256, out_features=256, bias=True)\n",
       "  (fc2): Linear(in_features=128, out_features=50, bias=True)\n",
       "  (relu): ReLU()\n",
       "  (softmax): Softmax(dim=None)\n",
       ")"
      ]
     },
     "execution_count": 30,
     "metadata": {},
     "output_type": "execute_result"
    }
   ],
   "source": [
    "model = MultiSacleUNet()\n",
    "model.to(device)"
   ]
  },
  {
   "cell_type": "code",
   "execution_count": 31,
   "id": "670cda03",
   "metadata": {},
   "outputs": [
    {
     "data": {
      "text/plain": [
       "CrossEntropyLoss()"
      ]
     },
     "execution_count": 31,
     "metadata": {},
     "output_type": "execute_result"
    }
   ],
   "source": [
    "# Declare loss and move to device;     \n",
    "loss = nn.CrossEntropyLoss()\n",
    "loss.to(device)"
   ]
  },
  {
   "cell_type": "code",
   "execution_count": 32,
   "id": "c7935cb6",
   "metadata": {},
   "outputs": [],
   "source": [
    "# Declare optimizer with learning rate given in config\n",
    "optimizer = torch.optim.Adam(model.parameters(), lr=config['learning_rate'])\n",
    "# set optimizer gradients to zero, perform forward pass\n",
    "optimizer.zero_grad()"
   ]
  },
  {
   "cell_type": "code",
   "execution_count": 33,
   "id": "621c91cb",
   "metadata": {},
   "outputs": [
    {
     "data": {
      "text/plain": [
       "MultiSacleUNet(\n",
       "  (inception_1): Inception(\n",
       "    (cv1): Conv2d(3, 64, kernel_size=(1, 1), stride=(1, 1), padding=same)\n",
       "    (cv2): Conv2d(3, 64, kernel_size=(3, 3), stride=(1, 1), padding=same)\n",
       "    (relu): ReLU()\n",
       "  )\n",
       "  (inception_2): Inception(\n",
       "    (cv1): Conv2d(128, 128, kernel_size=(1, 1), stride=(1, 1), padding=same)\n",
       "    (cv2): Conv2d(128, 128, kernel_size=(3, 3), stride=(1, 1), padding=same)\n",
       "    (relu): ReLU()\n",
       "  )\n",
       "  (inception_3): Inception(\n",
       "    (cv1): Conv2d(512, 128, kernel_size=(1, 1), stride=(1, 1), padding=same)\n",
       "    (cv2): Conv2d(512, 128, kernel_size=(3, 3), stride=(1, 1), padding=same)\n",
       "    (relu): ReLU()\n",
       "  )\n",
       "  (inception_4): Inception(\n",
       "    (cv1): Conv2d(384, 64, kernel_size=(1, 1), stride=(1, 1), padding=same)\n",
       "    (cv2): Conv2d(384, 64, kernel_size=(3, 3), stride=(1, 1), padding=same)\n",
       "    (relu): ReLU()\n",
       "  )\n",
       "  (maxPool_1): MaxPool2d(kernel_size=16, stride=16, padding=(1, 1), dilation=1, ceil_mode=False)\n",
       "  (maxPool_2): MaxPool2d(kernel_size=16, stride=16, padding=(1, 1), dilation=1, ceil_mode=False)\n",
       "  (upSample_1): Upsample(size=16, mode=nearest)\n",
       "  (upSample_2): Upsample(size=16, mode=nearest)\n",
       "  (fc1): Linear(in_features=256, out_features=256, bias=True)\n",
       "  (fc2): Linear(in_features=128, out_features=50, bias=True)\n",
       "  (relu): ReLU()\n",
       "  (softmax): Softmax(dim=None)\n",
       ")"
      ]
     },
     "execution_count": 33,
     "metadata": {},
     "output_type": "execute_result"
    }
   ],
   "source": [
    "# TODO: Set model to train\n",
    "model.train()"
   ]
  },
  {
   "cell_type": "code",
   "execution_count": 40,
   "id": "a2cf12f2",
   "metadata": {},
   "outputs": [],
   "source": [
    "d[\"3d_points\"] = d[\"3d_points\"].to(device)\n",
    "d[\"part_label\"] = d[\"part_label\"].to(device)"
   ]
  },
  {
   "cell_type": "code",
   "execution_count": 41,
   "id": "89b19f0f",
   "metadata": {},
   "outputs": [
    {
     "name": "stdout",
     "output_type": "stream",
     "text": [
      "input to forward pass torch.Size([4, 3, 256, 256])\n"
     ]
    },
    {
     "ename": "RuntimeError",
     "evalue": "CUDA out of memory. Tried to allocate 64.00 MiB (GPU 0; 1.96 GiB total capacity; 1.34 GiB already allocated; 40.12 MiB free; 1.35 GiB reserved in total by PyTorch) If reserved memory is >> allocated memory try setting max_split_size_mb to avoid fragmentation.  See documentation for Memory Management and PYTORCH_CUDA_ALLOC_CONF",
     "output_type": "error",
     "traceback": [
      "\u001b[0;31m---------------------------------------------------------------------------\u001b[0m",
      "\u001b[0;31mRuntimeError\u001b[0m                              Traceback (most recent call last)",
      "Input \u001b[0;32mIn [41]\u001b[0m, in \u001b[0;36m<cell line: 1>\u001b[0;34m()\u001b[0m\n\u001b[0;32m----> 1\u001b[0m predicted_part_label \u001b[38;5;241m=\u001b[39m \u001b[43mmodel\u001b[49m\u001b[43m(\u001b[49m\u001b[43md\u001b[49m\u001b[43m[\u001b[49m\u001b[38;5;124;43m'\u001b[39;49m\u001b[38;5;124;43m3d_points\u001b[39;49m\u001b[38;5;124;43m'\u001b[39;49m\u001b[43m]\u001b[49m\u001b[43m)\u001b[49m\n",
      "File \u001b[0;32m~/anaconda3/envs/3d-seg-in-2d/lib/python3.10/site-packages/torch/nn/modules/module.py:1130\u001b[0m, in \u001b[0;36mModule._call_impl\u001b[0;34m(self, *input, **kwargs)\u001b[0m\n\u001b[1;32m   1126\u001b[0m \u001b[38;5;66;03m# If we don't have any hooks, we want to skip the rest of the logic in\u001b[39;00m\n\u001b[1;32m   1127\u001b[0m \u001b[38;5;66;03m# this function, and just call forward.\u001b[39;00m\n\u001b[1;32m   1128\u001b[0m \u001b[38;5;28;01mif\u001b[39;00m \u001b[38;5;129;01mnot\u001b[39;00m (\u001b[38;5;28mself\u001b[39m\u001b[38;5;241m.\u001b[39m_backward_hooks \u001b[38;5;129;01mor\u001b[39;00m \u001b[38;5;28mself\u001b[39m\u001b[38;5;241m.\u001b[39m_forward_hooks \u001b[38;5;129;01mor\u001b[39;00m \u001b[38;5;28mself\u001b[39m\u001b[38;5;241m.\u001b[39m_forward_pre_hooks \u001b[38;5;129;01mor\u001b[39;00m _global_backward_hooks\n\u001b[1;32m   1129\u001b[0m         \u001b[38;5;129;01mor\u001b[39;00m _global_forward_hooks \u001b[38;5;129;01mor\u001b[39;00m _global_forward_pre_hooks):\n\u001b[0;32m-> 1130\u001b[0m     \u001b[38;5;28;01mreturn\u001b[39;00m \u001b[43mforward_call\u001b[49m\u001b[43m(\u001b[49m\u001b[38;5;241;43m*\u001b[39;49m\u001b[38;5;28;43minput\u001b[39;49m\u001b[43m,\u001b[49m\u001b[43m \u001b[49m\u001b[38;5;241;43m*\u001b[39;49m\u001b[38;5;241;43m*\u001b[39;49m\u001b[43mkwargs\u001b[49m\u001b[43m)\u001b[49m\n\u001b[1;32m   1131\u001b[0m \u001b[38;5;66;03m# Do not call functions when jit is used\u001b[39;00m\n\u001b[1;32m   1132\u001b[0m full_backward_hooks, non_full_backward_hooks \u001b[38;5;241m=\u001b[39m [], []\n",
      "File \u001b[0;32m~/Desktop/ss21/ML3D/project/3d-segmentation-in-2d/model.py:59\u001b[0m, in \u001b[0;36mMultiSacleUNet.forward\u001b[0;34m(self, x)\u001b[0m\n\u001b[1;32m     57\u001b[0m \u001b[38;5;28;01mdef\u001b[39;00m \u001b[38;5;21mforward\u001b[39m(\u001b[38;5;28mself\u001b[39m, x):\n\u001b[1;32m     58\u001b[0m     \u001b[38;5;28mprint\u001b[39m(\u001b[38;5;124m\"\u001b[39m\u001b[38;5;124minput to forward pass\u001b[39m\u001b[38;5;124m\"\u001b[39m,x\u001b[38;5;241m.\u001b[39mshape)\n\u001b[0;32m---> 59\u001b[0m     x0 \u001b[38;5;241m=\u001b[39m \u001b[38;5;28;43mself\u001b[39;49m\u001b[38;5;241;43m.\u001b[39;49m\u001b[43minception_1\u001b[49m\u001b[43m(\u001b[49m\u001b[43mx\u001b[49m\u001b[43m)\u001b[49m\n\u001b[1;32m     60\u001b[0m     \u001b[38;5;28mprint\u001b[39m(\u001b[38;5;124m\"\u001b[39m\u001b[38;5;124mafter inception 1\u001b[39m\u001b[38;5;124m\"\u001b[39m,x0\u001b[38;5;241m.\u001b[39mshape)\n\u001b[1;32m     61\u001b[0m     x1 \u001b[38;5;241m=\u001b[39m \u001b[38;5;28mself\u001b[39m\u001b[38;5;241m.\u001b[39mmaxPool_1(x0)\n",
      "File \u001b[0;32m~/anaconda3/envs/3d-seg-in-2d/lib/python3.10/site-packages/torch/nn/modules/module.py:1130\u001b[0m, in \u001b[0;36mModule._call_impl\u001b[0;34m(self, *input, **kwargs)\u001b[0m\n\u001b[1;32m   1126\u001b[0m \u001b[38;5;66;03m# If we don't have any hooks, we want to skip the rest of the logic in\u001b[39;00m\n\u001b[1;32m   1127\u001b[0m \u001b[38;5;66;03m# this function, and just call forward.\u001b[39;00m\n\u001b[1;32m   1128\u001b[0m \u001b[38;5;28;01mif\u001b[39;00m \u001b[38;5;129;01mnot\u001b[39;00m (\u001b[38;5;28mself\u001b[39m\u001b[38;5;241m.\u001b[39m_backward_hooks \u001b[38;5;129;01mor\u001b[39;00m \u001b[38;5;28mself\u001b[39m\u001b[38;5;241m.\u001b[39m_forward_hooks \u001b[38;5;129;01mor\u001b[39;00m \u001b[38;5;28mself\u001b[39m\u001b[38;5;241m.\u001b[39m_forward_pre_hooks \u001b[38;5;129;01mor\u001b[39;00m _global_backward_hooks\n\u001b[1;32m   1129\u001b[0m         \u001b[38;5;129;01mor\u001b[39;00m _global_forward_hooks \u001b[38;5;129;01mor\u001b[39;00m _global_forward_pre_hooks):\n\u001b[0;32m-> 1130\u001b[0m     \u001b[38;5;28;01mreturn\u001b[39;00m \u001b[43mforward_call\u001b[49m\u001b[43m(\u001b[49m\u001b[38;5;241;43m*\u001b[39;49m\u001b[38;5;28;43minput\u001b[39;49m\u001b[43m,\u001b[49m\u001b[43m \u001b[49m\u001b[38;5;241;43m*\u001b[39;49m\u001b[38;5;241;43m*\u001b[39;49m\u001b[43mkwargs\u001b[49m\u001b[43m)\u001b[49m\n\u001b[1;32m   1131\u001b[0m \u001b[38;5;66;03m# Do not call functions when jit is used\u001b[39;00m\n\u001b[1;32m   1132\u001b[0m full_backward_hooks, non_full_backward_hooks \u001b[38;5;241m=\u001b[39m [], []\n",
      "File \u001b[0;32m~/Desktop/ss21/ML3D/project/3d-segmentation-in-2d/model.py:22\u001b[0m, in \u001b[0;36mInception.forward\u001b[0;34m(self, x)\u001b[0m\n\u001b[1;32m     21\u001b[0m \u001b[38;5;28;01mdef\u001b[39;00m \u001b[38;5;21mforward\u001b[39m(\u001b[38;5;28mself\u001b[39m, x):\n\u001b[0;32m---> 22\u001b[0m     x0 \u001b[38;5;241m=\u001b[39m \u001b[38;5;28;43mself\u001b[39;49m\u001b[38;5;241;43m.\u001b[39;49m\u001b[43mcv1\u001b[49m\u001b[43m(\u001b[49m\u001b[43mx\u001b[49m\u001b[43m)\u001b[49m\n\u001b[1;32m     23\u001b[0m     x0 \u001b[38;5;241m=\u001b[39m \u001b[38;5;28mself\u001b[39m\u001b[38;5;241m.\u001b[39mrelu(x0)\n\u001b[1;32m     25\u001b[0m     x1 \u001b[38;5;241m=\u001b[39m \u001b[38;5;28mself\u001b[39m\u001b[38;5;241m.\u001b[39mcv2(x)\n",
      "File \u001b[0;32m~/anaconda3/envs/3d-seg-in-2d/lib/python3.10/site-packages/torch/nn/modules/module.py:1130\u001b[0m, in \u001b[0;36mModule._call_impl\u001b[0;34m(self, *input, **kwargs)\u001b[0m\n\u001b[1;32m   1126\u001b[0m \u001b[38;5;66;03m# If we don't have any hooks, we want to skip the rest of the logic in\u001b[39;00m\n\u001b[1;32m   1127\u001b[0m \u001b[38;5;66;03m# this function, and just call forward.\u001b[39;00m\n\u001b[1;32m   1128\u001b[0m \u001b[38;5;28;01mif\u001b[39;00m \u001b[38;5;129;01mnot\u001b[39;00m (\u001b[38;5;28mself\u001b[39m\u001b[38;5;241m.\u001b[39m_backward_hooks \u001b[38;5;129;01mor\u001b[39;00m \u001b[38;5;28mself\u001b[39m\u001b[38;5;241m.\u001b[39m_forward_hooks \u001b[38;5;129;01mor\u001b[39;00m \u001b[38;5;28mself\u001b[39m\u001b[38;5;241m.\u001b[39m_forward_pre_hooks \u001b[38;5;129;01mor\u001b[39;00m _global_backward_hooks\n\u001b[1;32m   1129\u001b[0m         \u001b[38;5;129;01mor\u001b[39;00m _global_forward_hooks \u001b[38;5;129;01mor\u001b[39;00m _global_forward_pre_hooks):\n\u001b[0;32m-> 1130\u001b[0m     \u001b[38;5;28;01mreturn\u001b[39;00m \u001b[43mforward_call\u001b[49m\u001b[43m(\u001b[49m\u001b[38;5;241;43m*\u001b[39;49m\u001b[38;5;28;43minput\u001b[39;49m\u001b[43m,\u001b[49m\u001b[43m \u001b[49m\u001b[38;5;241;43m*\u001b[39;49m\u001b[38;5;241;43m*\u001b[39;49m\u001b[43mkwargs\u001b[49m\u001b[43m)\u001b[49m\n\u001b[1;32m   1131\u001b[0m \u001b[38;5;66;03m# Do not call functions when jit is used\u001b[39;00m\n\u001b[1;32m   1132\u001b[0m full_backward_hooks, non_full_backward_hooks \u001b[38;5;241m=\u001b[39m [], []\n",
      "File \u001b[0;32m~/anaconda3/envs/3d-seg-in-2d/lib/python3.10/site-packages/torch/nn/modules/conv.py:457\u001b[0m, in \u001b[0;36mConv2d.forward\u001b[0;34m(self, input)\u001b[0m\n\u001b[1;32m    456\u001b[0m \u001b[38;5;28;01mdef\u001b[39;00m \u001b[38;5;21mforward\u001b[39m(\u001b[38;5;28mself\u001b[39m, \u001b[38;5;28minput\u001b[39m: Tensor) \u001b[38;5;241m-\u001b[39m\u001b[38;5;241m>\u001b[39m Tensor:\n\u001b[0;32m--> 457\u001b[0m     \u001b[38;5;28;01mreturn\u001b[39;00m \u001b[38;5;28;43mself\u001b[39;49m\u001b[38;5;241;43m.\u001b[39;49m\u001b[43m_conv_forward\u001b[49m\u001b[43m(\u001b[49m\u001b[38;5;28;43minput\u001b[39;49m\u001b[43m,\u001b[49m\u001b[43m \u001b[49m\u001b[38;5;28;43mself\u001b[39;49m\u001b[38;5;241;43m.\u001b[39;49m\u001b[43mweight\u001b[49m\u001b[43m,\u001b[49m\u001b[43m \u001b[49m\u001b[38;5;28;43mself\u001b[39;49m\u001b[38;5;241;43m.\u001b[39;49m\u001b[43mbias\u001b[49m\u001b[43m)\u001b[49m\n",
      "File \u001b[0;32m~/anaconda3/envs/3d-seg-in-2d/lib/python3.10/site-packages/torch/nn/modules/conv.py:453\u001b[0m, in \u001b[0;36mConv2d._conv_forward\u001b[0;34m(self, input, weight, bias)\u001b[0m\n\u001b[1;32m    449\u001b[0m \u001b[38;5;28;01mif\u001b[39;00m \u001b[38;5;28mself\u001b[39m\u001b[38;5;241m.\u001b[39mpadding_mode \u001b[38;5;241m!=\u001b[39m \u001b[38;5;124m'\u001b[39m\u001b[38;5;124mzeros\u001b[39m\u001b[38;5;124m'\u001b[39m:\n\u001b[1;32m    450\u001b[0m     \u001b[38;5;28;01mreturn\u001b[39;00m F\u001b[38;5;241m.\u001b[39mconv2d(F\u001b[38;5;241m.\u001b[39mpad(\u001b[38;5;28minput\u001b[39m, \u001b[38;5;28mself\u001b[39m\u001b[38;5;241m.\u001b[39m_reversed_padding_repeated_twice, mode\u001b[38;5;241m=\u001b[39m\u001b[38;5;28mself\u001b[39m\u001b[38;5;241m.\u001b[39mpadding_mode),\n\u001b[1;32m    451\u001b[0m                     weight, bias, \u001b[38;5;28mself\u001b[39m\u001b[38;5;241m.\u001b[39mstride,\n\u001b[1;32m    452\u001b[0m                     _pair(\u001b[38;5;241m0\u001b[39m), \u001b[38;5;28mself\u001b[39m\u001b[38;5;241m.\u001b[39mdilation, \u001b[38;5;28mself\u001b[39m\u001b[38;5;241m.\u001b[39mgroups)\n\u001b[0;32m--> 453\u001b[0m \u001b[38;5;28;01mreturn\u001b[39;00m \u001b[43mF\u001b[49m\u001b[38;5;241;43m.\u001b[39;49m\u001b[43mconv2d\u001b[49m\u001b[43m(\u001b[49m\u001b[38;5;28;43minput\u001b[39;49m\u001b[43m,\u001b[49m\u001b[43m \u001b[49m\u001b[43mweight\u001b[49m\u001b[43m,\u001b[49m\u001b[43m \u001b[49m\u001b[43mbias\u001b[49m\u001b[43m,\u001b[49m\u001b[43m \u001b[49m\u001b[38;5;28;43mself\u001b[39;49m\u001b[38;5;241;43m.\u001b[39;49m\u001b[43mstride\u001b[49m\u001b[43m,\u001b[49m\n\u001b[1;32m    454\u001b[0m \u001b[43m                \u001b[49m\u001b[38;5;28;43mself\u001b[39;49m\u001b[38;5;241;43m.\u001b[39;49m\u001b[43mpadding\u001b[49m\u001b[43m,\u001b[49m\u001b[43m \u001b[49m\u001b[38;5;28;43mself\u001b[39;49m\u001b[38;5;241;43m.\u001b[39;49m\u001b[43mdilation\u001b[49m\u001b[43m,\u001b[49m\u001b[43m \u001b[49m\u001b[38;5;28;43mself\u001b[39;49m\u001b[38;5;241;43m.\u001b[39;49m\u001b[43mgroups\u001b[49m\u001b[43m)\u001b[49m\n",
      "\u001b[0;31mRuntimeError\u001b[0m: CUDA out of memory. Tried to allocate 64.00 MiB (GPU 0; 1.96 GiB total capacity; 1.34 GiB already allocated; 40.12 MiB free; 1.35 GiB reserved in total by PyTorch) If reserved memory is >> allocated memory try setting max_split_size_mb to avoid fragmentation.  See documentation for Memory Management and PYTORCH_CUDA_ALLOC_CONF"
     ]
    }
   ],
   "source": [
    "predicted_part_label = model(d['3d_points'])"
   ]
  },
  {
   "cell_type": "code",
   "execution_count": null,
   "id": "054618be",
   "metadata": {},
   "outputs": [],
   "source": [
    "# Compute loss, Compute gradients, Update network parameters\n",
    "loss = loss(predicted_part_label, batch['part_label'])  \n",
    "\n",
    "loss.backward()\n",
    "\n",
    "optimizer.step()"
   ]
  },
  {
   "cell_type": "code",
   "execution_count": null,
   "id": "d6a9744a",
   "metadata": {},
   "outputs": [],
   "source": [
    "# Logging\n",
    "train_loss_running += loss.item()\n",
    "iteration = epoch * len(train_dataloader) + batch_idx"
   ]
  }
 ],
 "metadata": {
  "kernelspec": {
   "display_name": "Python [conda env:3d-seg-in-2d]",
   "language": "python",
   "name": "conda-env-3d-seg-in-2d-py"
  },
  "language_info": {
   "codemirror_mode": {
    "name": "ipython",
    "version": 3
   },
   "file_extension": ".py",
   "mimetype": "text/x-python",
   "name": "python",
   "nbconvert_exporter": "python",
   "pygments_lexer": "ipython3",
   "version": "3.10.5"
  }
 },
 "nbformat": 4,
 "nbformat_minor": 5
}
