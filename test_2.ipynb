{
  "cells": [
    {
      "cell_type": "code",
      "source": [
        "from google.colab import drive\n",
        "drive.mount('/content/drive')"
      ],
      "metadata": {
        "colab": {
          "base_uri": "https://localhost:8080/"
        },
        "id": "UEHhslM8Ubw_",
        "outputId": "da9f0b67-1943-42ab-c79b-68287f71e943"
      },
      "execution_count": null,
      "outputs": [
        {
          "output_type": "stream",
          "name": "stdout",
          "text": [
            "Mounted at /content/drive\n"
          ]
        }
      ]
    },
    {
      "cell_type": "code",
      "source": [
        "! unzip /content/drive/MyDrive/3d-machine-learning/shapenet_prepared.h5.zip -d  /content/"
      ],
      "metadata": {
        "colab": {
          "base_uri": "https://localhost:8080/"
        },
        "id": "EJbsj0PXU5Vv",
        "outputId": "39c79fe9-ece6-459c-b387-4ed68971c868"
      },
      "execution_count": null,
      "outputs": [
        {
          "output_type": "stream",
          "name": "stdout",
          "text": [
            "Archive:  /content/drive/MyDrive/3d-machine-learning/shapenet_prepared.h5.zip\n",
            "  inflating: /content/shapenet_prepared.h5  \n"
          ]
        }
      ]
    },
    {
      "cell_type": "code",
      "source": [
        "!python train_UNet.py"
      ],
      "metadata": {
        "colab": {
          "base_uri": "https://localhost:8080/"
        },
        "id": "c64vAt9HWFDG",
        "outputId": "3ad9db35-c51b-4498-e0b8-a6e78c33d21c"
      },
      "execution_count": null,
      "outputs": [
        {
          "output_type": "stream",
          "name": "stdout",
          "text": [
            "Using device: cuda:0\n",
            "[000/00000] train_loss: 3.933707\n",
            "[001/00000] train_loss: 3.931664\n",
            "[002/00000] train_loss: 3.929264\n",
            "[003/00000] train_loss: 3.926023\n",
            "[004/00000] train_loss: 3.921690\n",
            "[005/00000] train_loss: 3.916083\n",
            "[006/00000] train_loss: 3.908959\n",
            "[007/00000] train_loss: 3.900022\n",
            "[008/00000] train_loss: 3.888931\n",
            "[009/00000] train_loss: 3.875306\n",
            "[010/00000] train_loss: 3.858685\n",
            "[011/00000] train_loss: 3.838520\n",
            "[012/00000] train_loss: 3.814269\n",
            "[013/00000] train_loss: 3.785334\n",
            "[014/00000] train_loss: 3.751064\n",
            "[015/00000] train_loss: 3.710809\n",
            "[016/00000] train_loss: 3.662699\n",
            "[017/00000] train_loss: 3.607651\n",
            "[018/00000] train_loss: 3.544725\n",
            "[019/00000] train_loss: 3.474028\n",
            "[019/00000] val_loss: 3.396160 | best_val_loss: 3.396160\n",
            "[020/00000] train_loss: 3.396160\n",
            "[021/00000] train_loss: 3.312090\n",
            "[022/00000] train_loss: 3.223574\n",
            "[023/00000] train_loss: 3.133108\n",
            "[024/00000] train_loss: 3.043346\n",
            "[025/00000] train_loss: 2.956525\n",
            "[026/00000] train_loss: 2.873831\n",
            "[027/00000] train_loss: 2.795231\n",
            "[028/00000] train_loss: 2.719909\n",
            "[029/00000] train_loss: 2.647233\n",
            "[030/00000] train_loss: 2.576724\n",
            "[031/00000] train_loss: 2.508332\n",
            "[032/00000] train_loss: 2.442110\n",
            "[033/00000] train_loss: 2.377857\n",
            "[034/00000] train_loss: 2.314679\n",
            "[035/00000] train_loss: 2.251313\n",
            "[036/00000] train_loss: 2.186659\n",
            "[037/00000] train_loss: 2.120144\n",
            "[038/00000] train_loss: 2.051894\n",
            "[039/00000] train_loss: 1.982512\n",
            "[039/00000] val_loss: 1.912942 | best_val_loss: 1.912942\n",
            "[040/00000] train_loss: 1.912942\n",
            "[041/00000] train_loss: 1.844158\n",
            "[042/00000] train_loss: 1.776974\n",
            "[043/00000] train_loss: 1.711900\n",
            "[044/00000] train_loss: 1.649128\n",
            "[045/00000] train_loss: 1.588568\n",
            "[046/00000] train_loss: 1.529907\n",
            "[047/00000] train_loss: 1.472769\n",
            "[048/00000] train_loss: 1.416819\n",
            "[049/00000] train_loss: 1.361842\n",
            "[050/00000] train_loss: 1.307756\n",
            "[051/00000] train_loss: 1.254635\n",
            "[052/00000] train_loss: 1.202630\n",
            "[053/00000] train_loss: 1.151907\n",
            "[054/00000] train_loss: 1.102598\n",
            "[055/00000] train_loss: 1.054800\n",
            "[056/00000] train_loss: 1.008531\n",
            "[057/00000] train_loss: 0.963782\n",
            "[058/00000] train_loss: 0.920507\n",
            "[059/00000] train_loss: 0.878654\n",
            "[059/00000] val_loss: 0.838172 | best_val_loss: 0.838172\n",
            "[060/00000] train_loss: 0.838172\n",
            "[061/00000] train_loss: 0.799057\n",
            "[062/00000] train_loss: 0.761384\n",
            "[063/00000] train_loss: 0.725321\n",
            "[064/00000] train_loss: 0.691088\n",
            "[065/00000] train_loss: 0.658885\n",
            "[066/00000] train_loss: 0.628824\n",
            "[067/00000] train_loss: 0.600924\n",
            "[068/00000] train_loss: 0.575126\n",
            "[069/00000] train_loss: 0.551347\n",
            "[070/00000] train_loss: 0.529490\n",
            "[071/00000] train_loss: 0.509437\n",
            "[072/00000] train_loss: 0.491076\n",
            "[073/00000] train_loss: 0.474315\n",
            "[074/00000] train_loss: 0.459139\n",
            "[075/00000] train_loss: 0.445574\n",
            "[076/00000] train_loss: 0.433613\n",
            "[077/00000] train_loss: 0.423180\n",
            "[078/00000] train_loss: 0.414140\n",
            "[079/00000] train_loss: 0.406310\n",
            "[079/00000] val_loss: 0.399508 | best_val_loss: 0.399508\n",
            "[080/00000] train_loss: 0.399508\n",
            "[081/00000] train_loss: 0.393563\n",
            "[082/00000] train_loss: 0.388322\n",
            "[083/00000] train_loss: 0.383668\n",
            "[084/00000] train_loss: 0.379498\n",
            "[085/00000] train_loss: 0.375727\n",
            "[086/00000] train_loss: 0.372274\n",
            "[087/00000] train_loss: 0.369077\n",
            "[088/00000] train_loss: 0.366077\n",
            "[089/00000] train_loss: 0.363238\n",
            "[090/00000] train_loss: 0.360537\n",
            "[091/00000] train_loss: 0.357958\n",
            "[092/00000] train_loss: 0.355500\n",
            "[093/00000] train_loss: 0.353157\n",
            "[094/00000] train_loss: 0.350923\n",
            "[095/00000] train_loss: 0.348796\n",
            "[096/00000] train_loss: 0.346762\n",
            "[097/00000] train_loss: 0.344812\n",
            "[098/00000] train_loss: 0.342934\n",
            "[099/00000] train_loss: 0.341119\n",
            "[099/00000] val_loss: 0.339358 | best_val_loss: 0.339358\n"
          ]
        }
      ]
    },
    {
      "cell_type": "code",
      "execution_count": null,
      "metadata": {
        "id": "Etr0C3CRUJhm"
      },
      "outputs": [],
      "source": [
        "#FOR OVERFIT #######################################################################\n",
        "####################################################################################\n",
        "####################################################################################\n",
        "import torch\n",
        "import numpy as np\n",
        "from dataset import ShapeNetPartDataset\n",
        "from model import MultiSacleUNet\n",
        "import h5py\n",
        "\n",
        "class_name = np.genfromtxt('all_object_categories.txt',dtype='U')[:,0]\n",
        "\n",
        "dataset_path = \"shapenet_prepared.h5\"\n",
        "f = h5py.File(dataset_path,'r')\n",
        "x_test = f['x_val'][0]\n",
        "y_test = f['y_val'][0]\n",
        "s_test = f['s_val'][0]\n",
        "p_test = f['p_val'][0]\n",
        "\n",
        "# give the location of your pre-trained model\n",
        "ckpt = \"/content/runs/temp_model_1/model.ckpt\"\n",
        "model = MultiSacleUNet()\n",
        "model.load_state_dict(torch.load(ckpt, map_location='cpu'))\n",
        "model.eval()\n",
        "\n",
        "#holds the class specific labels, will 12,13,14 in overfit case\n",
        "class_label_region = np.zeros((1,2),dtype=np.int64)\n",
        "\n",
        "label_min = s_test.min()\n",
        "label_max = s_test.max()\n",
        "\n",
        "# this double indexing is from the test script for multiple examples, not necessary to change since the rest works according to this\n",
        "class_label_region[0,0] = label_min\n",
        "class_label_region[0,1] = label_max\n",
        "\n",
        "# testing for multiple examples normally reads from the h5 files in these lines but it's not necessary for a single example\n",
        "x_set = x_test # point cloud position in 3D\n",
        "y_set = y_test # point cloud shape class\n",
        "s_set = s_test # point cloud segments\n",
        "p_set = p_test # 2D position\n",
        "pre_set = np.zeros((1,2048,1))"
      ]
    },
    {
      "cell_type": "code",
      "execution_count": null,
      "metadata": {
        "id": "gztLjUbmUJhp",
        "colab": {
          "base_uri": "https://localhost:8080/"
        },
        "outputId": "96555d6d-24da-49cf-9473-8e28d566135b"
      },
      "outputs": [
        {
          "output_type": "execute_result",
          "data": {
            "text/plain": [
              "(2048,)"
            ]
          },
          "metadata": {},
          "execution_count": 47
        }
      ],
      "source": [
        "#need to have shapenet_prepared.h5 file ready under same directory with this file\n",
        "test_dataset = ShapeNetPartDataset(\n",
        "    path='shapenet_prepared.h5',\n",
        "    split='overfit'\n",
        "    )\n",
        "pre_test = np.zeros_like(s_test)\n",
        "pre_test.shape"
      ]
    },
    {
      "cell_type": "code",
      "execution_count": null,
      "metadata": {
        "id": "hgD4Ov3lUJhr",
        "colab": {
          "base_uri": "https://localhost:8080/"
        },
        "outputId": "551f8f28-b94f-468c-ebd2-7d0bb1c705fd"
      },
      "outputs": [
        {
          "output_type": "stream",
          "name": "stdout",
          "text": [
            "(2048,)\n"
          ]
        },
        {
          "output_type": "execute_result",
          "data": {
            "text/plain": [
              "(0, 4)"
            ]
          },
          "metadata": {},
          "execution_count": 48
        }
      ],
      "source": [
        "pre_sample = np.zeros_like(pre_test)\n",
        "print(pre_sample.shape)\n",
        "#getting class specific min and max labels, it's actually same with the lines 149-150 in overfit case. \n",
        "#I'll change it once we figure out proper training\n",
        "label_min = int(class_label_region[0,0])\n",
        "label_max = int(class_label_region[0,1]+1)\n",
        "\n",
        "label_min, label_max"
      ]
    },
    {
      "cell_type": "code",
      "source": [
        "test_dataloader = torch.utils.data.DataLoader(\n",
        "    test_dataset,  \n",
        "    batch_size=1,\n",
        ")\n"
      ],
      "metadata": {
        "id": "raZTvVo-14Rz"
      },
      "execution_count": null,
      "outputs": []
    },
    {
      "cell_type": "code",
      "source": [
        "for idx,i in enumerate(test_dataloader):\n",
        "  input_tensor = i[\"3d_points\"]\n",
        "  input_label = i[\"part_label\"]"
      ],
      "metadata": {
        "id": "sXtQypz92E-k"
      },
      "execution_count": null,
      "outputs": []
    },
    {
      "cell_type": "code",
      "source": [
        "input_tensor.shape, input_label.shape"
      ],
      "metadata": {
        "colab": {
          "base_uri": "https://localhost:8080/"
        },
        "id": "cm0qb580fqQU",
        "outputId": "9ab65c86-4e73-4509-892c-013d9ad8d64d"
      },
      "execution_count": null,
      "outputs": [
        {
          "output_type": "execute_result",
          "data": {
            "text/plain": [
              "(torch.Size([1, 3, 256, 256]), torch.Size([1, 256, 256]))"
            ]
          },
          "metadata": {},
          "execution_count": 51
        }
      ]
    },
    {
      "cell_type": "code",
      "source": [
        "pre_image = model(input_tensor)\n",
        "pre_image.shape"
      ],
      "metadata": {
        "colab": {
          "base_uri": "https://localhost:8080/"
        },
        "id": "5sAm8c1ufy6w",
        "outputId": "895013c8-f86e-44d6-d77d-ef577d803503"
      },
      "execution_count": null,
      "outputs": [
        {
          "output_type": "execute_result",
          "data": {
            "text/plain": [
              "torch.Size([1, 51, 256, 256])"
            ]
          },
          "metadata": {},
          "execution_count": 52
        }
      ]
    },
    {
      "cell_type": "code",
      "source": [
        "torch.nn.CrossEntropyLoss()(pre_image, input_label)"
      ],
      "metadata": {
        "colab": {
          "base_uri": "https://localhost:8080/"
        },
        "id": "84muT08alfUV",
        "outputId": "4fe9f03b-d362-4ad5-b6d4-be85ee0f9e9d"
      },
      "execution_count": null,
      "outputs": [
        {
          "output_type": "execute_result",
          "data": {
            "text/plain": [
              "tensor(0.3394, grad_fn=<NllLoss2DBackward0>)"
            ]
          },
          "metadata": {},
          "execution_count": 53
        }
      ]
    },
    {
      "cell_type": "code",
      "source": [
        "pre_image[:,label_min:label_max,:,:].argmax(1)\n"
      ],
      "metadata": {
        "colab": {
          "base_uri": "https://localhost:8080/"
        },
        "id": "DKA2_niwt_hi",
        "outputId": "e9351a23-5795-49ab-c312-e44db842fa7e"
      },
      "execution_count": null,
      "outputs": [
        {
          "output_type": "execute_result",
          "data": {
            "text/plain": [
              "tensor([[[3, 2, 1,  ..., 3, 2, 3],\n",
              "         [2, 1, 0,  ..., 2, 3, 2],\n",
              "         [1, 0, 3,  ..., 3, 2, 1],\n",
              "         ...,\n",
              "         [3, 2, 3,  ..., 0, 3, 3],\n",
              "         [2, 3, 2,  ..., 3, 3, 2],\n",
              "         [3, 2, 1,  ..., 3, 2, 3]]])"
            ]
          },
          "metadata": {},
          "execution_count": 54
        }
      ]
    },
    {
      "cell_type": "code",
      "source": [
        "pre_image = pre_image[:,:,:,:].argmax(1)+label_min\n",
        "pre_image.shape"
      ],
      "metadata": {
        "colab": {
          "base_uri": "https://localhost:8080/"
        },
        "id": "HhL-joxMdkcN",
        "outputId": "7095d65d-8e7a-4248-d0cc-01ef7225b7d1"
      },
      "execution_count": null,
      "outputs": [
        {
          "output_type": "execute_result",
          "data": {
            "text/plain": [
              "torch.Size([1, 256, 256])"
            ]
          },
          "metadata": {},
          "execution_count": 55
        }
      ]
    },
    {
      "cell_type": "code",
      "source": [
        "pre_image, input_label"
      ],
      "metadata": {
        "colab": {
          "base_uri": "https://localhost:8080/"
        },
        "id": "gZU4KT-hm9Dc",
        "outputId": "2e408780-0632-4a54-8c5e-f51288017012"
      },
      "execution_count": null,
      "outputs": [
        {
          "output_type": "execute_result",
          "data": {
            "text/plain": [
              "(tensor([[[13, 50, 50,  ..., 50, 50, 13],\n",
              "          [50, 50, 50,  ..., 50, 13, 50],\n",
              "          [50, 50, 50,  ..., 13, 50, 50],\n",
              "          ...,\n",
              "          [50, 50, 49,  ..., 50, 50, 50],\n",
              "          [50, 49, 50,  ..., 50, 50, 50],\n",
              "          [49, 50, 50,  ..., 50, 50, 49]]]),\n",
              " tensor([[[50, 50, 50,  ..., 50, 50, 50],\n",
              "          [50, 50, 50,  ..., 50, 50, 50],\n",
              "          [50, 50, 50,  ..., 50, 50, 50],\n",
              "          ...,\n",
              "          [50, 50, 50,  ..., 50, 50, 50],\n",
              "          [50, 50, 50,  ..., 50, 50, 50],\n",
              "          [50, 50, 50,  ..., 50, 50, 50]]]))"
            ]
          },
          "metadata": {},
          "execution_count": 56
        }
      ]
    },
    {
      "cell_type": "code",
      "source": [
        "np.bincount(pre_image.flatten())"
      ],
      "metadata": {
        "colab": {
          "base_uri": "https://localhost:8080/"
        },
        "id": "H0kO4_BCz2mK",
        "outputId": "c898a2ee-b502-4537-ac32-4ae35104b7b2"
      },
      "execution_count": null,
      "outputs": [
        {
          "output_type": "execute_result",
          "data": {
            "text/plain": [
              "array([  456,   319,     0,     0,     0,     0,     0,     0,     0,\n",
              "           0,     0,     0,     0,   262,     0,     0,     0,     0,\n",
              "           0,     0,     0,     0,     0,     0,     0,     0,     0,\n",
              "           0,     0,     0,     0,     0,     0,     0,     0,     0,\n",
              "           0,     0,     0,     0,     0,     0,     0,     0,     0,\n",
              "           0,     0,     0,     0,   252, 64247])"
            ]
          },
          "metadata": {},
          "execution_count": 57
        }
      ]
    },
    {
      "cell_type": "code",
      "source": [
        "np.bincount(input_label.flatten())\n"
      ],
      "metadata": {
        "colab": {
          "base_uri": "https://localhost:8080/"
        },
        "id": "JDoBTFcX0VOQ",
        "outputId": "ba4cf93b-5194-410f-a3e7-e0a282eb9a40"
      },
      "execution_count": null,
      "outputs": [
        {
          "output_type": "execute_result",
          "data": {
            "text/plain": [
              "array([  952,   648,   257,   191,     0,     0,     0,     0,     0,\n",
              "           0,     0,     0,     0,     0,     0,     0,     0,     0,\n",
              "           0,     0,     0,     0,     0,     0,     0,     0,     0,\n",
              "           0,     0,     0,     0,     0,     0,     0,     0,     0,\n",
              "           0,     0,     0,     0,     0,     0,     0,     0,     0,\n",
              "           0,     0,     0,     0,     0, 63488])"
            ]
          },
          "metadata": {},
          "execution_count": 31
        }
      ]
    },
    {
      "cell_type": "code",
      "source": [
        "pre_sample = pre_image[:,p_test[:,0],p_test[:,1]]\n",
        "pre_sample = pre_sample[0]\n",
        "pre_sample.shape"
      ],
      "metadata": {
        "colab": {
          "base_uri": "https://localhost:8080/"
        },
        "id": "h9BAAac2dkeZ",
        "outputId": "bd74c784-9e00-4318-fb5d-4e0bb5cf9cd3"
      },
      "execution_count": null,
      "outputs": [
        {
          "output_type": "execute_result",
          "data": {
            "text/plain": [
              "torch.Size([2048])"
            ]
          },
          "metadata": {},
          "execution_count": 505
        }
      ]
    },
    {
      "cell_type": "code",
      "execution_count": null,
      "metadata": {
        "colab": {
          "base_uri": "https://localhost:8080/"
        },
        "id": "5lHPTEDjUJhw",
        "outputId": "243a9b74-af78-450c-8d35-5285a8e88db0"
      },
      "outputs": [
        {
          "output_type": "execute_result",
          "data": {
            "text/plain": [
              "tensor([50, 50, 50,  ..., 50, 50, 50])"
            ]
          },
          "metadata": {},
          "execution_count": 506
        }
      ],
      "source": [
        "pre_sample"
      ]
    },
    {
      "cell_type": "code",
      "source": [
        "pre_test = pre_sample"
      ],
      "metadata": {
        "id": "mPNjsqSHoDvZ"
      },
      "execution_count": null,
      "outputs": []
    },
    {
      "cell_type": "code",
      "source": [
        "pre_test"
      ],
      "metadata": {
        "colab": {
          "base_uri": "https://localhost:8080/"
        },
        "id": "-I4bqfZ-oJaN",
        "outputId": "a2fe2311-5c59-4337-8007-1cfa96d10a18"
      },
      "execution_count": null,
      "outputs": [
        {
          "output_type": "execute_result",
          "data": {
            "text/plain": [
              "tensor([50, 50, 50,  ..., 50, 50, 50])"
            ]
          },
          "metadata": {},
          "execution_count": 508
        }
      ]
    },
    {
      "cell_type": "code",
      "execution_count": null,
      "metadata": {
        "id": "OtWtTnIEUJhx",
        "colab": {
          "base_uri": "https://localhost:8080/"
        },
        "outputId": "5c9f08c8-b629-42ac-c99a-8253e0e5e20a"
      },
      "outputs": [
        {
          "output_type": "stream",
          "name": "stdout",
          "text": [
            "class: 0 number of points: 11\n",
            "class: 1 number of points: 10\n",
            "class: 9 number of points: 3\n",
            "class: 50 number of points: 2024\n"
          ]
        },
        {
          "output_type": "execute_result",
          "data": {
            "text/plain": [
              "[tensor(0.0042), tensor(0.0077), tensor(3.3333e-13), tensor(4.9407e-16)]"
            ]
          },
          "metadata": {},
          "execution_count": 509
        }
      ],
      "source": [
        "#iou calculation, will only calculate one class which is chair for overfit example\n",
        "iou_shape = np.zeros(len(s_test))\n",
        "#for idx_sample,pos,obj_class in zip(range(0,len(p_test)),p_test,y_test):\n",
        "\n",
        "label_min = int(class_label_region[0,0])\n",
        "label_max = int(class_label_region[0,1]+1)\n",
        "iou_list = []\n",
        "_pre = pre_test\n",
        "gt_sample = s_test\n",
        "# % for each segment, calculate iou\n",
        "for i_class in range(0,51):\n",
        "    # break\n",
        "    if len(np.where(_pre == i_class)[0]) == 0:\n",
        "      continue\n",
        "    print(\"class:\",i_class,\"number of points:\",len(np.where(_pre == i_class)[0]))\n",
        "    tp = torch.sum( (_pre == i_class) * (gt_sample == i_class) )\n",
        "    fp = torch.sum( (_pre == i_class) * (gt_sample != i_class) )\n",
        "    fn = torch.sum( (_pre != i_class) * (gt_sample == i_class) )\n",
        "\n",
        "    # % if current segment exists then count the iou\n",
        "    iou = (tp+1e-12) / (tp+fp+fn+1e-12)\n",
        "\n",
        "    iou_list.append(iou)\n",
        "\n",
        "iou_shape[0] = np.mean(iou_list)\n",
        "iou_list"
      ]
    },
    {
      "cell_type": "code",
      "execution_count": null,
      "metadata": {
        "colab": {
          "base_uri": "https://localhost:8080/"
        },
        "id": "y92QtjYjUJhz",
        "outputId": "ec4edd9c-7b8b-4773-bac4-070a2fe967c9"
      },
      "outputs": [
        {
          "output_type": "stream",
          "name": "stdout",
          "text": [
            "iou_instance = 0.0029569948092103004\n"
          ]
        }
      ],
      "source": [
        "print( 'iou_instance =', iou_shape[0].mean())\n"
      ]
    },
    {
      "cell_type": "code",
      "execution_count": null,
      "metadata": {
        "id": "VOHuDPl2UJh0"
      },
      "outputs": [],
      "source": [
        "# %%\n",
        "#VISUALIZATION\n",
        "#visualizatin normally will be a different script by itself but just for this overfit sample visualization\n",
        "#the code is copied to here so some repetition of the code might be seen, not a problem, will be fixed\n",
        "# install plotly first then it might give an error while plotting, something about \"nb\", only need to update some package then restart, it fixed for me\n",
        "import numpy as np\n",
        "import seaborn as sns\n",
        "import plotly.graph_objects as go\n",
        "\n",
        "current_palette = sns.color_palette('bright',10)\n",
        "#\"all_object_categories.txt\" should also be under the same directory with this script\n",
        "class_name = np.genfromtxt('all_object_categories.txt',dtype='U')[:,0]"
      ]
    },
    {
      "cell_type": "code",
      "execution_count": null,
      "metadata": {
        "id": "hmjGUeg0UJh4"
      },
      "outputs": [],
      "source": [
        "label_min = s_test.min()\n",
        "label_max = s_test.max()\n",
        "x_pt = x_set\n",
        "s_pt = s_set-label_min\n",
        "pre_pt = pre_sample-label_min"
      ]
    },
    {
      "cell_type": "code",
      "source": [
        "pre_pt"
      ],
      "metadata": {
        "colab": {
          "base_uri": "https://localhost:8080/"
        },
        "id": "OpsBzI72vwNf",
        "outputId": "31f55cef-2036-406b-a7a6-aa50810057d3"
      },
      "execution_count": null,
      "outputs": [
        {
          "output_type": "execute_result",
          "data": {
            "text/plain": [
              "tensor([50, 50, 50,  ..., 50, 50, 50])"
            ]
          },
          "metadata": {},
          "execution_count": 516
        }
      ]
    },
    {
      "cell_type": "code",
      "execution_count": null,
      "metadata": {
        "colab": {
          "base_uri": "https://localhost:8080/"
        },
        "id": "3afIKAApUJh4",
        "outputId": "7a1d4624-f1e4-490c-d5ef-dde2c6d78ca1"
      },
      "outputs": [
        {
          "output_type": "stream",
          "name": "stdout",
          "text": [
            "10\n",
            "0\n",
            "0\n",
            "0\n",
            "0\n",
            "0\n",
            "0\n",
            "0\n",
            "3\n",
            "0\n",
            "0\n",
            "0\n",
            "0\n",
            "0\n",
            "0\n",
            "0\n",
            "0\n",
            "0\n",
            "0\n",
            "0\n",
            "0\n",
            "0\n",
            "0\n",
            "0\n",
            "0\n",
            "0\n",
            "0\n",
            "0\n",
            "0\n",
            "0\n",
            "0\n",
            "0\n",
            "0\n",
            "0\n",
            "0\n",
            "0\n",
            "0\n",
            "0\n",
            "0\n",
            "0\n",
            "0\n",
            "0\n",
            "0\n",
            "0\n",
            "0\n",
            "0\n",
            "0\n",
            "0\n",
            "0\n",
            "2024\n"
          ]
        }
      ],
      "source": [
        "for i_seg in range(1,51):\n",
        "    idxs = np.where(pre_pt == i_seg)[0]\n",
        "    print(len(idxs))\n"
      ]
    },
    {
      "cell_type": "code",
      "execution_count": null,
      "metadata": {
        "colab": {
          "base_uri": "https://localhost:8080/",
          "height": 542
        },
        "id": "_4J1osQqUJh6",
        "outputId": "b91e3c7d-6dfe-4458-e6bc-80df4bb4bf0f"
      },
      "outputs": [
        {
          "output_type": "display_data",
          "data": {
            "text/html": [
              "<html>\n",
              "<head><meta charset=\"utf-8\" /></head>\n",
              "<body>\n",
              "    <div>            <script src=\"https://cdnjs.cloudflare.com/ajax/libs/mathjax/2.7.5/MathJax.js?config=TeX-AMS-MML_SVG\"></script><script type=\"text/javascript\">if (window.MathJax) {MathJax.Hub.Config({SVG: {font: \"STIX-Web\"}});}</script>                <script type=\"text/javascript\">window.PlotlyConfig = {MathJaxConfig: 'local'};</script>\n",
              "        <script src=\"https://cdn.plot.ly/plotly-2.8.3.min.js\"></script>                <div id=\"9b5f5e91-7f9c-4cfa-930d-4ab9c0921df0\" class=\"plotly-graph-div\" style=\"height:525px; width:100%;\"></div>            <script type=\"text/javascript\">                                    window.PLOTLYENV=window.PLOTLYENV || {};                                    if (document.getElementById(\"9b5f5e91-7f9c-4cfa-930d-4ab9c0921df0\")) {                    Plotly.newPlot(                        \"9b5f5e91-7f9c-4cfa-930d-4ab9c0921df0\",                        [{\"marker\":{\"color\":\"#023eff\"},\"mode\":\"markers\",\"x\":[0.5204683542251587,0.15046362578868866,0.13758565485477448,0.6196261644363403,-0.8175857067108154,0.6024214029312134,-0.8185586333274841,0.12527094781398773,0.5878024697303772,0.18346501886844635,0.1450871378183365],\"y\":[0.08806177973747253,-0.010251135565340519,-0.014424305409193039,0.0995316207408905,0.3067312240600586,0.04704686254262924,0.40345674753189087,-0.04811697453260422,0.088983453810215,-0.010199927724897861,-0.004874642472714186],\"z\":[0.045884180814027786,-0.1385805457830429,-0.07713497430086136,0.013625256717205048,0.006533414591103792,0.07798949629068375,-0.00022559780336450785,0.1290661245584488,-0.03612005338072777,-0.1133110523223877,0.36565715074539185],\"type\":\"scatter3d\"},{\"marker\":{\"color\":\"#ff7c00\"},\"mode\":\"markers\",\"x\":[0.08371837437152863,0.08784035593271255,0.12900888919830322,-0.37192609906196594,0.11280260980129242,0.07754822075366974,-0.015465011820197105,-0.456644207239151,0.15192295610904694,-0.3936881124973297],\"y\":[0.0043933941051363945,0.002780450973659754,0.0003482275933492929,-0.06565455347299576,-0.007742105517536402,-0.019493572413921356,-0.07346326112747192,0.045664332807064056,-0.06693467497825623,0.003266897751018405],\"z\":[0.3818378150463104,-0.3456265330314636,0.38048088550567627,0.05079982429742813,0.4195500612258911,0.3166543245315552,-0.06361693888902664,-0.06896783411502838,-0.29841580986976624,-0.07580364495515823],\"type\":\"scatter3d\"},{\"marker\":{\"color\":\"#1ac938\"},\"mode\":\"markers\",\"x\":[-0.014543325640261173,0.08215663582086563,0.10811738669872284],\"y\":[-0.00705083878710866,0.007107243873178959,0.004572615027427673],\"z\":[-0.38369715213775635,-0.4664950668811798,-0.3905330002307892],\"type\":\"scatter3d\"}],                        {\"template\":{\"data\":{\"bar\":[{\"error_x\":{\"color\":\"#2a3f5f\"},\"error_y\":{\"color\":\"#2a3f5f\"},\"marker\":{\"line\":{\"color\":\"#E5ECF6\",\"width\":0.5},\"pattern\":{\"fillmode\":\"overlay\",\"size\":10,\"solidity\":0.2}},\"type\":\"bar\"}],\"barpolar\":[{\"marker\":{\"line\":{\"color\":\"#E5ECF6\",\"width\":0.5},\"pattern\":{\"fillmode\":\"overlay\",\"size\":10,\"solidity\":0.2}},\"type\":\"barpolar\"}],\"carpet\":[{\"aaxis\":{\"endlinecolor\":\"#2a3f5f\",\"gridcolor\":\"white\",\"linecolor\":\"white\",\"minorgridcolor\":\"white\",\"startlinecolor\":\"#2a3f5f\"},\"baxis\":{\"endlinecolor\":\"#2a3f5f\",\"gridcolor\":\"white\",\"linecolor\":\"white\",\"minorgridcolor\":\"white\",\"startlinecolor\":\"#2a3f5f\"},\"type\":\"carpet\"}],\"choropleth\":[{\"colorbar\":{\"outlinewidth\":0,\"ticks\":\"\"},\"type\":\"choropleth\"}],\"contour\":[{\"colorbar\":{\"outlinewidth\":0,\"ticks\":\"\"},\"colorscale\":[[0.0,\"#0d0887\"],[0.1111111111111111,\"#46039f\"],[0.2222222222222222,\"#7201a8\"],[0.3333333333333333,\"#9c179e\"],[0.4444444444444444,\"#bd3786\"],[0.5555555555555556,\"#d8576b\"],[0.6666666666666666,\"#ed7953\"],[0.7777777777777778,\"#fb9f3a\"],[0.8888888888888888,\"#fdca26\"],[1.0,\"#f0f921\"]],\"type\":\"contour\"}],\"contourcarpet\":[{\"colorbar\":{\"outlinewidth\":0,\"ticks\":\"\"},\"type\":\"contourcarpet\"}],\"heatmap\":[{\"colorbar\":{\"outlinewidth\":0,\"ticks\":\"\"},\"colorscale\":[[0.0,\"#0d0887\"],[0.1111111111111111,\"#46039f\"],[0.2222222222222222,\"#7201a8\"],[0.3333333333333333,\"#9c179e\"],[0.4444444444444444,\"#bd3786\"],[0.5555555555555556,\"#d8576b\"],[0.6666666666666666,\"#ed7953\"],[0.7777777777777778,\"#fb9f3a\"],[0.8888888888888888,\"#fdca26\"],[1.0,\"#f0f921\"]],\"type\":\"heatmap\"}],\"heatmapgl\":[{\"colorbar\":{\"outlinewidth\":0,\"ticks\":\"\"},\"colorscale\":[[0.0,\"#0d0887\"],[0.1111111111111111,\"#46039f\"],[0.2222222222222222,\"#7201a8\"],[0.3333333333333333,\"#9c179e\"],[0.4444444444444444,\"#bd3786\"],[0.5555555555555556,\"#d8576b\"],[0.6666666666666666,\"#ed7953\"],[0.7777777777777778,\"#fb9f3a\"],[0.8888888888888888,\"#fdca26\"],[1.0,\"#f0f921\"]],\"type\":\"heatmapgl\"}],\"histogram\":[{\"marker\":{\"pattern\":{\"fillmode\":\"overlay\",\"size\":10,\"solidity\":0.2}},\"type\":\"histogram\"}],\"histogram2d\":[{\"colorbar\":{\"outlinewidth\":0,\"ticks\":\"\"},\"colorscale\":[[0.0,\"#0d0887\"],[0.1111111111111111,\"#46039f\"],[0.2222222222222222,\"#7201a8\"],[0.3333333333333333,\"#9c179e\"],[0.4444444444444444,\"#bd3786\"],[0.5555555555555556,\"#d8576b\"],[0.6666666666666666,\"#ed7953\"],[0.7777777777777778,\"#fb9f3a\"],[0.8888888888888888,\"#fdca26\"],[1.0,\"#f0f921\"]],\"type\":\"histogram2d\"}],\"histogram2dcontour\":[{\"colorbar\":{\"outlinewidth\":0,\"ticks\":\"\"},\"colorscale\":[[0.0,\"#0d0887\"],[0.1111111111111111,\"#46039f\"],[0.2222222222222222,\"#7201a8\"],[0.3333333333333333,\"#9c179e\"],[0.4444444444444444,\"#bd3786\"],[0.5555555555555556,\"#d8576b\"],[0.6666666666666666,\"#ed7953\"],[0.7777777777777778,\"#fb9f3a\"],[0.8888888888888888,\"#fdca26\"],[1.0,\"#f0f921\"]],\"type\":\"histogram2dcontour\"}],\"mesh3d\":[{\"colorbar\":{\"outlinewidth\":0,\"ticks\":\"\"},\"type\":\"mesh3d\"}],\"parcoords\":[{\"line\":{\"colorbar\":{\"outlinewidth\":0,\"ticks\":\"\"}},\"type\":\"parcoords\"}],\"pie\":[{\"automargin\":true,\"type\":\"pie\"}],\"scatter\":[{\"marker\":{\"colorbar\":{\"outlinewidth\":0,\"ticks\":\"\"}},\"type\":\"scatter\"}],\"scatter3d\":[{\"line\":{\"colorbar\":{\"outlinewidth\":0,\"ticks\":\"\"}},\"marker\":{\"colorbar\":{\"outlinewidth\":0,\"ticks\":\"\"}},\"type\":\"scatter3d\"}],\"scattercarpet\":[{\"marker\":{\"colorbar\":{\"outlinewidth\":0,\"ticks\":\"\"}},\"type\":\"scattercarpet\"}],\"scattergeo\":[{\"marker\":{\"colorbar\":{\"outlinewidth\":0,\"ticks\":\"\"}},\"type\":\"scattergeo\"}],\"scattergl\":[{\"marker\":{\"colorbar\":{\"outlinewidth\":0,\"ticks\":\"\"}},\"type\":\"scattergl\"}],\"scattermapbox\":[{\"marker\":{\"colorbar\":{\"outlinewidth\":0,\"ticks\":\"\"}},\"type\":\"scattermapbox\"}],\"scatterpolar\":[{\"marker\":{\"colorbar\":{\"outlinewidth\":0,\"ticks\":\"\"}},\"type\":\"scatterpolar\"}],\"scatterpolargl\":[{\"marker\":{\"colorbar\":{\"outlinewidth\":0,\"ticks\":\"\"}},\"type\":\"scatterpolargl\"}],\"scatterternary\":[{\"marker\":{\"colorbar\":{\"outlinewidth\":0,\"ticks\":\"\"}},\"type\":\"scatterternary\"}],\"surface\":[{\"colorbar\":{\"outlinewidth\":0,\"ticks\":\"\"},\"colorscale\":[[0.0,\"#0d0887\"],[0.1111111111111111,\"#46039f\"],[0.2222222222222222,\"#7201a8\"],[0.3333333333333333,\"#9c179e\"],[0.4444444444444444,\"#bd3786\"],[0.5555555555555556,\"#d8576b\"],[0.6666666666666666,\"#ed7953\"],[0.7777777777777778,\"#fb9f3a\"],[0.8888888888888888,\"#fdca26\"],[1.0,\"#f0f921\"]],\"type\":\"surface\"}],\"table\":[{\"cells\":{\"fill\":{\"color\":\"#EBF0F8\"},\"line\":{\"color\":\"white\"}},\"header\":{\"fill\":{\"color\":\"#C8D4E3\"},\"line\":{\"color\":\"white\"}},\"type\":\"table\"}]},\"layout\":{\"annotationdefaults\":{\"arrowcolor\":\"#2a3f5f\",\"arrowhead\":0,\"arrowwidth\":1},\"autotypenumbers\":\"strict\",\"coloraxis\":{\"colorbar\":{\"outlinewidth\":0,\"ticks\":\"\"}},\"colorscale\":{\"diverging\":[[0,\"#8e0152\"],[0.1,\"#c51b7d\"],[0.2,\"#de77ae\"],[0.3,\"#f1b6da\"],[0.4,\"#fde0ef\"],[0.5,\"#f7f7f7\"],[0.6,\"#e6f5d0\"],[0.7,\"#b8e186\"],[0.8,\"#7fbc41\"],[0.9,\"#4d9221\"],[1,\"#276419\"]],\"sequential\":[[0.0,\"#0d0887\"],[0.1111111111111111,\"#46039f\"],[0.2222222222222222,\"#7201a8\"],[0.3333333333333333,\"#9c179e\"],[0.4444444444444444,\"#bd3786\"],[0.5555555555555556,\"#d8576b\"],[0.6666666666666666,\"#ed7953\"],[0.7777777777777778,\"#fb9f3a\"],[0.8888888888888888,\"#fdca26\"],[1.0,\"#f0f921\"]],\"sequentialminus\":[[0.0,\"#0d0887\"],[0.1111111111111111,\"#46039f\"],[0.2222222222222222,\"#7201a8\"],[0.3333333333333333,\"#9c179e\"],[0.4444444444444444,\"#bd3786\"],[0.5555555555555556,\"#d8576b\"],[0.6666666666666666,\"#ed7953\"],[0.7777777777777778,\"#fb9f3a\"],[0.8888888888888888,\"#fdca26\"],[1.0,\"#f0f921\"]]},\"colorway\":[\"#636efa\",\"#EF553B\",\"#00cc96\",\"#ab63fa\",\"#FFA15A\",\"#19d3f3\",\"#FF6692\",\"#B6E880\",\"#FF97FF\",\"#FECB52\"],\"font\":{\"color\":\"#2a3f5f\"},\"geo\":{\"bgcolor\":\"white\",\"lakecolor\":\"white\",\"landcolor\":\"#E5ECF6\",\"showlakes\":true,\"showland\":true,\"subunitcolor\":\"white\"},\"hoverlabel\":{\"align\":\"left\"},\"hovermode\":\"closest\",\"mapbox\":{\"style\":\"light\"},\"paper_bgcolor\":\"white\",\"plot_bgcolor\":\"#E5ECF6\",\"polar\":{\"angularaxis\":{\"gridcolor\":\"white\",\"linecolor\":\"white\",\"ticks\":\"\"},\"bgcolor\":\"#E5ECF6\",\"radialaxis\":{\"gridcolor\":\"white\",\"linecolor\":\"white\",\"ticks\":\"\"}},\"scene\":{\"xaxis\":{\"backgroundcolor\":\"#E5ECF6\",\"gridcolor\":\"white\",\"gridwidth\":2,\"linecolor\":\"white\",\"showbackground\":true,\"ticks\":\"\",\"zerolinecolor\":\"white\"},\"yaxis\":{\"backgroundcolor\":\"#E5ECF6\",\"gridcolor\":\"white\",\"gridwidth\":2,\"linecolor\":\"white\",\"showbackground\":true,\"ticks\":\"\",\"zerolinecolor\":\"white\"},\"zaxis\":{\"backgroundcolor\":\"#E5ECF6\",\"gridcolor\":\"white\",\"gridwidth\":2,\"linecolor\":\"white\",\"showbackground\":true,\"ticks\":\"\",\"zerolinecolor\":\"white\"}},\"shapedefaults\":{\"line\":{\"color\":\"#2a3f5f\"}},\"ternary\":{\"aaxis\":{\"gridcolor\":\"white\",\"linecolor\":\"white\",\"ticks\":\"\"},\"baxis\":{\"gridcolor\":\"white\",\"linecolor\":\"white\",\"ticks\":\"\"},\"bgcolor\":\"#E5ECF6\",\"caxis\":{\"gridcolor\":\"white\",\"linecolor\":\"white\",\"ticks\":\"\"}},\"title\":{\"x\":0.05},\"xaxis\":{\"automargin\":true,\"gridcolor\":\"white\",\"linecolor\":\"white\",\"ticks\":\"\",\"title\":{\"standoff\":15},\"zerolinecolor\":\"white\",\"zerolinewidth\":2},\"yaxis\":{\"automargin\":true,\"gridcolor\":\"white\",\"linecolor\":\"white\",\"ticks\":\"\",\"title\":{\"standoff\":15},\"zerolinecolor\":\"white\",\"zerolinewidth\":2}}}},                        {\"responsive\": true}                    ).then(function(){\n",
              "                            \n",
              "var gd = document.getElementById('9b5f5e91-7f9c-4cfa-930d-4ab9c0921df0');\n",
              "var x = new MutationObserver(function (mutations, observer) {{\n",
              "        var display = window.getComputedStyle(gd).display;\n",
              "        if (!display || display === 'none') {{\n",
              "            console.log([gd, 'removed!']);\n",
              "            Plotly.purge(gd);\n",
              "            observer.disconnect();\n",
              "        }}\n",
              "}});\n",
              "\n",
              "// Listen for the removal of the full notebook cells\n",
              "var notebookContainer = gd.closest('#notebook-container');\n",
              "if (notebookContainer) {{\n",
              "    x.observe(notebookContainer, {childList: true});\n",
              "}}\n",
              "\n",
              "// Listen for the clearing of the current output cell\n",
              "var outputEl = gd.closest('.output');\n",
              "if (outputEl) {{\n",
              "    x.observe(outputEl, {childList: true});\n",
              "}}\n",
              "\n",
              "                        })                };                            </script>        </div>\n",
              "</body>\n",
              "</html>"
            ]
          },
          "metadata": {}
        }
      ],
      "source": [
        "#for prediction\n",
        "fig = go.Figure()\n",
        "k = -1\n",
        "for i_seg in range(50):\n",
        "    idxs = np.where(pre_pt == i_seg)[0]\n",
        "    if len(idxs) == 0:\n",
        "      continue\n",
        "    else:\n",
        "      k += 1\n",
        "    color = current_palette.as_hex()[k]\n",
        "    fig.add_trace(go.Scatter3d(x=x_pt[idxs,0], y=x_pt[idxs,1], z=x_pt[idxs,2],\n",
        "                                   mode='markers',\n",
        "                                   marker = dict(color = color )))\n",
        "    \n",
        "fig.show()"
      ]
    },
    {
      "cell_type": "code",
      "execution_count": null,
      "metadata": {
        "colab": {
          "base_uri": "https://localhost:8080/",
          "height": 542
        },
        "id": "dmFtxrd4UJh5",
        "outputId": "593a895b-e10c-4c5c-9ef1-4f1e92f3fa3f"
      },
      "outputs": [
        {
          "output_type": "display_data",
          "data": {
            "text/html": [
              "<html>\n",
              "<head><meta charset=\"utf-8\" /></head>\n",
              "<body>\n",
              "    <div>            <script src=\"https://cdnjs.cloudflare.com/ajax/libs/mathjax/2.7.5/MathJax.js?config=TeX-AMS-MML_SVG\"></script><script type=\"text/javascript\">if (window.MathJax) {MathJax.Hub.Config({SVG: {font: \"STIX-Web\"}});}</script>                <script type=\"text/javascript\">window.PlotlyConfig = {MathJaxConfig: 'local'};</script>\n",
              "        <script src=\"https://cdn.plot.ly/plotly-2.8.3.min.js\"></script>                <div id=\"a486e8d3-f4bc-4046-832e-4de2acd5b04a\" class=\"plotly-graph-div\" style=\"height:525px; width:100%;\"></div>            <script type=\"text/javascript\">                                    window.PLOTLYENV=window.PLOTLYENV || {};                                    if (document.getElementById(\"a486e8d3-f4bc-4046-832e-4de2acd5b04a\")) {                    Plotly.newPlot(                        \"a486e8d3-f4bc-4046-832e-4de2acd5b04a\",                        [{\"marker\":{\"color\":\"#023eff\"},\"mode\":\"markers\",\"x\":[-0.4745146334171295,-0.7991520166397095,0.5667317509651184,-0.2736388146877289,0.787602961063385,0.023604128509759903,-0.41260820627212524,0.835991382598877,0.10455866903066635,-0.3852905333042145,0.0691506564617157,-0.5216740965843201,-0.6423377990722656,0.2543834447860718,0.0012789025204256177,-0.006581006571650505,-0.2696192264556885,0.2975233495235443,0.6711892485618591,0.2920956611633301,0.30279743671417236,0.19350111484527588,0.11597730219364166,0.625386655330658,0.26019516587257385,-0.5462267398834229,0.01771559566259384,-0.06843621283769608,0.7948228716850281,-0.5396469235420227,-0.42323318123817444,-0.31229832768440247,-0.145012766122818,0.5373659133911133,0.1753234714269638,0.13825131952762604,0.24731720983982086,0.19547250866889954,0.9821037650108337,0.15202537178993225,-0.20970982313156128,-0.4788670241832733,-0.09316805005073547,-0.28329089283943176,0.5777663588523865,0.060753095895051956,-0.21429263055324554,0.18190327286720276,-0.36191561818122864,0.35676711797714233,0.6377525925636292,0.01786920800805092,0.8313573002815247,-0.18920236825942993,-0.00542890140786767,0.6347571015357971,0.38672181963920593,0.5204683542251587,0.6696018576622009,0.9698147177696228,-0.0022542136721313,0.20548301935195923,-0.7592124342918396,0.4113512635231018,0.39606669545173645,0.4772772490978241,0.5204683542251587,0.0890948623418808,0.026522792875766754,-0.3748447895050049,0.34711503982543945,0.8391148447990417,0.44084516167640686,0.8593406677246094,0.7663018107414246,-0.26114487648010254,-0.0964195504784584,0.1535359025001526,-0.05909136310219765,0.4582803249359131,-0.8031204342842102,-0.3148329555988312,-0.44752976298332214,0.378273069858551,0.43933460116386414,0.8231902122497559,0.8069583773612976,0.12442606687545776,0.3541557192802429,0.01605144515633583,0.7341452836990356,0.03458752483129501,-0.575106143951416,0.16787320375442505,-0.07580968737602234,-0.13876578211784363,0.04316430166363716,0.2783728241920471,0.17903581261634827,0.5301204323768616,0.762563943862915,-0.2423015683889389,-0.07115005701780319,0.031156813725829124,0.19398757815361023,0.258070170879364,0.06228923425078392,-0.3884652256965637,0.1518973559141159,0.04692784324288368,-0.12783360481262207,-0.19729270040988922,-0.6352204084396362,0.38833481073379517,0.6293806433677673,0.9418057203292847,0.24713799357414246,0.04029684141278267,0.19529329240322113,0.9068073630332947,0.7281287908554077,0.9127471446990967,0.3694402873516083,-0.5279978513717651,0.45771709084510803,-0.1356935054063797,-0.5078232288360596,-0.38943809270858765,0.11759024858474731,0.25246328115463257,-0.048850443214178085,0.5487332940101624,0.9499216675758362,0.8321766257286072,0.5482981204986572,0.3829326927661896,0.8046541810035706,0.4989624321460724,-0.8103914260864258,-0.004276796709746122,-0.34276506304740906,0.03991280496120453,0.24811089038848877,0.8364010453224182,-0.4204937517642975,-0.04672544449567795,-0.1294209510087967,-0.1954493224620819,0.2745068669319153,0.1716623455286026,0.7474329471588135,-0.3962995409965515,0.7861436605453491,0.42307713627815247,-0.5283051133155823,0.6740822196006775,0.11892157047986984,0.33999761939048767,-0.40339136123657227,0.12813840806484222,0.31680190563201904,-0.47809895873069763,0.7229059338569641,-0.3120422959327698,-0.18815265595912933,0.8457202911376953,-0.17153675854206085,0.7615653872489929,-0.3586641252040863,-0.19119933247566223,-0.3165227174758911,0.4353918731212616,-0.5743124485015869,-0.17857739329338074,0.5932045578956604,0.25166958570480347,-0.7456175684928894,-0.7492530941963196,0.7326604127883911,-0.2665981948375702,0.6659663319587708,-0.4769980311393738,0.4042850434780121,0.4330108165740967,-0.1836722493171692,-0.36132678389549255,-0.12911371886730194,0.07921236753463745,-0.4088958501815796,0.1289832890033722,0.24785485863685608,-0.7436206340789795,-0.12862727046012878,0.15968045592308044,0.08668825030326843,0.3856465220451355,-0.5115355849266052,-0.014645740389823914,0.006399367470294237,0.6149665117263794,-0.34826958179473877,-0.016719531267881393,0.0262155644595623,0.31966936588287354,0.26034876704216003,0.07749701291322708,0.09349846839904785,-0.6204733848571777,0.3221783936023712,-0.4970446825027466,0.010290921665728092,-0.6215487122535706,0.2962176501750946,0.6230568289756775,-0.12258511781692505,-0.513634979724884,-0.6554206013679504,-0.45267584919929504,0.815253496170044,-0.554854691028595,-0.636577308177948,0.871732234954834,0.8779535889625549,-0.517654538154602,0.5043644905090332,0.18902073800563812,-0.2853134870529175,0.7771572470664978,0.5490661263465881,0.19659900665283203,0.9856368899345398,-0.053151629865169525,-0.5366514325141907,-0.7180951237678528,0.12107216566801071,0.5492965579032898,0.48995041847229004,-0.5367282629013062,0.10192162543535233,0.6103069186210632,-0.086485855281353,0.21772092580795288,0.7309706211090088,0.23223744332790375,-0.16703075170516968,-0.6452052593231201,0.608873188495636,0.06213562190532684,0.9788522720336914,0.5681142807006836,0.07862351834774017,0.7310218214988708,-0.17473703622817993,-0.5556995868682861,0.6024214029312134,0.30758506059646606,-0.49118173122406006,0.9603162407875061,-0.3575120270252228,0.10414902865886688,0.7905728220939636,0.07939158380031586,0.37087398767471313,-0.32847899198532104,0.1806231588125229,0.11584929376840591,-0.5928741693496704,0.32596755027770996,-0.44691532850265503,0.4244852662086487,0.062468450516462326,-0.09012138098478317,0.35200509428977966,0.22624649107456207,0.1678219884634018,0.11326345801353455,0.26244819164276123,0.6413113474845886,0.2198203057050705,0.20054176449775696,-0.44491833448410034,-0.1939644068479538,-0.5865503549575806,-0.12798722088336945,0.010086101479828358,0.11963843554258347,-0.07442715764045715,0.4431237280368805,0.11828150600194931,0.8992802500724792,0.3171859383583069,0.8949534893035889,0.4199792444705963,-0.3586641252040863,0.17371053993701935,0.10647884011268616,0.33830785751342773,-0.7990752458572388,-0.3754848539829254,0.31408804655075073,0.12995615601539612,0.12970013916492462,0.5370074510574341,0.24939098954200745,-0.15305188298225403,-0.6586977243423462,-0.3149353563785553,-0.22778506577014923,0.13835373520851135,0.041832976043224335,0.06966270506381989,-0.38352400064468384,-0.3097892701625824,0.6843744516372681,0.9321280717849731,0.2676198482513428,-0.11830954253673553,0.0059897322207689285,0.7535263299942017,0.0496416874229908,0.05197150260210037,0.026087556034326553,0.3533363938331604,-0.3050784766674042,0.6051864624023438,0.8061646819114685,-0.7507892847061157,0.03561161831021309,0.3005700409412384,0.6815581917762756,-0.08157020807266235,-0.09703399986028671,0.854476273059845,-0.7640000581741333,0.32909104228019714,0.511174738407135,0.3780938982963562,-0.2780168056488037,0.3946073353290558,0.5588974356651306,0.21429020166397095,0.8968736529350281,0.005836119409650564,0.8366058468818665,-0.29015231132507324,0.41511479020118713,-0.017103562131524086,0.7940547466278076,-0.4863172769546509,-0.6099764704704285,-0.4437406361103058,0.7270790934562683,0.2085040807723999,-0.19992972910404205,-0.470904678106308,0.5762814283370972,0.7745970487594604,0.04313869774341583,0.14915791153907776,0.5638386607170105,0.5825027823448181,-0.336953341960907,0.8663813471794128,0.08632981032133102,0.6668879985809326,0.7447959184646606,-0.45730987191200256,0.2798577547073364,0.4100455641746521,0.14140039682388306,-0.08241508156061172,0.2882809340953827,0.44058912992477417,0.8119763731956482,0.0825662687420845,-0.12606702744960785,0.04150015115737915,0.18610204756259918,0.07693376392126083,0.3981148898601532,0.3937624990940094,0.31621304154396057,0.347780704498291,-0.04710947722196579,-0.03126164525747299,-0.12606702744960785,-0.12517094612121582,-0.6093364357948303,-0.19450204074382782,-0.0659271851181984,0.7994312644004822,0.4740257263183594,-0.6524763703346252,-0.40817901492118835,0.6196261644363403,0.1666955053806305,0.07127565145492554,0.5996819138526917,0.20253874361515045,-0.02488666959106922,-0.012059904634952545,0.3775562047958374,0.858828604221344,0.22729618847370148,0.1120857447385788,-0.6075186729431152,-0.22153809666633606,0.5283538699150085,-0.18059997260570526,-0.26401233673095703,-0.5958184003829956,0.5704953074455261,0.008959599770605564,0.7287688255310059,0.03189928084611893,-0.7346854209899902,-0.6706027984619141,0.12273630499839783,-0.5438969135284424,0.11349386721849442,0.8204251527786255,-0.6272068619728088,-0.3932272493839264,0.14846664667129517,-0.16856689751148224,-0.3045920133590698,-0.38247427344322205,-0.11423877626657486,-0.19104571640491486,-0.8207347989082336,0.2882041037082672,0.4076389670372009,-0.6768754124641418,0.4439430236816406,0.9697890281677246,0.3343394994735718,0.8939549922943115,-0.11011679470539093,-0.01694994978606701,-0.16703075170516968,-0.211373969912529,0.6996590495109558,0.45618095993995667,0.6043927669525146,0.17371053993701935,-0.539365291595459,-0.5438457131385803,0.5836548805236816,-0.6600802540779114,0.12703749537467957,0.6838111877441406,-0.0816982090473175,0.41698378324508667,0.16288074851036072,0.5539050102233887,0.9110317230224609,-0.3029022514820099,0.2355145364999771,-0.1174134612083435,0.3316768705844879,-0.41652536392211914,0.2898682653903961,0.1845403015613556,0.4250229299068451,0.5845253467559814,0.3189525008201599,-0.22448235750198364,0.2634466588497162,0.2909691631793976,0.13254199922084808,0.3886932134628296,0.4168301522731781,-0.21447186172008514,-0.20341165363788605,-0.37192609906196594,-0.04234744608402252,0.38142216205596924,0.006809007842093706,-0.09229757636785507,0.9432395100593567,0.14721213281154633,0.8332775235176086,-0.018486086279153824,-0.5053910613059998,-0.20149147510528564,0.8330215215682983,0.46468091011047363,0.3948121666908264,-0.2848782241344452,0.06303170323371887,0.6407992839813232,0.8939549922943115,0.16631145775318146,-0.2959640324115753,0.5605615973472595,0.2783728241920471,-0.348474383354187,0.030695969238877296,0.3669312298297882,0.976087212562561,0.5557227730751038,-0.21378059685230255,0.7873213291168213,-0.05074501410126686,0.4905392527580261,0.03847907856106758,-0.11457160115242004,0.039170339703559875,-0.7077261805534363,0.6477630734443665,-0.09099185466766357,0.3910486400127411,0.05084499716758728,0.9562198519706726,0.06848499923944473,0.4848555326461792,0.35267072916030884,0.39353206753730774,-0.3620692193508148,0.13794410228729248,0.14426787197589874,0.8143061995506287,0.41168412566185,0.15609614551067352,-0.5530625581741333,-0.4502692222595215,-0.342739462852478,-0.4273807406425476,0.12381161749362946,0.8194010257720947,-0.6102837324142456,0.43055301904678345,-0.3513418436050415,-0.20051859319210052,-0.5609992742538452,0.6902373433113098,-0.071687713265419,0.31741634011268616,-0.2339296042919159,-0.6143801212310791,0.25753253698349,-0.0693322941660881,0.08233585208654404,0.2984706461429596,0.30924922227859497,0.2729707360267639,-0.47305530309677124,-0.14278535544872284,-0.26506200432777405,-0.19739510118961334,-0.34486448764801025,0.2452690154314041,-0.8505871295928955,-0.07534883916378021,0.8406765460968018,-0.26150330901145935,0.09677556157112122,-0.03976161777973175,0.2679270803928375,0.7475865483283997,0.6332209706306458,-0.3189549148082733,0.5848581790924072,0.6035478711128235,0.8476916551589966,0.030644766986370087,-0.25228646397590637,0.3712068200111389,0.7313034534454346,0.004632806871086359,-0.5607432126998901,0.32263925671577454,0.25358977913856506,-0.029853513464331627,0.027444476261734962,0.6314287781715393,0.6143776774406433,0.006937016732990742,-0.20228514075279236,-0.0704587996006012,0.3076874613761902,0.6410552859306335,0.34145694971084595,-0.02698606066405773,0.23303110897541046,0.6024214029312134,-0.7836626172065735,0.7704750299453735,-0.05507180467247963,-0.09496022015810013,-0.44299814105033875,-0.5768726468086243,-0.3327801823616028,0.6231592893600464,-0.5219812989234924,0.7834042310714722,-0.30940526723861694,-0.3354940116405487,-0.10384423285722733,-0.46785804629325867,0.6779738664627075,-0.7926746606826782,0.4996792674064636,-0.12389083206653595,-0.4565673768520355,-0.4082302153110504,0.2587614357471466,0.05768081918358803,0.2197435051202774,0.3352867662906647,0.19959446787834167,-0.02299209125339985,0.03090078942477703,-0.39727240800857544,0.7674027681350708,0.25540754199028015,-0.34163859486579895,-0.6030383110046387,-0.1949116736650467,0.1914273351430893,-0.15604735910892487,0.20177067816257477,0.7685036659240723,0.4993976354598999,0.14995157718658447,0.30947962403297424,-0.45267584919929504,-0.16703075170516968,0.5777919888496399,-0.0925792008638382,-0.28451982140541077,-0.7824081182479858,0.40492507815361023,-0.223739892244339,-0.42794397473335266,0.3555893898010254,0.3488048017024994,0.5853702425956726,-0.24191755056381226,0.8109010457992554,0.18233852088451385,0.646124541759491,0.26272979378700256,0.9866098165512085,0.19734147191047668,0.22222694754600525,0.7954373359680176,0.3635517358779907,-0.027958944439888,0.4389505684375763,-0.26342350244522095,0.8133077621459961,0.32038626074790955,0.08254066854715347,0.8719882369041443,0.2180793434381485,0.6687313914299011,-0.16703075170516968,-0.07004915922880173,0.41286182403564453,0.6252074837684631,-0.12624625861644745,-0.49394679069519043,0.3602234721183777,-0.09734123945236206,-0.33964160084724426,-0.0975460559129715,-0.10386983305215836,-0.7222170829772949,-0.44223010540008545,0.7669931054115295,0.7879869937896729,0.7886014580726624,-0.4475553631782532,0.7853243947029114,0.7904192209243774,-0.31411606073379517,0.02076227031648159,0.06587356328964233,0.3480111360549927,0.14567598700523376,-0.5030611753463745,0.8099794387817383,0.6751063466072083,-0.1498003900051117,0.03484354540705681,-0.4955085217952728,-0.1359495371580124,0.7940035462379456,-0.12604142725467682,-0.158786803483963,-0.3595346212387085,-0.764230489730835,0.30489683151245117,0.16638825833797455,0.07470636069774628,-0.29399266839027405,0.3373861610889435,0.1338733285665512,0.2755053639411926,-0.160527765750885,-0.3048992455005646,0.09060540050268173,-0.5553667545318604,0.3527475893497467,-0.21483027935028076,0.617449939250946,-0.49463802576065063,0.23400400578975677,0.328988641500473,-0.462916761636734,-0.1575578898191452,0.7286920547485352,-0.30157095193862915,-0.6464341878890991,0.11446676403284073,-0.015465011820197105,0.37184691429138184,0.8927004933357239,0.1395314484834671,-0.480838418006897,0.05558142811059952,-0.08507771790027618,0.34424757957458496,0.41590848565101624,0.813000500202179,-0.02081589587032795,-0.8051685690879822,-0.11144810914993286,-0.7586748003959656,0.3968091607093811,-0.35705116391181946,-0.16964218020439148,0.39737239480018616,0.38641461730003357,-0.5138397812843323,0.73138028383255,0.20243632793426514,-0.456644207239151,0.936531662940979,-0.0015117489965632558,0.4201584756374359,0.40016308426856995,-0.07924038916826248,-0.46519535779953003,-0.11900080740451813,-0.669860303401947,0.19593334197998047,0.9277501106262207,0.37018275260925293,0.05775762349367142,0.1484154313802719,-0.7319715619087219,-0.26836472749710083,-0.06656724959611893,-0.12560619413852692,0.3712068200111389,0.9117485880851746,-0.4826561510562897,0.435238242149353,0.819605827331543,0.8289507031440735,-0.6423889994621277,-0.04657183215022087,0.01694752275943756,-0.050284165889024734,0.3590713143348694,0.5878024697303772,-0.00745148491114378,0.6223912239074707,-0.4208521544933319,-0.41680699586868286,-0.012802373617887497,0.6275372505187988,0.1921186000108719,0.3726917803287506,0.2214076668024063,-0.4562857449054718,-0.3552846312522888,0.4002654552459717,0.7452055811882019,0.16984456777572632,-0.5772823095321655,0.08497289568185806,0.25356417894363403,-0.5937702655792236,-0.002945480402559042,0.9698147177696228,0.7546783685684204,-0.629408597946167,0.1680012196302414,0.6188580989837646,0.3557174503803253,0.5163719654083252,-0.0760401040315628,0.2959360182285309,0.048540785908699036,0.008370747789740562,0.8164055347442627,-0.03873751685023308,0.47008299827575684,0.916536271572113,0.6712915897369385,0.0721973329782486,0.17847256362438202,-0.18615569174289703,0.7575714588165283,0.09454815834760666,0.28789687156677246,0.3491632342338562,0.8026827573776245,-0.029085449874401093,-0.05499500036239624,-0.5590534806251526,-0.1694117784500122,0.9990525841712952,-0.22074441611766815,-0.12757757306098938,0.24867412447929382,-0.4520869851112366,0.019686970859766006,-0.038327887654304504,0.7652265429496765,0.3783242702484131,0.3124751150608063,0.21175558865070343,0.19076168537139893,-0.12998420000076294,0.27614542841911316,-0.08267110586166382,0.12056010961532593,0.23134134709835052,0.7513245344161987,0.7727023959159851,-0.2697472870349884,0.0908358246088028,-0.2062535136938095,0.16247113049030304,-0.06357176601886749,0.620880663394928,0.6753880381584167,0.10061590373516083,0.18832944333553314,0.006860210560262203,-0.5619977116584778,0.915947437286377,0.9333313703536987,0.3296286463737488,0.8982306122779846,-0.06615760922431946,0.7468440532684326,0.10524991899728775,-0.7438510656356812,0.09185991436243057,-0.17962709069252014,-0.4664754867553711,0.8308452367782593,-0.05169229954481125,-0.037483006715774536,0.16741237044334412,-0.027958944439888,0.3098124861717224,0.638623058795929,0.8633346557617188,-0.5126876831054688,0.9457741379737854,0.3228440582752228,-0.5121500492095947,0.5286867022514343,0.23103412985801697,-0.6186812520027161,-0.6946178078651428,-0.642849862575531,0.6401336193084717,0.20568783581256866,0.6379573941230774,0.3018757402896881,0.17155992984771729,0.41188889741897583,0.10619721561670303,0.8768014311790466,0.29014989733695984,0.8640514612197876,0.7571618556976318,-0.5639691352844238,-0.1643424928188324,-0.4800703227519989,-0.10136079043149948,-0.21726250648498535,-0.09690600633621216,-0.1049451231956482,0.5888009667396545,0.10967913269996643,0.40945670008659363,0.5022650957107544,0.3972444236278534,0.16070456802845,-0.36191561818122864,-0.3936881124973297,0.7693740725517273,0.33807745575904846,0.707646906375885,-0.6853753328323364,0.3100428879261017,0.3526451587677002,-0.32778772711753845,-0.7079565525054932,0.1471865326166153,-0.4657074213027954,0.7717039585113525,0.14708411693572998,0.027649296447634697,0.4284023940563202,0.04377875477075577,0.668424129486084,-0.5213156938552856,0.4863148629665375,-0.23311035335063934,0.1945764273405075,0.11992006003856659,-0.6611043214797974,-0.7003270983695984,0.014336087740957737,-0.2235862761735916,0.135076642036438,-0.3774562478065491,-0.13323569297790527,0.7422869205474854,0.044700440019369125,-0.8427015542984009,0.9492303729057312,0.6629964709281921,-0.04019685834646225,0.23052208125591278,0.6320688724517822,-0.6611043214797974,-0.6164282560348511,0.4439430236816406,0.41611331701278687,0.275300532579422,0.3065609633922577,-0.5759510397911072,0.07749701291322708,0.10722130537033081,0.06556633114814758,0.4819624722003937,0.4947636127471924,-0.17675963044166565,0.7214722037315369,0.227936252951622,-0.11334268003702164,0.4680604338645935],\"y\":[0.08583437651395798,0.04755890741944313,0.10050450265407562,-0.025202888995409012,0.024875253438949585,-0.039104945957660675,-0.07871173322200775,-0.07341206073760986,0.002498824615031481,-0.07164549082517624,0.021674957126379013,0.09059640765190125,-0.022514648735523224,-0.05188051238656044,0.018449071794748306,-0.051598887890577316,-0.07097984105348587,-0.04253565892577171,-0.06680665910243988,-0.00036863808054476976,-0.047630518674850464,-0.09307464212179184,0.05698056146502495,-0.06836840510368347,-0.027507100254297256,-0.04092270880937576,-0.06593617796897888,-0.022156216204166412,-0.12635764479637146,-0.05651453137397766,0.07730880379676819,-0.040359463542699814,-0.0210553091019392,-0.052264533936977386,0.100658118724823,-0.09307464212179184,0.021111713722348213,-0.06370878964662552,-0.002058387501165271,0.003804542124271393,-0.07932619750499725,-0.03751759976148605,0.00877139437943697,0.005673512816429138,-0.07663794606924057,-0.0770219936966896,0.027870720252394676,0.016272874549031258,-0.022284219041466713,-0.05590005964040756,0.09901957958936691,-0.09281861782073975,0.08347895741462708,-0.028300771489739418,0.025489704683423042,0.04049266502261162,-0.027583906427025795,0.07259798049926758,0.09927559643983841,0.008720186538994312,-0.09100084006786346,-0.08979754149913788,0.04853179678320885,0.05733899399638176,0.00792651530355215,0.006774410139769316,0.08806177973747253,-0.09307464212179184,-0.0791981890797615,0.03189028799533844,-0.07750842720270157,-0.053570251911878586,0.09968523681163788,-0.04015464335680008,0.09026357531547546,-0.08667406439781189,-0.067088283598423,-0.08086232841014862,-0.018290260806679726,-0.012452930212020874,0.03529539704322815,0.09407832473516464,0.055470023304224014,0.008284947834908962,-0.013092989102005959,0.04663722217082977,-0.02965768612921238,0.022622251883149147,-0.06002204492688179,0.022622251883149147,0.07866573333740234,-0.0779692679643631,0.011690055020153522,-0.07095424085855484,-0.07896775752305984,-0.07384730130434036,0.05042636767029762,0.023620733991265297,-0.09307464212179184,0.10004366934299469,0.0453571081161499,-0.0402570478618145,-0.017445381730794907,0.05354985222220421,0.016068054363131523,-0.0654241219162941,0.022622251883149147,0.09909638017416,-0.08982314169406891,-0.07197833061218262,0.09986444562673569,0.09940360486507416,0.01965237408876419,-0.025074876844882965,-0.06199342757463455,-0.012171303853392601,0.022622251883149147,0.07828168570995331,0.015171968378126621,0.057082973420619965,0.08667925745248795,-0.018008634448051453,0.08406781405210495,0.029048433527350426,0.028561986982822418,0.053217023611068726,-0.032704371958971024,0.09400151669979095,-0.0389513336122036,-0.001443936605937779,-0.06422082334756851,0.09569127857685089,-0.030041728168725967,-0.0018535673152655363,0.08670485764741898,0.020343640819191933,0.0373435840010643,0.05943838506937027,0.044435422867536545,-0.02791672945022583,-0.04427661746740341,-0.06632022559642792,0.1004021018743515,-0.026867039501667023,-0.06626900285482407,0.022622251883149147,-0.04604317247867584,-0.027686310932040215,0.022622251883149147,-0.07986383140087128,-0.03132183849811554,-0.07994064688682556,-0.10011528432369232,-0.01685652881860733,-0.0031336857937276363,0.0016795536503195763,-0.08885026723146439,0.06158897653222084,0.04722607880830765,-0.09307464212179184,0.022622251883149147,-0.009636675007641315,0.041414353996515274,0.06322752684354782,0.055879659950733185,0.030507763847708702,0.09768825024366379,0.008464159443974495,-0.03418929874897003,-0.08291050791740417,0.044768255203962326,0.020138820633292198,0.06476366519927979,0.09364308416843414,0.08178921043872833,0.002242797054350376,0.05846549570560455,0.02339031547307968,0.03875171020627022,0.09402711689472198,0.027435481548309326,-0.028377577662467957,-0.03966819867491722,0.09860993921756744,-0.07553704082965851,0.09840511530637741,-0.023513130843639374,0.017732204869389534,-0.04476306214928627,0.09251658618450165,-0.05799946188926697,-0.004004164133220911,0.022622251883149147,0.022622251883149147,-0.017598994076251984,-0.06619220972061157,0.06284349411725998,-0.06765154004096985,0.04912064969539642,0.014839144423604012,-0.057513024657964706,0.06581336259841919,-0.04443022981286049,-0.07505060732364655,-0.06598737835884094,-0.04660642519593239,-0.06242866814136505,-0.013528228737413883,-0.005207476671785116,0.04118392989039421,0.022622251883149147,0.08347895741462708,-0.05874192342162132,-0.06383678317070007,0.022622251883149147,-0.04504469037055969,0.013943057507276535,-0.056437715888023376,-0.0708262249827385,0.008233739994466305,0.02897161804139614,0.011382829397916794,-0.009764688089489937,0.09715060889720917,0.09965962916612625,-0.0204920656979084,-0.017061349004507065,-0.054363932460546494,0.0360378660261631,-0.09307464212179184,-0.0013159228255972266,-0.03298599645495415,-0.03308840095996857,0.0349881686270237,-0.09307464212179184,0.021034907549619675,0.07551664113998413,0.05672454088926315,-0.07164549082517624,-0.044481437653303146,0.09840511530637741,-0.024229995906352997,-0.06440003216266632,-0.0002150253567378968,0.0007578678196296096,-0.02655981481075287,0.08248046785593033,-0.08173280209302902,-0.05387747660279274,-0.03544382005929947,0.03816285729408264,-0.06975091993808746,0.08639763295650482,0.03311919793486595,0.007337662857025862,0.0005018403171561658,-0.06486087292432785,0.012918965891003609,-0.00917583703994751,-0.08365299552679062,0.09932680428028107,0.012278907001018524,0.022622251883149147,-0.07069820910692215,-0.07210634648799896,0.022622251883149147,0.09010995924472809,0.04131194204092026,-0.07400091737508774,-0.004644223488867283,-0.0916409119963646,0.022622251883149147,0.06146096810698509,0.07992023974657059,0.022622251883149147,-0.08114395290613174,-0.07392410188913345,0.004444601479917765,-0.07264398038387299,0.07551664113998413,0.07961301505565643,-0.0718759149312973,0.020266834646463394,-0.08298732340335846,-0.09233217686414719,0.07367327064275742,0.011075603775680065,0.07441574335098267,0.022622251883149147,-0.043610960245132446,-0.04911544546484947,0.025822538882493973,-0.0012135175056755543,-0.009099029935896397,-0.02563812956213951,-0.027507100254297256,0.1002228781580925,0.051629677414894104,0.09894275665283203,-0.08721170574426651,-0.02407638356089592,-0.08639243990182877,-0.05613049119710922,-0.06962290406227112,-0.02988811582326889,0.016272874549031258,0.014122278429567814,0.06504528969526291,-0.07607469707727432,-0.09279301762580872,-0.0813743844628334,-0.06155819073319435,-0.021260129287838936,0.01588883437216282,-0.05213652178645134,0.09758584201335907,-0.022591454908251762,0.08660244941711426,0.07761602848768234,0.011049995198845863,0.061409760266542435,0.003497316734865308,0.022443030029535294,0.07743681967258453,0.07743681967258453,-0.05185489356517792,0.04784053564071655,-0.068829245865345,-0.07935179769992828,0.023927969858050346,-0.02527969516813755,-0.047195278108119965,0.07564465701580048,0.0690392553806305,-0.03034895285964012,-0.002749654231593013,-0.040769096463918686,0.046970050781965256,-0.00853577721863985,-0.056847356259822845,0.012432519346475601,-0.07103103399276733,0.01491595059633255,0.06601817905902863,-0.06043168529868126,-0.07546024769544601,-0.0846770852804184,0.09628012776374817,0.09607530385255814,-0.03710797056555748,0.09139008074998856,0.09796987473964691,0.0984819233417511,0.07423651963472366,0.06842479854822159,0.02858758717775345,0.04645800590515137,0.022622251883149147,0.022622251883149147,-0.07354007661342621,0.026104165241122246,-0.022489039227366447,0.08148198574781418,0.0153511893004179,0.09661295264959335,0.013174993917346,0.09622891992330551,-0.013297809287905693,-0.07533223181962967,-0.09141048043966293,0.08242926746606827,-0.028633596375584602,-0.05477357283234596,0.04223362356424332,0.09837951511144638,0.030507763847708702,0.07177870720624924,0.021060505881905556,0.022622251883149147,0.010230724699795246,-0.035238999873399734,0.05936157703399658,0.014864742755889893,0.07874253392219543,0.021009299904108047,0.0932590514421463,0.012202100828289986,0.0064415764063596725,-0.07382170110940933,-0.078762948513031,0.04968390241265297,0.09054519981145859,0.0813283622264862,0.09236297756433487,0.0995316207408905,-0.07505060732364655,-0.0649120882153511,-0.007690897677093744,-0.051598887890577316,0.09784185886383057,-0.060764506459236145,0.013891858980059624,0.08488709479570389,-0.09307464212179184,-0.027097459882497787,-0.016446897760033607,-0.03337002918124199,-0.030246548354625702,-0.07819969207048416,-0.03623749315738678,0.05646851658821106,0.09914758056402206,-0.06222383677959442,0.08091872930526733,0.022366223856806755,-0.002391221234574914,0.0013467196840792894,0.0724443644285202,0.0722651481628418,0.07899855077266693,0.048583000898361206,0.0859367847442627,-0.022053800523281097,-0.0764075219631195,0.03493696078658104,-0.08588038384914398,0.07659193873405457,-0.05735941231250763,-0.007844510488212109,0.03217191621661186,-0.0749225914478302,0.022622251883149147,0.003932556137442589,-0.0008806835976429284,-0.046632032841444016,0.008643380366265774,0.02597615122795105,0.005238273646682501,-0.029836907982826233,-0.013809855096042156,-0.04650402069091797,0.046534813940525055,-0.042484451085329056,-0.040001031011343,-0.04176758602261543,-0.014475513249635696,-0.005540301091969013,0.08312053978443146,0.08107234537601471,0.01962677575647831,-0.06565455347299576,-0.06678105890750885,-0.02164416015148163,-0.06509130448102951,0.10019727796316147,0.06373957544565201,0.08516871929168701,0.02216140367090702,-0.02858239784836769,-0.07341206073760986,-0.07297682017087936,0.022622251883149147,-0.07315603643655777,-0.03383086621761322,-0.025100475177168846,-0.08577796816825867,-0.06739550828933716,-0.021336935460567474,-0.07620271295309067,-0.08723729848861694,-0.04460944980382919,-0.026764625683426857,-0.029324863106012344,-0.03252514824271202,-0.06565455347299576,-0.08462586998939514,0.03903333470225334,-0.0734376609325409,-0.05459434539079666,-0.032729968428611755,0.09174851328134537,0.007209649309515953,-0.08575237542390823,0.09525603801012039,0.04625318944454193,0.08987954258918762,0.09026357531547546,-0.04924346134066582,0.05649411678314209,0.06880883127450943,0.08542473614215851,0.06821998208761215,-0.09307464212179184,-0.04924346134066582,-0.03401008993387222,0.022622251883149147,0.06909045577049255,0.07520941644906998,0.07446694374084473,-0.03664712235331535,-0.07471778243780136,-0.06015005707740784,-0.16496597230434418,-0.08321775496006012,-0.019877605140209198,0.022622251883149147,0.0761822983622551,0.08944430202245712,0.03954538330435753,-0.033574849367141724,-0.0194423645734787,-0.04179319739341736,0.09994125366210938,-0.05326302722096443,-0.09307464212179184,0.0179626252502203,0.09044279903173447,-0.0056427158415317535,0.07336604595184326,-0.08019667863845825,-0.008638182654976845,-0.008689389564096928,0.008464159443974495,0.04026224836707115,0.015479203313589096,0.040287844836711884,0.07943379133939743,0.07272598892450333,-0.04376457259058952,0.07659193873405457,0.06811756640672684,-0.007844510488212109,0.04663722217082977,0.010051503777503967,-0.04271487146615982,0.06542932987213135,-0.07635632157325745,-0.030579373240470886,0.018013831228017807,-0.042894091457128525,-0.007562884129583836,-0.07069820910692215,-0.07435933500528336,-0.017419781535863876,-0.07010935992002487,-0.030220940709114075,0.09914758056402206,0.02674422413110733,-0.04430221766233444,0.04236163571476936,0.09850752353668213,-0.011787272058427334,0.03962218761444092,-0.058153074234724045,0.08178921043872833,0.09085242450237274,-0.08411382883787155,-0.018827905878424644,-0.07983823865652084,0.026232179254293442,0.0971762016415596,-0.07942859828472137,-0.07225995510816574,-0.06957170367240906,-6.141265475889668e-05,-0.09307464212179184,0.030635777860879898,0.02083008736371994,-0.05564405396580696,0.024516820907592773,-0.0046698227524757385,-0.060969337821006775,-0.09307464212179184,-0.007460478693246841,0.07382689416408539,0.09000755846500397,-0.03516219183802605,0.09246537834405899,-0.059484388679265976,-0.08237287402153015,0.09876354783773422,-0.07423132658004761,-0.0666530430316925,0.08547594398260117,-0.08273129910230637,0.04704686254262924,0.0179626252502203,0.08457987010478973,0.011306023225188255,-0.08416502922773361,-0.051496472209692,0.04069748520851135,-0.08465148508548737,0.07625910639762878,0.05006793513894081,-0.07241357117891312,0.08882984519004822,0.10050450265407562,-0.07023737579584122,-0.027532698586583138,0.042745668441057205,0.029534870758652687,0.09576807171106339,0.048275772482156754,-0.06422082334756851,-0.07871173322200775,0.05308900773525238,-0.08444665372371674,0.022622251883149147,0.022622251883149147,0.022519836202263832,0.003215690143406391,-0.043252527713775635,0.10045329481363297,-0.07482017576694489,0.022622251883149147,-0.0831921324133873,-0.041588377207517624,-0.08372978866100311,0.022622251883149147,-0.015474005602300167,-0.021336935460567474,0.040979113429784775,-0.07051900029182434,0.09799547493457794,-0.08777495473623276,-0.05961240455508232,0.018909908831119537,-0.07451295107603073,-0.06918766349554062,0.09622891992330551,0.0006554530118592083,0.09871233999729156,-0.01168486662209034,0.011280414648354053,0.005263872444629669,-0.0283263698220253,-0.06527051329612732,-0.06867562979459763,0.029509272426366806,-0.0809391438961029,-0.006974032148718834,-0.06155819073319435,-0.011736064217984676,-0.028505582362413406,-0.07159429043531418,0.040953509509563446,-0.041255541145801544,0.04556192457675934,0.022622251883149147,-0.0800686627626419,0.08345336467027664,0.07776964455842972,0.005827125161886215,0.024875253438949585,0.003497316734865308,0.10068372637033463,0.0037533347494900227,-0.004080970771610737,0.022622251883149147,-0.07522981613874435,-0.014885153621435165,0.09464157372713089,-0.05712898075580597,-0.06557773798704147,-0.0638623982667923,-0.014526721090078354,-0.06301751732826233,0.009846692904829979,-0.010174328461289406,-0.04878262057900429,-0.07935179769992828,-0.05474795773625374,0.0017819589702412486,-0.061225347220897675,-0.07418012619018555,-0.003645731369033456,-0.03792724013328552,0.08137957006692886,0.022622251883149147,0.022622251883149147,-0.018367066979408264,0.09241417050361633,-0.06253106147050858,-0.031398653984069824,-0.012888168916106224,-0.04839858040213585,0.06804076582193375,-0.08096474409103394,0.08703768998384476,0.004521407652646303,-0.05782024934887886,0.012458127923309803,-0.030707387253642082,0.022519836202263832,-0.04056427627801895,-0.07574187219142914,0.022622251883149147,0.09899396449327469,0.08911146968603134,-0.007230059709399939,0.09922438859939575,0.022622251883149147,0.027896329760551453,-0.07435933500528336,-0.05828108638525009,0.04074868932366371,-0.013809855096042156,0.09901957958936691,-0.018571887165308,-0.014040273614227772,0.05997603386640549,0.09579367935657501,0.08237805962562561,0.0820196270942688,0.0664278194308281,-0.07346326112747192,-0.006513194181025028,0.0616401843726635,-0.09307464212179184,-0.0395657941699028,0.022622251883149147,-0.07313043624162674,-0.07817409187555313,0.012534934096038342,0.03358004242181778,0.08363257348537445,0.028229152783751488,0.09095484018325806,0.0693976879119873,0.010793977417051792,0.09228616207838058,0.009027412161231041,-0.053979892283678055,-0.07571627199649811,-0.05776903033256531,-0.04179319739341736,-0.07674036175012589,0.045664332807064056,0.02170056663453579,0.004495808854699135,0.01361023262143135,-0.05190611258149147,-0.08477947860956192,-0.07118465006351471,-0.08498430997133255,-0.008177344687283039,0.09950601309537888,0.047379691153764725,-0.033626046031713486,-0.04058988392353058,0.022622251883149147,-0.0017767609097063541,-0.07016056030988693,0.09820029884576797,-0.01606285758316517,-0.06765154004096985,-0.0031336857937276363,0.0976114422082901,-0.02571493573486805,-0.07046778500080109,-0.07917258888483047,0.02556651085615158,-0.0669090747833252,-0.00938065629452467,0.05920796096324921,-0.04268927127122879,0.088983453810215,-0.013144196942448616,-0.015038765966892242,0.018449071794748306,-0.038567300885915756,-0.08987435698509216,-0.024818848818540573,-0.04837298020720482,0.031301435083150864,-0.005361089017242193,0.043641749769449234,0.059745609760284424,-0.05999644473195076,0.05472755432128906,0.0011418996145948768,0.09023797512054443,-0.08178402483463287,-0.019570378586649895,-0.04353415220975876,0.09802108258008957,-0.058537114411592484,-0.07543464750051498,-0.03751759976148605,-0.09307464212179184,-0.07679156213998795,-0.07123586535453796,0.023646343499422073,-0.007972524501383305,-0.08762134611606598,0.022622251883149147,0.09896837174892426,-0.0813743844628334,-0.0439181849360466,-0.07418012619018555,0.048839021474123,-0.0011623101308941841,0.0451778918504715,-0.053775083273649216,0.07602868974208832,0.02674422413110733,0.022622251883149147,0.053754668682813644,-0.07594668120145798,0.05316581577062607,-0.057692233473062515,0.02049725316464901,-0.039488986134529114,0.08120036125183105,-0.04350854456424713,0.0460483692586422,0.07257237285375595,0.021214118227362633,-0.038311272859573364,-0.0044906106777489185,-0.08708368986845016,-0.01900712586939335,-0.06437443196773529,0.07039617747068405,-0.08017107844352722,-0.04980671405792236,-0.0467088408768177,0.06123054400086403,0.05721098184585571,0.08813858777284622,-0.06921328604221344,0.09256778657436371,-0.015678824856877327,0.029074033722281456,0.019831595942378044,0.024440014734864235,-0.0558488629758358,0.09743223339319229,-0.04389258474111557,-0.07610029727220535,0.022443030029535294,-0.08564995974302292,0.06466125696897507,-0.05390309542417526,0.030866196379065514,-0.0376456156373024,0.022622251883149147,0.05342183634638786,0.09034038335084915,-0.04322691634297371,0.01361023262143135,0.06158897653222084,-0.05536242574453354,0.04625318944454193,0.06117934361100197,-0.06524491310119629,0.07272598892450333,-0.08710930496454239,-0.04581275209784508,-0.08826141059398651,-0.039949823170900345,-0.05013955757021904,0.0843750461935997,-0.020082425326108932,-0.06521931290626526,0.0839398056268692,0.04727728292346001,-0.052238937467336655,-0.0765867531299591,0.05052877590060234,-0.0019559820648282766,0.009897890500724316,0.03688273951411247,-0.07208072394132614,0.02346712164580822,0.05052877590060234,-0.09307464212179184,0.022622251883149147,-0.09123127162456512,-0.005105061922222376,0.0709594264626503,0.015684014186263084,0.08721689879894257,-0.05482477322220802,-0.08518911898136139,0.05091281235218048,-0.039540182799100876,0.015556009486317635,0.019421955570578575,0.022622251883149147,0.004777425900101662,-0.06094371899962425,0.020778879523277283,-0.0631711333990097,-0.06967411935329437,-0.08521471917629242,-0.04507029056549072,0.003266897751018405,0.06589017063379288,-0.06875242292881012,-0.051394056528806686,0.07285399734973907,-0.008740597404539585,0.024798447266221046,0.047763723880052567,0.06750311702489853,0.02761470340192318,0.09331025183200836,0.022443030029535294,-0.08252649009227753,0.02382555417716503,-0.07246477156877518,-0.031833890825510025,0.08793376386165619,0.008515367284417152,0.02643699012696743,-0.08618760854005814,-0.09307464212179184,-0.031885091215372086,0.041439950466156006,0.07126665115356445,0.06893684715032578,0.0986611396074295,0.08621840924024582,-0.0480145588517189,0.022622251883149147,0.040953509509563446,-0.07922378182411194,0.044461026787757874,0.020138820633292198,-0.07704758644104004,0.09144128113985062,-0.012990583665668964,0.02093249186873436,0.03695954754948616,0.08414462953805923,0.015735222026705742,-0.008382164873182774,-0.05927957966923714,-0.05907474830746651,-0.006999640725553036,-0.012939376756548882,-0.09286981076002121,0.022622251883149147,0.05081040412187576,-0.011556852608919144,0.06435403227806091,0.030379749834537506,0.0856807678937912,-0.05784584954380989,-0.07540904730558395],\"z\":[0.04626821354031563,0.03205892816185951,0.006891847122460604,-0.07122083753347397,0.08403163403272629,-0.06594675779342651,0.011679481714963913,-0.013641213066875935,0.08111297339200974,0.040840521454811096,-0.0526079460978508,0.03315982595086098,-0.030385132879018784,-0.052044693380594254,0.06756934523582458,-0.05816365033388138,0.04905886948108673,-0.05893172323703766,-0.03276614844799042,0.07996086776256561,0.08042170852422714,0.002411440946161747,0.0728946253657341,0.037947461009025574,-0.0751635953783989,0.05031337961554527,0.05356487259268761,-0.07232173532247543,-0.00575569923967123,0.025658348575234413,-0.04966367781162262,-0.06581874191761017,-0.03476312756538391,-0.051609452813863754,0.005765344947576523,0.03799866512417793,-0.0543489046394825,0.08093375712633133,0.02924267202615738,-0.07193770259618759,-0.02669839933514595,0.06590519100427628,-0.0764693170785904,0.08520934730768204,0.007992747239768505,-0.026954421773552895,-0.07431871443986893,0.07138408720493317,0.07990965992212296,0.05589469149708748,0.017209582030773163,-0.038757093250751495,0.040840521454811096,0.07875755429267883,0.08321236819028854,0.08044731616973877,-0.0677645206451416,0.0631401464343071,0.015340612269937992,0.025965573266148567,-0.0005328261759132147,-0.049970902502536774,0.04327274486422539,0.07379071414470673,-0.07623888552188873,0.08472289890050888,0.045884180814027786,0.025095095857977867,0.07230577617883682,-0.07396028190851212,-0.013231578283011913,-0.04840916767716408,-0.0038611276540905237,0.06562356650829315,-0.032894156873226166,-0.0001999958767555654,-0.010927367955446243,0.016287898644804955,-0.06674043089151382,0.08208585530519485,0.03331344202160835,0.032750193029642105,0.07412353903055191,0.08490211516618729,-0.07321781665086746,0.0756852850317955,-0.06748289614915848,-0.02759447880089283,-0.04239261522889137,-0.01489572785794735,0.057021189481019974,0.035003192722797394,0.07243379205465317,-0.034174274653196335,0.03610409423708916,-0.03722095116972923,-0.06722686439752579,0.08390363305807114,-0.03312458097934723,-0.0013521001674234867,0.07860394567251205,0.07448197156190872,-0.06430820375680923,-0.06607475876808167,-0.07618768513202667,-0.07165607810020447,0.037845052778720856,-0.007803885266184807,0.05850612744688988,-0.06855819374322891,-0.0023505911231040955,-0.005371664185076952,-0.05245433375239372,0.060323890298604965,-0.040037207305431366,0.0605287104845047,-0.023882143199443817,0.05627872422337532,0.08492772281169891,0.039995647966861725,-0.038885101675987244,0.06726212054491043,-0.0419829860329628,0.07878316938877106,-0.07470274716615677,0.07468679547309875,0.0659307986497879,0.03346705436706543,-0.06489706039428711,0.08372440934181213,0.07140970230102539,0.02998513914644718,0.054409753531217575,-0.07355064153671265,-0.03885950148105621,0.08431325852870941,0.08167622983455658,-0.06369374692440033,0.029857126995921135,-0.07014553993940353,-0.062132012099027634,0.0525151826441288,0.007608712185174227,0.075250044465065,-0.037067338824272156,-0.031127599999308586,-0.062055204063653946,-0.07035035640001297,-0.03606884554028511,0.01984662190079689,0.07496841996908188,-0.0037587187252938747,0.006021368317306042,-0.07180968672037125,-0.06909583508968353,-0.07547082006931305,0.06045190244913101,0.07082083821296692,0.07745184004306793,-0.012156279757618904,0.004485229030251503,-0.07122083753347397,0.08008888363838196,0.06823500990867615,-0.06446181982755661,-0.07040155678987503,0.025171903893351555,0.08492772281169891,-0.06712446361780167,-0.019273724406957626,-0.0690702348947525,-0.07570124417543411,-0.04907482489943504,0.033620670437812805,-0.04469682648777962,-0.07260335981845856,0.038792338222265244,-0.038449861109256744,-0.07250095158815384,-0.0242149718105793,-0.07483076304197311,0.07274101674556732,0.06956632435321808,-0.011362607590854168,0.04322153702378273,-0.01210507471114397,0.08044731616973877,0.08418525010347366,0.06746693700551987,-0.027927309274673462,0.05341126024723053,-0.019734567031264305,0.03254537284374237,-0.01947854459285736,0.08382681757211685,-0.034097470343112946,0.06708290427923203,0.07591570168733597,0.07622292637825012,-0.07634130120277405,-0.05314559116959572,0.06657086312770844,0.08382681757211685,-0.010338515043258667,-0.034583911299705505,-0.07518919557332993,0.08129218965768814,0.05451216921210289,0.0832635685801506,0.07804068922996521,0.006891847122460604,0.02276528626680374,0.07893677800893784,0.04649863764643669,-0.023062868043780327,-0.04579773172736168,0.05535703897476196,-0.04400556907057762,-0.0233444944024086,0.07509643584489822,0.06050310283899307,0.07678618282079697,0.07486600428819656,0.00630299374461174,-0.004091549199074507,0.08382681757211685,0.08262351155281067,0.05799408257007599,0.08213706314563751,0.03333904221653938,-0.013538805767893791,0.07709340751171112,-0.051993485540151596,0.04836760088801384,-0.006651780102401972,-0.0755988359451294,0.060759130865335464,0.06895186752080917,0.07737503200769424,-0.05760039761662483,-0.011900256387889385,0.08382681757211685,-0.03722095116972923,-0.0734226331114769,0.00568853784352541,0.03310862183570862,0.05246397480368614,0.025709550827741623,-0.012156279757618904,-0.06389856338500977,-0.07165607810020447,0.034900788217782974,-0.03829624876379967,0.07443076372146606,0.08477410674095154,-0.0753428116440773,0.02706647664308548,-0.020553840324282646,0.08323796093463898,0.006507812533527613,0.0019762013107538223,-0.07618768513202667,0.03510560467839241,0.04864922910928726,0.07711901515722275,0.04068690910935402,0.004818059038370848,0.08014008402824402,-0.009493637830018997,0.08334037661552429,0.05366728827357292,0.04317033663392067,-0.06228562444448471,-0.046898629516363144,-0.027082432061433792,0.07046240568161011,-0.0671500638127327,-0.07580364495515823,0.028551410883665085,-0.05212150141596794,0.055177826434373856,0.048060376197099686,-0.06313050538301468,-0.01912011206150055,-0.017660778015851974,-0.053094394505023956,-0.0762132853269577,0.06186002492904663,-0.015843013301491737,-0.04884440451860428,-0.07001752406358719,-0.059520576149225235,-0.03722095116972923,-0.07460034638643265,-0.06988950818777084,0.07824551314115524,0.00886322557926178,-0.021603533998131752,0.01733759418129921,-0.021782752126455307,0.07934641093015671,-0.055859439074993134,0.055613067001104355,0.03520801290869713,0.016287898644804955,-0.04620736092329025,-0.07585485279560089,0.06703169643878937,0.03331344202160835,0.04788116365671158,-0.06161996349692345,0.05456336587667465,-0.07262896001338959,-0.0762132853269577,-0.03617125377058983,-0.017225539311766624,-0.07216811925172806,-0.03816823661327362,0.058250099420547485,-0.06773892045021057,-0.06100550293922424,0.08487651497125626,0.04923808202147484,-0.04833235964179039,0.05845491960644722,0.06127117574214935,0.04496249556541443,-0.04118931293487549,0.06590519100427628,-0.07526600360870361,0.07983285933732986,-0.053606439381837845,-0.03555680066347122,0.020845111459493637,-0.06814855337142944,0.08357080072164536,-0.0601862333714962,-0.06827656924724579,0.05799408257007599,-0.04615616425871849,-0.07662292569875717,0.010399364866316319,-0.06369374692440033,-0.0526079460978508,-0.05227511376142502,-0.007445452269166708,0.05976063758134842,0.02588876709342003,0.023098116740584373,0.03382548689842224,-0.029924288392066956,-0.015843013301491737,0.020896317437291145,0.06055431067943573,0.06459947675466537,0.08331476897001266,-0.06958228349685669,0.01728639006614685,-0.015330967493355274,0.02658003196120262,-0.07498437911272049,0.08039610832929611,-0.014306874014437199,0.07251060009002686,0.027988160029053688,-0.07654611766338348,-0.018070416525006294,-0.07314101606607437,0.017081569880247116,0.05453776568174362,0.051337480545043945,0.07599250972270966,-0.04861398786306381,0.07883436232805252,0.020845111459493637,-0.07401148974895477,0.06275611370801926,0.0631401464343071,0.038280293345451355,0.08513253927230835,-0.06405217945575714,0.07235698401927948,-0.05601305514574051,0.05548505112528801,0.060810334980487823,0.034414343535900116,-0.07608526945114136,-0.05726756528019905,-0.03724655508995056,0.03136766701936722,0.07701659947633743,-0.03268934041261673,-0.00959604699164629,-0.02846495620906353,0.013625256717205048,0.03390229493379593,0.053206440061330795,-0.07436992228031158,0.06098954752087593,0.02407100424170494,-0.07042716443538666,-0.05009891465306282,-0.007112621795386076,-0.025623099878430367,-0.06976150721311569,0.056560348719358444,-0.06832777708768845,0.07537805289030075,-0.029053810983896255,0.07591570168733597,0.06070792302489281,-0.007547860965132713,0.08057532459497452,-0.04572092741727829,-0.049356453120708466,-0.02467581443488598,-0.03896190598607063,0.0625256821513176,0.05653475224971771,0.055792275816202164,-0.06668922305107117,0.007275882177054882,-0.07073438912630081,-0.06576753407716751,0.08118978142738342,0.014060496352612972,-0.05004771798849106,0.009938523173332214,-0.07503557950258255,0.026042383164167404,0.01989782601594925,-0.00040481422911398113,0.046754658222198486,0.030753210186958313,-0.02751767262816429,-0.07631570100784302,0.06841422617435455,0.08515813946723938,0.07816870510578156,0.008607203140854836,-0.06174797937273979,-0.06955668330192566,0.06759495288133621,0.06933590769767761,0.08382681757211685,-0.06274645775556564,-0.06548590958118439,-0.043109480291604996,0.014342122711241245,0.06641723960638046,0.04391280561685562,0.056841976940631866,0.07862955331802368,0.08042170852422714,-0.00040481422911398113,-0.007803885266184807,-0.039653174579143524,-0.05048295855522156,-0.04915163293480873,0.026887260377407074,-0.024061357602477074,-0.008418341167271137,0.03523361682891846,0.022739684209227562,-0.06868620961904526,0.029370684176683426,0.053078435361385345,-0.07011992484331131,0.07038559764623642,0.06321695446968079,-0.05749799311161041,0.045013703405857086,0.07839912176132202,-0.0686350017786026,0.05079982429742813,0.022227637469768524,-0.07237294316291809,-0.03683691844344139,-0.052428726106882095,-0.046821821480989456,-0.029591459780931473,0.08318676799535751,-0.005397266708314419,-0.014946932904422283,-0.06853258609771729,-0.01699511706829071,-0.033278193324804306,-0.038321852684020996,0.07268980890512466,0.06477869302034378,0.049007661640644073,-0.022346001118421555,0.006559017114341259,0.06856783479452133,0.07353468984365463,0.041787806898355484,-0.0560898594558239,-0.051071811467409134,0.0618344284594059,-0.02966826595366001,0.02120354399085045,-0.05258234590291977,0.014034895226359367,-0.026058338582515717,0.07929521054029465,0.04404081404209137,-0.04974048212170601,-0.0339694544672966,0.04790676385164261,-0.06520428508520126,0.08190664649009705,0.06808138638734818,-0.0019409531960263848,0.036616142839193344,-0.002683421364054084,0.08459489047527313,-0.032919760793447495,-0.07460034638643265,-0.05322239547967911,-0.014946932904422283,-0.07467714697122574,-0.07408829778432846,0.08492772281169891,0.07978165149688721,-0.06766210496425629,-0.07116962969303131,-0.04636097699403763,0.06275611370801926,0.08382681757211685,0.053897708654403687,0.0494685098528862,-0.07434431463479996,0.07732382416725159,0.08495332300662994,0.04357996955513954,-0.059520576149225235,-0.032919760793447495,0.075250044465065,-0.07541961222887039,0.011833094991743565,-0.07436992228031158,0.04939170181751251,0.07583890110254288,0.08021688461303711,-0.0255206897854805,0.07537805289030075,0.0034099314361810684,-0.07444673031568527,-0.06320730596780777,0.0785527378320694,-0.011388209648430347,0.08234188705682755,-0.005499676801264286,-0.05772840976715088,0.04027727246284485,0.03940679505467415,-0.058752503246068954,0.07926960289478302,0.07048801332712173,-0.07498437911272049,0.026759246364235878,0.03510560467839241,0.029421888291835785,-0.02669839933514595,-0.07250095158815384,-0.020067395642399788,-0.07398588210344315,0.051875125616788864,0.0561763197183609,-0.0747283548116684,0.07143529504537582,-0.04126611724495888,0.02576075866818428,0.08019129186868668,0.061219967901706696,-0.03386704623699188,0.07274101674556732,-0.02759447880089283,-0.053196799010038376,-0.02040022797882557,0.01895054057240486,0.02455744706094265,0.041710998862981796,-0.039320338517427444,-0.06028863787651062,0.07798949629068375,0.03469596803188324,0.049698926508426666,-0.06144074350595474,0.025248710066080093,-0.051635053008794785,-0.061261530965566635,0.015033384785056114,-0.05122542381286621,-0.0649738609790802,-0.025341473519802094,-0.034993551671504974,0.006815040484070778,-0.04126611724495888,0.07379071414470673,-0.0709904134273529,0.03582246974110603,-0.02121950127184391,0.07645335048437119,-0.03238211199641228,-0.005397266708314419,0.0756852850317955,-0.0007376445573754609,-0.035966433584690094,-0.0004816211585421115,-0.047180257737636566,-0.06963349133729935,0.07179372757673264,0.007147870026528835,-0.011977062560617924,-0.04500405862927437,0.020051440224051476,-0.01952974684536457,0.0261703934520483,-0.040984492748975754,-0.07419070601463318,0.0787319615483284,-0.07165607810020447,0.03323663771152496,-0.01507494505494833,-0.009775263257324696,0.048879656940698624,0.0152382031083107,0.022662876173853874,0.025863166898489,0.028269784525036812,0.0029234872199594975,-0.010696946643292904,-0.07460034638643265,-0.07649490982294083,0.08454368263483047,-0.06748289614915848,0.04475767910480499,0.0516447052359581,-0.07434431463479996,-0.0020433631725609303,-0.07444673031568527,0.04918688163161278,-0.022294798865914345,0.08382681757211685,0.07740063220262527,-0.07173287868499756,0.06846542656421661,-0.06878861039876938,-0.009647252038121223,-0.025213461369276047,0.04724110662937164,0.05807088688015938,0.08505573868751526,0.07476359605789185,0.08431325852870941,0.0029490897431969643,-0.01912011206150055,-0.06435941159725189,-0.01021050289273262,0.01777283288538456,-0.04615616425871849,0.02668244019150734,-0.055757034569978714,-0.03325258940458298,0.05543384328484535,0.06552115827798843,0.0008496994851157069,0.04393840581178665,0.08216266334056854,0.06331935524940491,-0.012437906116247177,0.024327026680111885,0.08328916877508163,0.001668973476625979,0.007659916765987873,0.0841340497136116,0.07501962780952454,-0.044312793761491776,0.012140323407948017,0.00630299374461174,0.07445637136697769,-0.022166788578033447,-0.03939715027809143,-0.020323418080806732,-0.07439552247524261,-0.04538809135556221,0.0650603249669075,0.0017713828710839152,0.04619140550494194,-0.028644172474741936,0.06063111498951912,-0.029924288392066956,-0.06658681482076645,0.05586908385157585,0.08382681757211685,0.04281190410256386,-0.04042124003171921,-0.00834153313189745,0.04447605460882187,0.08375000953674316,0.015135794878005981,0.0364881306886673,-0.06650999933481216,-0.03868028521537781,0.06260249763727188,0.08034490048885345,0.07691419869661331,-0.008495147339999676,-0.07114402949810028,-0.07065758109092712,-0.061773575842380524,0.029754720628261566,0.051414284855127335,0.01856650598347187,-0.057856425642967224,-0.06361693888902664,0.08310995995998383,-0.0348399356007576,0.029319480061531067,-0.05562902241945267,-0.001787339337170124,-0.003912332467734814,-0.03268934041261673,0.04616580903530121,0.08203466236591339,0.05000615492463112,-0.02288365177810192,-0.03061555325984955,-0.014204463921487331,0.05471697822213173,0.03684656322002411,0.08505573868751526,-0.008213521912693977,0.014290917664766312,0.034875184297561646,0.06808138638734818,0.0013617456424981356,-0.06896783411502838,-0.04410797357559204,-0.07641810923814774,-0.035095956176519394,-0.026032738387584686,-0.012693928554654121,0.01695355959236622,-0.011362607590854168,0.04229985550045967,0.013830075971782207,0.031930916011333466,0.06703169643878937,0.07320185750722885,0.023584559559822083,0.03461915999650955,-0.041342925280332565,0.021741190925240517,0.05499860644340515,0.04076371714472771,-0.06072387844324112,-0.004501185845583677,-0.009980082511901855,0.03223814442753792,0.03251976892352104,-0.05096939578652382,0.053616080433130264,0.08367320150136948,0.0708976462483406,-0.06133833900094032,-0.03612005338072777,0.08303315192461014,-0.07247534394264221,0.08426206558942795,-0.06277207285165787,0.008991237729787827,0.0774262398481369,0.0836988091468811,0.08298194408416748,-0.07462593913078308,0.07834792882204056,0.07097446173429489,0.05105585232377052,-0.0664588063955307,0.0843900665640831,0.015033384785056114,-0.01361561194062233,0.07939761877059937,-0.019760167226195335,0.023098116740584373,0.01810566335916519,-0.007752680219709873,-0.011567425914108753,-0.027005625888705254,0.0016945759998634458,-0.02301166206598282,-0.07529160380363464,0.08364760130643845,0.052822407335042953,-0.03233090788125992,0.016774343326687813,0.033620670437812805,0.07939761877059937,-0.016380662098526955,-0.03455830737948418,0.08375000953674316,-0.06914704293012619,-0.05399046838283539,0.05853172391653061,-0.0749075710773468,-0.040805280208587646,-0.06684283167123795,-0.004219560418277979,-0.06707325577735901,0.07832232117652893,-0.05061096325516701,-0.03960196673870087,0.052720002830028534,-0.0009680654038675129,-0.06860940158367157,-0.05345282703638077,0.06273050606250763,0.06867025047540665,-0.0744723305106163,0.0062005845829844475,0.07967924326658249,0.03382548689842224,0.06467628479003906,0.07140970230102539,0.06250008940696716,-0.02762008272111416,-0.06246483325958252,0.07222896814346313,0.04526972398161888,-0.027466466650366783,-0.028260139748454094,-0.07247534394264221,0.08280272781848907,-0.057446785271167755,0.08331476897001266,0.061296772211790085,-0.017148733139038086,0.0666220560669899,0.011705083772540092,-0.04843476787209511,0.06544435769319534,-0.058752503246068954,-0.007061418145895004,-0.04835795983672142,0.05581788718700409,-0.016457468271255493,0.04951970651745796,-0.03189567103981972,-0.05847087502479553,0.0742003470659256,-0.027722489088773727,-0.05424649640917778,0.07717021554708481,-0.061184726655483246,0.04286310449242592,-0.05335041135549545,0.037409812211990356,-0.07518919557332993,0.041762206703424454,-0.06074948608875275,-0.05363203585147858,0.009093645960092545,-0.06443621963262558,0.015852659940719604,0.050748616456985474,0.07514762878417969,0.06024708226323128,0.00023524390417151153,0.058915767818689346,-0.031665246933698654,0.05796847119927406,-0.07319220900535583,-0.021168295294046402,-0.07531721144914627,0.07665816694498062,0.02924267202615738,0.01162827666848898,0.05497300624847412,-0.06702205538749695,0.06426665186882019,0.07775906473398209,-0.03824504464864731,0.002744271419942379,-0.010056888684630394,-0.06620277464389801,0.0627049058675766,-0.07570124417543411,0.08387802541255951,-0.01292434986680746,0.08446687459945679,0.05666275694966316,-0.07562443614006042,-0.03862907737493515,0.03510560467839241,-0.05736997723579407,0.06931030005216599,-0.07580364495515823,-0.059085335582494736,-0.02849056012928486,-0.0526079460978508,0.026426417753100395,-0.07424191385507584,-0.07513798773288727,-0.06807174533605576,-0.02301166206598282,-0.07452353835105896,0.03251976892352104,-0.07554762810468674,0.002257827203720808,-0.07483076304197311,0.028961047530174255,0.08382681757211685,0.04601219296455383,0.08024249970912933,0.08357080072164536,-0.003477092133834958,0.011346651241183281,-0.07518919557332993,-0.04436400160193443,-0.018915291875600815,0.06457387655973434,-0.010133695788681507,-0.03896190598607063,0.0666220560669899,0.01011773943901062,-0.07165607810020447,-0.023190878331661224,0.01605747826397419,-0.025213461369276047,0.003486738307401538,0.03820348531007767,-0.07518919557332993,0.08423645794391632,0.053872108459472656,-0.014306874014437199,0.030548391863703728,-0.07426750659942627,0.051900722086429596,-0.043519120663404465,0.06779976934194565,0.08293073624372482,-0.03821944072842598,0.023942990228533745,-0.06794372946023941,-0.07380667328834534,0.0674925372004509,0.08310995995998383,0.04867483675479889,0.029780320823192596,-0.007957499474287033],\"type\":\"scatter3d\"},{\"marker\":{\"color\":\"#ff7c00\"},\"mode\":\"markers\",\"x\":[-0.03474355861544609,0.02119750902056694,-0.017154769971966743,0.028289351612329483,0.09557224810123444,0.02293846569955349,0.21877062320709229,0.08371837437152863,-0.027728524059057236,0.22785943746566772,-0.048184774816036224,0.03097759559750557,0.19155535101890564,0.009881285950541496,0.03425469622015953,-0.009371662512421608,0.04989771172404289,-0.040452875196933746,0.1417844295501709,0.24644672870635986,0.237690731883049,0.1036369800567627,0.10542914271354675,-0.07340306788682938,0.0007924607489258051,0.2460370808839798,0.18005992472171783,-0.06551754474639893,0.04254984110593796,-0.04700707271695137,0.05005132406949997,0.046799831092357635,-0.02550112083554268,0.12683269381523132,0.10560836642980576,0.06843379139900208,-0.02465624175965786,-0.03924957290291786,-0.03909594938158989,0.16585062444210052,0.0452892929315567,-0.016924342140555382,0.06364616006612778,0.005836119409650564,-0.08005966991186142,0.0186372771859169,0.0013301100116223097,0.0005364379612728953,0.14147721230983734,0.10204963386058807,0.05163866654038429,0.2242751270532608,-0.04221944138407707,0.13666397333145142,-0.022249625995755196,-0.040068842470645905,0.1033809632062912,0.2307012975215912,0.05215071514248848,0.016870716586709023,0.13254199922084808,0.0905798077583313,0.10181921720504761,0.17988069355487823,-0.06464707106351852,0.009497249498963356,0.13087785243988037,-0.08356717973947525,-0.08712591230869293,0.15051482617855072,0.06963710486888885,0.020173417404294014,0.24209433794021606,-0.02038065530359745,-0.024912269786000252,-0.058246493339538574,0.05512058734893799,0.0032502831891179085,-0.12222669273614883,-0.06899946928024292,0.14017149806022644,0.15182055532932281,0.15463681519031525,-0.028599003329873085,0.04828476160764694,0.056554313749074936,-0.07732021808624268,-0.0756048634648323,0.031054403632879257,0.16206146776676178,0.045980557799339294,0.25558674335479736,0.0972876027226448,0.049360062927007675,0.2886905372142792,0.06193080171942711,-0.009064432233572006,-0.10333217680454254,0.023834548890590668,-0.027728524059057236,-0.10545717179775238,0.07378467917442322,0.09334485232830048,-0.05128265917301178,0.06042026728391647,-0.013928874395787716,0.12255709618330002,0.025652311742305756,0.07573045790195465,-0.085615374147892,0.28935620188713074,-0.09076143801212311,-0.05937299132347107,0.11426194757223129,0.007397859822958708,-0.03804625943303108,0.1785493791103363,0.096058689057827,0.15046362578868866,0.047747112810611725,0.09114304929971695,0.05161307007074356,-0.056531134992837906,-0.03837909549474716,0.06057387962937355,0.0012533036060631275,0.23840759694576263,-0.006350587587803602,0.09662194550037384,0.25599637627601624,-0.04639261215925217,-0.08177501708269119,0.03458752483129501,0.057808827608823776,-0.040785711258649826,-0.06490309536457062,0.05084499716758728,0.09139907360076904,0.1896863877773285,0.08784035593271255,0.11479959636926651,0.11019117385149002,-0.023043299093842506,0.12434925884008408,0.22184288501739502,0.04912964254617691,0.05348203331232071,-0.03732939437031746,-0.07857473194599152,-0.025168295949697495,-0.04124654829502106,0.054096490144729614,0.048156753182411194,0.11349386721849442,0.04782392084598541,-0.07706419378519058,0.018022822216153145,0.001432520104572177,-0.018844518810510635,-0.008245157077908516,-0.017026755958795547,-0.07913798093795776,0.07857231050729752,-0.11685021221637726,-0.029008643701672554,0.0576552152633667,-0.07406872510910034,0.08305271714925766,-0.05476457253098488,-0.08072532713413239,0.09193672239780426,0.03906792774796486,0.21544231474399567,0.06874101608991623,0.058295272290706635,0.1814936399459839,-0.027651717886328697,-0.09793009608983994,-0.01403127983212471,-0.0589633584022522,0.0823870599269867,0.043061889708042145,-0.01689874194562435,0.19790473580360413,-0.1064300462603569,-0.014543325640261173,0.023168889805674553,-0.0067346240393817425,-0.008117147721350193,0.04992331564426422,0.0333586111664772,0.009804479777812958,0.1046866774559021,0.24066060781478882,0.2076335996389389,0.0669744610786438,-0.0033807195723056793,-0.010933402925729752,-0.11388032883405685,0.04887361824512482,0.11039599776268005,0.26715898513793945,0.03192488104104996,0.1271655112504959,0.11840952187776566,0.06646241247653961,-0.05020735785365105,0.044342007488012314,-0.08172382414340973,0.1751442700624466,-0.016361098736524582,-0.027677316218614578,-0.05394529923796654,0.018483664840459824,-0.036612529307603836,0.2099890112876892,0.048131149262189865,0.24094222486019135,0.2105778604745865,0.24565304815769196,-0.054022107273340225,-0.11733664572238922,0.15952683985233307,0.08364156633615494,-0.010856596753001213,-0.06303412467241287,0.1562497466802597,-0.04495888948440552,-0.0685386210680008,-0.06561996042728424,-0.05212753638625145,-0.04454924911260605,-0.08994216471910477,0.015385782346129417,0.24173589050769806,0.2664165198802948,-0.02335052378475666,-0.05819528549909592,0.229318767786026,0.1720975786447525,0.0072954497300088406,-0.036689337342977524,-0.051052238792181015,-0.06439104676246643,-0.09373131394386292,0.21203719079494476,-0.03730379790067673,0.039656784385442734,0.15455999970436096,-0.021481553092598915,-0.016821935772895813,0.08801956474781036,0.13919860124588013,0.22240613400936127,0.033333007246255875,-0.037918247282505035,0.13758565485477448,-0.01275116577744484,0.12007367610931396,0.14378142356872559,0.18756137788295746,-0.1296001672744751,0.0533028170466423,-0.12650227546691895,-0.10852944850921631,-0.04360196366906166,-0.07965002954006195,0.07212052494287491,0.10998635739088058,0.03806943818926811,-0.024323416873812675,0.2018730789422989,0.12900888919830322,-0.00537769915536046,-0.029111048206686974,0.15622414648532867,0.12975135445594788,0.1670539230108261,0.054531730711460114,-0.07358227670192719,0.006322561297565699,0.08991413563489914,0.15105247497558594,0.04736308380961418,0.07980121672153473,-0.11685021221637726,-0.05806727334856987,-0.08123737573623657,-0.11628695577383041,-0.026678824797272682,-0.0023566235322505236,0.08013405650854111,0.050230540335178375,0.1316971331834793,0.059549786150455475,0.0975436344742775,0.07135245203971863,0.1945764273405075,0.0832575336098671,0.008012315258383751,0.12352998554706573,0.02542189136147499,0.03655890002846718,0.18236413598060608,-0.028931837528944016,-0.06615760922431946,0.09352406114339828,0.09495779126882553,0.05087060108780861,-0.11554449051618576,0.0019189618760719895,0.0496416874229908,0.11367309093475342,-0.029418274760246277,0.010086101479828358,0.010546944104135036,0.18556441366672516,-0.014338514767587185,-0.11244659870862961,0.09956621378660202,-0.03561403602361679,0.021069500595331192,0.1508476585149765,-0.07545124739408493,0.19759748876094818,0.18999360501766205,0.09326804429292679,0.03095199540257454,-0.07127807289361954,0.05471094697713852,-0.006196974776685238,-0.03983842581510544,-0.14278535544872284,0.21897543966770172,0.10504510998725891,-0.03914715722203255,-0.02288968674838543,0.11259779334068298,0.011545436456799507,-0.020175836980342865,-0.03517879918217659,0.11807668954133987,0.15722262859344482,0.04585254564881325,0.059933822602033615,0.030311936512589455,0.13704800605773926,0.07199251651763916,-0.0015117489965632558,0.005682501941919327,0.08453765511512756,0.05296998843550682,0.07137805968523026,-0.12478692829608917,0.03689173236489296,0.002021371852606535,-0.02742129936814308,0.0048376270569860935,0.040450453758239746,-0.07675696909427643,-0.11421315371990204,-0.09001897275447845,0.14670008420944214,0.13809770345687866,-0.06907627731561661,0.21726007759571075,0.007474665995687246,0.04237063229084015,0.08079971373081207,-0.013877667486667633,-0.011215029284358025,-0.053151629865169525,0.033717043697834015,0.12696069478988647,-0.05425252392888069,0.0823870599269867,0.10530112683773041,0.009548451751470566,0.17273762822151184,-0.02122553624212742,-0.08976294845342636,0.19946646690368652,-0.008577990345656872,-0.02445143088698387,0.13354049623012543,0.03276975825428963,0.020147815346717834,-0.04751911759376526,0.05509498342871666,-0.015823444351553917,0.006373768672347069,-0.12555499374866486,0.09964302182197571,0.2890745997428894,0.058704908937215805,-0.0023566235322505236,-0.0628805160522461,0.06676963716745377,0.02163274772465229,0.20166826248168945,-0.0966755747795105,0.0602666512131691,0.08750752359628677,0.17368492484092712,-0.03226013854146004,-0.028957435861229897,0.18983998894691467,0.007269845809787512,0.08215663582086563,0.05942177399992943,-0.07652655243873596,-0.09055662155151367,-0.031901706010103226,-0.027984552085399628,-0.07486239820718765,0.1368175894021988,0.07035396993160248,0.007577076088637114,-0.057299207895994186,0.25341054797172546,-0.019638191908597946,-0.06049949675798416,0.020557450130581856,0.10811738669872284,-0.007912327535450459,0.2552027404308319,-0.07675696909427643,0.09308882802724838,0.16866686940193176,0.11280260980129242,0.01996859908103943,-0.03656132146716118,0.1444982886314392,-0.0033551156520843506,0.11797428131103516,0.0827454924583435,0.12870165705680847,0.07317022234201431,0.16370002925395966,-0.014901758171617985,0.21605676412582397,-0.006094564683735371,0.03760859742760658,0.1042514368891716,-0.12145862728357315,-0.023043299093842506,0.028263751417398453,0.13190194964408875,-0.10566198825836182,0.03947756811976433,0.07370787113904953,0.20445892214775085,0.20425410568714142,0.107733353972435,0.004197567701339722,-0.06902506947517395,0.01945655234158039,0.07839309424161911,0.040322445333004,0.05002572387456894,-0.08597380667924881,-0.025117089971899986,0.014336087740957737,-0.021199936047196388,-0.008398774079978466,-0.03000713512301445,-0.04672544449567795,-0.010933402925729752,0.163828045129776,-0.07199493795633316,-0.03743179887533188,0.16828285157680511,0.1884830743074417,-0.004968063440173864,-0.04403720423579216,-0.06203563138842583,0.07754822075366974,-0.016335489228367805,0.07936598360538483,0.05035855248570442,-0.002177407266572118,-0.00821955781430006,-0.009627685882151127,0.009113213047385216,0.1953444927930832,-0.03128724545240402,0.006578583735972643,0.15074525773525238,0.05893532931804657,-0.08599940687417984,0.0267788153141737,0.2548186779022217,-0.06851302087306976,0.06190520152449608,-0.0901469811797142,0.05058897286653519,0.17980389297008514,-0.028240570798516273,-0.048440802842378616,0.0439835749566555,0.19114571809768677,-0.06472387164831161,0.11623331904411316,-0.0554814375936985,-0.01185508444905281,0.06812656670808792,0.1706894487142563,0.24642112851142883,-0.07340306788682938,0.12527094781398773,-0.028291776776313782,-0.026320401579141617,0.10752853006124496,0.0005108342738822103,0.05622148513793945,-0.012418337166309357,-0.07068921625614166,0.07862351834774017,-0.0858713909983635,-0.005326496437191963,0.016614694148302078,0.09270479530096054,0.032052893191576004,0.15156452357769012,-0.017948443070054054,0.09910537302494049,0.11707819998264313,0.04925765097141266,0.1917857676744461,0.010470137931406498,0.1825433224439621,0.05865370109677315,0.051485054194927216,0.09610989689826965,0.1161821186542511,0.1358702927827835,0.1667979210615158,-0.03341224417090416,0.12452848255634308,0.05171547457575798,-0.01784602738916874,-0.06403261423110962,0.02165835164487362,0.013875245116651058,-0.13973867893218994,0.1999785155057907,-0.043371547013521194,0.03015832230448723,-0.013237613253295422,0.02199118211865425,-0.010805388912558556,0.06400459259748459,-0.041707396507263184,-0.05970582365989685,-0.018460487946867943,0.03865829110145569,0.05942177399992943,0.13187634944915771,0.11543965339660645,-0.05683836340904236,-0.0050960723310709,-0.0418098010122776,0.0431130975484848,-0.11987128853797913,0.03630287945270538,-0.09639395028352737,0.13371971249580383,-0.024809863418340683,0.009778875857591629,0.02368093468248844,-0.027370091527700424,-0.033207423985004425,0.04418839514255524,0.1755795031785965,0.07245335727930069,0.16815483570098877,0.04820795729756355,-0.11293303966522217,-0.027677316218614578,0.14357660710811615,0.23354315757751465,0.08712349086999893,0.23756271600723267,0.044265199452638626,0.05076818913221359,0.0012276999186724424,0.02923663891851902,0.18346501886844635,-0.028419790789484978,0.058730512857437134,0.039272747933864594,0.1959589570760727,-0.042270638048648834,0.09426652640104294,0.07155727595090866,0.10097433626651764,0.01697312667965889,-0.12547817826271057,0.1807255744934082,0.029364651069045067,-0.022659266367554665,-0.008859612047672272,0.1148764044046402,-0.11003997921943665,-0.019023731350898743,0.1484154313802719,0.2150326818227768,-0.013493635691702366,-0.09759724885225296,0.021095098927617073,-0.01820445992052555,-0.07127807289361954,-0.07450396567583084,0.002712633926421404,0.033742647618055344,0.1755027025938034,0.1450871378183365,0.026113154366612434,0.07793224602937698,0.09843970835208893,0.218693807721138,0.11979204416275024,0.22127963602542877,0.05673353001475334,0.005938524845987558,-0.10471471399068832,0.03942636027932167,-0.053228434175252914,0.040040817111730576,0.016717104241251945,-0.08638343960046768,0.0634925439953804,0.07232534140348434,-0.03968481346964836,0.1308266520500183,0.051024213433265686,-0.0019725917372852564,0.1372528374195099,0.055351004004478455,0.08520331233739853,0.10394420474767685,0.1463160514831543,0.027828512713313103,0.03353782743215561,0.15061724185943604,0.14106756448745728,-0.052741989493370056,0.054838959127664566],\"y\":[0.0016027376987040043,-0.15892380475997925,-0.00436259713023901,0.0006810614722780883,0.0042653800919651985,-0.041588377207517624,-0.05510639771819115,0.0043933941051363945,-0.033062804490327835,-0.042919691652059555,0.008976214565336704,-0.009329449385404587,-0.025663727894425392,-0.016088465228676796,-0.04430221766233444,-0.03401008993387222,-0.046273600310087204,0.02605295740067959,-0.010404747910797596,-0.024972470477223396,-0.0071532535366714,-0.00927824154496193,0.004700619261711836,0.006134350784122944,-0.0026728478260338306,-0.01969839259982109,-0.014808347448706627,0.006339170970022678,-0.025919755920767784,-0.0029032668098807335,-0.105056531727314,-0.033190809190273285,-0.029427267611026764,-0.04222843423485756,-0.012939376756548882,-0.08629002422094345,0.025694524869322777,-0.03969379514455795,-0.026534205302596092,-0.05395429581403732,0.0054174852557480335,-0.03168027102947235,0.007056036498397589,-0.011121613904833794,0.006057544611394405,-0.0016231482150033116,-0.023308319970965385,0.015940042212605476,-0.0017767609097063541,-0.015499603934586048,-0.04394378140568733,-0.054031092673540115,0.009872292168438435,-0.026739025488495827,-0.008279750123620033,0.00910421833395958,0.00490543944761157,-0.02571493573486805,-0.003645731369033456,-0.02827516384422779,-0.009815895929932594,-0.04082030430436134,-0.024281203746795654,-0.039437778294086456,0.012918965891003609,-0.033267613500356674,-0.014910751953721046,0.01033313013613224,0.009641872718930244,-0.006590000353753567,0.0002714212459977716,-0.029324863106012344,-0.033267613500356674,-0.004183385521173477,0.00357412314042449,-0.033933281898498535,-0.0705702006816864,0.005135858431458473,0.022622251883149147,0.02344152331352234,-0.0419980064034462,-0.018827905878424644,-0.004260191693902016,-0.018213454633951187,-0.023513130843639374,-0.011249626986682415,0.011075603775680065,0.02682103030383587,-0.01813664846122265,-0.03800404816865921,-0.0021351936738938093,-0.026841431856155396,-0.00950866099447012,-0.0007270709029398859,-0.0239739790558815,-0.03797844797372818,0.023723149672150612,0.015479203313589096,0.016068054363131523,-0.03388207405805588,0.019242743030190468,-0.00853577721863985,-0.05293020233511925,0.014224683865904808,0.004470200277864933,-0.024358009919524193,-0.0009318910306319594,0.018116237595677376,-0.05303261801600456,0.023492729291319847,-0.050241950899362564,0.031352635473012924,-0.04568473994731903,-0.03380526974797249,0.012560533359646797,0.021444538608193398,-0.023589937016367912,-0.008126136846840382,-0.010251135565340519,-0.025842949748039246,-0.005105061922222376,-0.09934720396995544,0.008745785802602768,-0.039488986134529114,-0.04058988392353058,-0.025868548080325127,-0.025433309376239777,0.0026780362240970135,0.005315079819411039,-0.02909444272518158,0.027333077043294907,0.032146304845809937,-0.0283263698220253,-0.13296304643154144,0.01207408681511879,0.0034205103293061256,-0.06713948398828506,0.007312064059078693,-0.006794820539653301,0.002780450973659754,-0.027097459882497787,-0.052725374698638916,-0.03321641683578491,-0.04018024355173111,-0.04798895865678787,-0.08552196621894836,-0.04860341176390648,-0.02312909997999668,0.016861727461218834,-0.043252527713775635,0.0007578678196296096,0.004342186730355024,-0.04645281285047531,-0.010839986614882946,0.00608315272256732,0.009462651796638966,0.01414787769317627,-0.015269185416400433,-0.012273718602955341,-0.0036713399458676577,-0.020799290388822556,0.02003641612827778,-0.11184114217758179,0.023287909105420113,0.011715663596987724,-0.046222392469644547,0.026616210117936134,0.005750318989157677,-0.006410788744688034,0.028715599328279495,-0.006461986806243658,-0.0471440814435482,-0.04514709487557411,-0.024358009919524193,-0.06511689722537994,-0.0102767338976264,0.007516874466091394,0.026027359068393707,0.004418992903083563,0.03155745565891266,-0.01772700808942318,0.014378296211361885,-0.026406193152070045,-0.030476966872811317,0.02129092626273632,-0.00705083878710866,-0.016293276101350784,0.004316587466746569,-0.02059447020292282,-0.0007782783359289169,0.016503294929862022,0.020727671682834625,-0.0010342963505536318,-0.03900253772735596,-0.02789113111793995,-0.030630579218268394,-0.018981527537107468,0.003266897751018405,0.027153855189681053,-0.03495737165212631,-0.017394183203577995,-0.05318623036146164,-0.004388205707073212,-0.015499603934586048,-0.017342975363135338,-0.024178799241781235,0.022699058055877686,-0.007946925237774849,0.03521858900785446,-0.039104945957660675,0.01117800921201706,-8.70115909492597e-05,0.0013467196840792894,0.008720186538994312,-0.018981527537107468,-0.020415248349308968,-0.014270693063735962,-0.01990320347249508,-0.03431731462478638,-0.013297809287905693,-0.005207476671785116,0.024926451966166496,-0.007716506253927946,-0.02947847545146942,-0.007230059709399939,-0.022898679599165916,-0.025766143575310707,0.013354205526411533,0.002089184243232012,0.001551539869979024,-0.00018941688176710159,0.0007834667921997607,0.027051448822021484,-0.023513130843639374,-0.047835346311330795,-0.032371535897254944,-0.047835346311330795,0.02764030173420906,-0.04299649968743324,-0.016651708632707596,0.012739754281938076,-0.03887452557682991,0.018884310498833656,0.010256323963403702,0.010614756494760513,-0.05349345505237579,-0.029708893969655037,0.006825617514550686,-0.024972470477223396,-0.03754320740699768,-0.026329386979341507,-1.0205239959759638e-05,-0.05510639771819115,-0.018648693338036537,-0.1532144844532013,-0.005949940998107195,-0.014424305409193039,-0.009559868834912777,-0.033626046031713486,-0.05395429581403732,-0.008791795000433922,0.02725626900792122,-0.06998134404420853,0.02651379629969597,0.026590611785650253,0.016298474743962288,0.01701533980667591,-0.039975423365831375,-0.015294793993234634,0.009744278155267239,-0.020466456189751625,-0.01168486662209034,0.0003482275933492929,-0.018213454633951187,0.017604192718863487,-0.030707387253642082,-0.03915615379810333,-0.021311335265636444,-0.13216939568519592,0.026693016290664673,0.0027548426296561956,-0.0428684838116169,-0.006026747636497021,0.0041117677465081215,-0.01278576347976923,0.034296903759241104,0.010000305250287056,0.019934000447392464,0.007696095854043961,-0.040359463542699814,-0.032320328056812286,-0.015806838870048523,0.012995772063732147,-0.007716506253927946,0.010896382853388786,-0.0039017589297145605,-0.11744805425405502,-0.008919809013605118,-0.017778215929865837,-0.025023669004440308,-0.041511569172143936,-0.029811309650540352,-0.047604918479919434,-0.04430221766233444,0.022647850215435028,0.013815052807331085,-0.0038761505857110023,-0.03920735791325569,-0.05103563517332077,-0.0025448340456932783,-0.022386634722352028,-0.01675412431359291,-0.04312451183795929,0.022443030029535294,-0.009252643212676048,0.010563558898866177,-0.040052227675914764,-0.00927824154496193,-0.002749654231593013,-0.04315011203289032,-0.0012135175056755543,-0.010379139333963394,-0.009124629199504852,0.008745785802602768,-0.009585467167198658,-0.009483061730861664,-0.051368456333875656,0.006876824889332056,0.012458127923309803,-0.06570575386285782,-0.012401722371578217,0.027333077043294907,0.031250227242708206,-0.008458971045911312,-0.003082478418946266,-0.022924279794096947,0.02134213224053383,-0.05013955757021904,0.007619289681315422,0.0048542320728302,-0.0010342963505536318,0.0020123780705034733,-0.007230059709399939,-0.0326787605881691,-0.0840626135468483,-0.017214961349964142,-0.018290260806679726,-0.04266367480158806,-0.014654734171926975,-0.03585344925522804,-0.02901763655245304,-0.0408715084195137,0.0018075578846037388,0.033247210085392,-0.04263806715607643,-0.016037259250879288,-0.004183385521173477,-0.004004164133220911,0.014224683865904808,0.00631357217207551,0.018884310498833656,0.03434811159968376,-0.0017767609097063541,-0.03933536261320114,0.0030876765958964825,-0.017573395743966103,0.008720186538994312,-0.06798436492681503,-0.04821936786174774,-0.009457463398575783,0.023569535464048386,0.020574059337377548,-0.0018023693701252341,-0.04980671405792236,0.0037533347494900227,-0.02702065370976925,-0.008638182654976845,0.014301490038633347,-0.0081005385145545,-0.0012647153344005346,0.01829545944929123,-0.009739089757204056,-0.03132183849811554,-0.008740597404539585,9.220959327649325e-05,-0.0009318910306319594,-0.03247394040226936,0.030046917498111725,-0.07259277999401093,-0.052264533936977386,0.012662948109209538,0.024081582203507423,-0.006180359981954098,-0.035674240440130234,-0.08401141315698624,-0.024537231773138046,0.013635831885039806,-0.049141064286231995,-0.010660765692591667,-0.02527969516813755,0.02344152331352234,-0.04796333983540535,-0.06048288196325302,-0.042561259120702744,-0.027737518772482872,-0.03846488520503044,-0.016165271401405334,-0.03244834393262863,0.007107243873178959,0.0008602731395512819,0.027947526425123215,0.016272874549031258,0.02676982246339321,-0.01765020191669464,0.02520807832479477,-0.0059243422001600266,-0.0019303736044093966,-0.043329332023859024,0.009334647096693516,-0.05364706739783287,-0.022028202190995216,0.018602684140205383,0.014659922569990158,0.004572615027427673,0.011920473538339138,-0.0421772263944149,0.011894875206053257,-0.007332465145736933,-0.02783992327749729,-0.007742105517536402,-0.040001031011343,-0.02156735397875309,-0.035623032599687576,-0.02230982854962349,-0.016472497954964638,0.008080127649009228,0.001167498528957367,-0.014117080718278885,-0.00920143537223339,-0.0013415217399597168,-0.024972470477223396,0.009309038519859314,-0.03992422670125961,-0.011147212237119675,0.02682103030383587,-0.030220940709114075,-0.02699505351483822,-6.141265475889668e-05,0.022801462560892105,-0.012504137121140957,-0.015192379243671894,-0.0115824518725276,-0.008228551596403122,-0.051317259669303894,0.01706654764711857,0.007977722212672234,0.005315079819411039,0.002857257379218936,0.0023452118039131165,-0.07571627199649811,0.01791141740977764,-0.009713481180369854,-0.00029183170408941805,-0.008356556296348572,-0.015064365230500698,-0.006692405790090561,0.010128319263458252,-0.04834738373756409,-0.022284219041466713,-0.004925849847495556,-0.009662283584475517,-0.031885091215372086,-0.02494686283171177,-0.035725437104701996,0.007798501290380955,0.0319414958357811,-0.019493572413921356,-0.023154698312282562,-0.04058988392353058,-0.11842092871665955,0.01878189481794834,-0.0352901965379715,-0.008689389564096928,-0.03032335452735424,-0.010635167360305786,0.014634324237704277,-0.006052355747669935,-0.003773745149374008,-0.03749200329184532,0.02815234661102295,0.0179626252502203,-0.05165008455514908,0.03355443850159645,-0.02312909997999668,0.013763845898211002,-0.15044943988323212,-0.010660765692591667,0.0032924965489655733,0.009206634014844894,0.008848200552165508,-0.05154766887426376,0.03268396109342575,-0.038183268159627914,0.03104540891945362,-0.025330903008580208,-0.028172757476568222,-0.031014611944556236,-0.006794820539653301,-0.0032104921992868185,-0.04811697453260422,-0.030630579218268394,-0.02799353562295437,0.004137375857681036,-0.04350854456424713,-0.017394183203577995,-0.052648577839136124,-0.0331140011548996,0.005750318989157677,0.01110120303928852,-0.004874642472714186,0.008848200552165508,-0.025023669004440308,0.0019867790397256613,-0.0402570478618145,-0.02077368274331093,-0.03370285406708717,-0.052699774503707886,-0.06066209450364113,-0.00927824154496193,0.009949098341166973,-0.00920143537223339,-0.0013415217399597168,-0.11076583713293076,-0.0018535673152655363,-0.013835454359650612,-0.013323408551514149,-0.018879111856222153,0.019805995747447014,0.001167498528957367,-0.14051572978496552,0.006492783781141043,0.005212665069848299,-0.009483061730861664,0.0034205103293061256,0.02973969094455242,-0.05566965043544769,-0.0038249525241553783,0.004137375857681036,-0.026534205302596092,-0.014731540344655514,0.013968666084110737,-0.034394118934869766,-0.007281267084181309,0.02336471527814865,0.014455102384090424,-0.026431800797581673,-0.014833945780992508,-0.013400214724242687,-0.05385188013315201,0.009718678891658783,0.004982246086001396,-0.006052355747669935,0.0032924965489655733,0.028741199523210526,-0.04842419922351837,0.029586078599095345,-0.05147087201476097,-0.013528228737413883,-0.01885351352393627,-0.023922771215438843,-0.008689389564096928,0.002550031989812851,-0.13703382015228271,-0.007383672520518303,-0.02945287711918354,-0.008510177955031395,-0.03593025729060173,0.02172616496682167,-0.022105008363723755,-0.04601757228374481,-0.009099029935896397,-0.04834738373756409,-0.02691824734210968,-0.01409148145467043,-0.13854436576366425,0.006595198530703783,-0.008126136846840382,-0.010199927724897861,-0.009047823026776314,-0.0022888064850121737,-0.027148665860295296,-0.012990583665668964,-0.0003174306475557387,-0.010225526988506317,-0.022591454908251762,-0.01324660237878561,-0.010532761923968792,0.0268466304987669,-0.03339562937617302,-0.018187854439020157,0.00703043770045042,0.010307530872523785,0.0020379768684506416,0.029150839895009995,-0.03385647386312485,-0.016114065423607826,-0.024972470477223396,-0.022105008363723755,0.02500326745212078,-0.029811309650540352,-0.009022223763167858,-0.025484515354037285,0.017168952152132988,-0.01104480680078268,-0.002468027640134096,-0.03790164366364479,-0.004874642472714186,0.017220159992575645,0.008310547098517418,0.005494291428476572,-0.0359046570956707,-0.02102970890700817,-0.02955528162419796,-0.07374488562345505,0.001244314480572939,0.016964131966233253,-0.015448406338691711,0.0062623643316328526,0.015376788564026356,-0.02612457610666752,0.02469603344798088,-0.038285672664642334,-0.009636675007641315,-0.006026747636497021,-0.00436259713023901,-0.059484388679265976,-0.029427267611026764,-0.0315522663295269,-0.16373702883720398,-0.0239739790558815,-0.031168224290013313,-0.00441380450502038,0.001218706020154059,-0.04476306214928627,-0.039949823170900345,-0.002416820265352726,0.014019863680005074,-0.041639573872089386],\"z\":[-0.4888458847999573,0.17765933275222778,0.3674493134021759,0.5179653167724609,-0.35975897312164307,0.19401922821998596,0.09678159654140472,0.3818378150463104,-0.2768586575984955,-0.14638924598693848,-0.5039512515068054,0.40319016575813293,-0.2666945457458496,-0.3052516579627991,0.12071976065635681,-0.2772938907146454,-0.09687435626983643,-0.6629928350448608,0.1615554690361023,-0.26142045855522156,0.2755626142024994,0.4165545403957367,0.423262357711792,0.53773033618927,-0.3545873463153839,-0.09866651892662048,-0.2803661823272705,-0.4922510087490082,-0.0913698598742485,0.43125030398368835,-0.13594350218772888,0.21009747684001923,0.17184759676456451,0.2748969495296478,0.16770002245903015,0.19035807251930237,0.6748308539390564,-0.08576294779777527,-0.19836194813251495,0.09537346661090851,-0.5413050651550293,0.1418672800064087,0.4208557605743408,-0.2738375961780548,0.5228554010391235,0.4897516071796417,-0.17199155688285828,0.6611591577529907,-0.3380226194858551,-0.12787877023220062,0.085875004529953,0.10499992966651917,-0.5870307683944702,-0.25985872745513916,-0.36278006434440613,-0.5786076188087463,-0.4131142199039459,-0.17519184947013855,-0.3012832701206207,-0.10854902118444443,-0.16021448373794556,0.1704394668340683,-0.27178940176963806,-0.18067075312137604,-0.5492161512374878,-0.17516624927520752,-0.05278715863823891,0.5768762826919556,-0.5478848814964294,-0.18364061415195465,0.34668582677841187,-0.08878402411937714,0.16588227450847626,-0.41654494404792786,-0.4287060499191284,0.19488969445228577,0.16987621784210205,0.5626670122146606,0.7079858183860779,0.7526618242263794,0.1750478893518448,-0.3061477243900299,-0.21927903592586517,0.2631966769695282,0.27727794647216797,0.23651906847953796,0.5620013475418091,0.7094707489013672,-0.29754534363746643,0.20507940649986267,0.48967477679252625,0.13349531590938568,-0.1962369680404663,0.5054202079772949,-0.06492266803979874,0.18060360848903656,-0.6478106379508972,0.6319980621337891,-0.5940970182418823,-0.11702338606119156,0.6849949359893799,0.24632476270198822,-0.26106205582618713,0.6518142819404602,-0.5193894505500793,0.19908848404884338,0.295762836933136,0.5863747596740723,-0.1675623506307602,0.7489750981330872,-0.06942867487668991,-0.7478132843971252,0.274538516998291,-0.2666945457458496,-0.6184960603713989,-0.6137084364891052,0.2814255356788635,0.4287412464618683,-0.1385805457830429,-0.06947987526655197,0.26847076416015625,-0.16648706793785095,0.5828416347503662,0.10295175015926361,0.2783788740634918,0.24435336887836456,-0.15217538177967072,-0.5152162909507751,0.4542667865753174,-0.11530803889036179,-0.6798391342163086,0.7669991254806519,-0.055680230259895325,-0.1660774201154709,-0.6134523749351501,0.5002485513687134,0.1071249321103096,-0.4275539219379425,0.28987428545951843,-0.3456265330314636,0.2911800146102905,-0.06791813671588898,-0.18722493946552277,-0.16738314926624298,0.1437106430530548,-0.17503823339939117,-0.17864815890789032,-0.217384472489357,0.6140764355659485,0.07478919625282288,0.48281338810920715,0.542978823184967,0.1101716011762619,0.18326623737812042,0.41965243220329285,-0.5537734031677246,0.5210632085800171,0.25280216336250305,0.3339102566242218,-0.4376412630081177,-0.26272618770599365,-0.6319116353988647,0.1945824772119522,-0.7125077247619629,0.6295914649963379,-0.0827418863773346,-0.7700105309486389,0.3973272442817688,-0.4211789667606354,-0.7148119211196899,-0.23492206633090973,0.27960777282714844,-0.14454588294029236,0.28101590275764465,0.10149241983890533,0.1296805739402771,-0.47246041893959045,0.7196860313415527,-0.4322391450405121,-0.7509111762046814,0.32958346605300903,0.5195527076721191,-0.21351851522922516,0.2383880317211151,-0.6635048985481262,-0.38369715213775635,-0.3084263205528259,-0.4251985251903534,-0.2066826969385147,0.3496813178062439,-0.5446333885192871,-0.5977581739425659,0.3062085807323456,-0.1474645435810089,-0.2666945457458496,-0.26134365797042847,-0.2781643867492676,0.4358075261116028,0.780593991279602,0.2836785316467285,-0.09147226810455322,0.09570629894733429,-0.4449635148048401,-0.07096480578184128,0.33631688356399536,-0.2710213363170624,0.6510207056999207,-0.4074305295944214,0.8062987327575684,0.19911408424377441,-0.49752506613731384,0.41540244221687317,-0.44230085611343384,-0.4484710395336151,-0.25550633668899536,-0.21298088133335114,-0.19854117929935455,-0.11884114891290665,-0.1953664869070053,-0.08133374899625778,0.4029597342014313,0.7279044389724731,0.33667534589767456,-0.23205460608005524,0.400450736284256,0.2748713195323944,0.2863923907279968,-0.5411258339881897,-0.4711802899837494,0.47513267397880554,0.47103631496429443,0.4395454525947571,-0.7720075249671936,0.1693897843360901,0.13231761753559113,0.11664899438619614,-0.2723270654678345,-0.7673991322517395,0.16196510195732117,0.30897364020347595,0.6363504528999329,-0.10148277878761292,0.7054511904716492,0.5472288131713867,-0.5636814832687378,0.10776498913764954,0.1813460737466812,-0.41559767723083496,-0.25819456577301025,-0.06773892045021057,-0.16484850645065308,-0.46749353408813477,-0.05949496850371361,-0.17434696853160858,0.17238526046276093,-0.362677663564682,-0.07713497430086136,-0.30102723836898804,-0.21159835159778595,0.08823041617870331,-0.21490104496479034,0.7555549144744873,0.19261108338832855,0.7640804648399353,-0.7596927881240845,0.5842497944831848,-0.6051060557365417,0.17002984881401062,-0.3384834825992584,-0.5706965327262878,-0.27422162890434265,0.2166004627943039,0.38048088550567627,-0.2245275229215622,-0.5693395733833313,-0.23553653061389923,0.19232946634292603,0.2911800146102905,0.16744399070739746,0.7874553799629211,0.5363990068435669,-0.13881096243858337,0.2072044163942337,-0.5320882201194763,-0.3611927032470703,-0.7954848408699036,-0.5169060826301575,-0.6915650367736816,-0.5676242113113403,-0.09592707455158234,0.28728845715522766,0.1759183704853058,-0.48221486806869507,-0.37865352630615234,0.5382423996925354,-0.4373084306716919,0.17371657490730286,0.0789879783987999,-0.12457606941461563,0.16483256220817566,-0.15796150267124176,-0.20952457189559937,-0.2622653543949127,-0.14900068938732147,-0.7052878737449646,-0.5586122274398804,0.4601041078567505,-0.2503858804702759,0.09235239028930664,0.572882354259491,0.28475382924079895,0.32942989468574524,-0.1443154513835907,-0.618598461151123,0.302752286195755,-0.6033906936645508,0.19366078078746796,0.32689523696899414,-0.5655504465103149,0.2748969495296478,-0.39626792073249817,-0.2650303840637207,-0.1525081992149353,0.5700916647911072,0.15269705653190613,0.23116818070411682,-0.07216811925172806,0.43854695558547974,0.6129499673843384,-0.10015146434307098,-0.32854974269866943,0.7464916706085205,-0.7888281941413879,0.0891776978969574,0.28086230158805847,0.2388232797384262,-0.6033650636672974,0.1099155843257904,-0.5744856595993042,0.5525285005569458,0.4718043804168701,-0.3890736699104309,-0.17030180990695953,0.19350716471672058,0.17527832090854645,0.3206995129585266,-0.3145708739757538,-0.1336904913187027,-0.3112937808036804,0.16969700157642365,0.2522388994693756,0.15561571717262268,-0.3444744348526001,0.8091405630111694,-0.1809011548757553,-0.2285470813512802,0.3789447546005249,0.3556210398674011,0.5693492293357849,-0.5205927491188049,-0.6564130187034607,0.7948800921440125,0.32587116956710815,-0.17603673040866852,0.4845799505710602,-0.18476711213588715,0.4728284478187561,0.1876954436302185,-0.17268283665180206,0.37812548875808716,-0.6303499341011047,-0.6156541705131531,0.4913133382797241,0.11757068336009979,-0.4959121346473694,-0.18213008344173431,-0.19897641241550446,0.5276686549186707,0.1664455085992813,-0.4607345461845398,-0.6206210851669312,-0.1374284327030182,-0.18026110529899597,0.3718017041683197,0.333039790391922,0.36104872822761536,-0.1864824742078781,0.7357131242752075,-0.18927311897277832,-0.26794904470443726,-0.49624496698379517,0.7328968644142151,-0.4232783317565918,0.09201956540346146,-0.12160620093345642,-0.16141781210899353,-0.6232324838638306,-0.07810785621404648,0.27848127484321594,-0.2503858804702759,-0.727024257183075,0.10292614996433258,0.1911773532629013,0.17630240321159363,-0.18870988488197327,0.12696672976016998,0.2717222571372986,-0.06768771260976791,-0.4664950668811798,0.5184006094932556,0.7209917902946472,-0.6322444677352905,-0.6719792485237122,-0.2501554489135742,-0.7545211315155029,0.38595977425575256,-0.4746110141277313,0.11211737990379333,-0.5652176141738892,-0.08507169038057327,-0.24618709087371826,0.7000746726989746,-0.5084828734397888,-0.3905330002307892,0.5151491165161133,-0.12060771137475967,-0.5932777523994446,-0.2239130586385727,0.2701605260372162,0.4195500612258911,0.14611726999282837,-0.23379556834697723,-0.2019718736410141,-0.2658240497112274,0.07596690952777863,0.4359610974788666,0.36473548412323,-0.34460243582725525,0.1568446308374405,0.47958749532699585,-0.20660588145256042,-0.47176915407180786,0.15561571717262268,-0.38228902220726013,-0.7318630814552307,-0.14019349217414856,-0.231491357088089,-0.3457033336162567,0.6978985071182251,-0.35207831859588623,-0.33249253034591675,0.19540174305438995,-0.06435941159725189,-0.08020724356174469,-0.6375953555107117,-0.5401273369789124,-0.550598680973053,0.36801254749298096,0.5376023054122925,-0.1672295331954956,-0.6642217040061951,-0.3174639344215393,-0.36487945914268494,0.3871118724346161,-0.24948976933956146,-0.38579657673835754,-0.5130144953727722,-0.2594490647315979,-0.2826959788799286,-0.4194636046886444,-0.3328765332698822,-0.2287006974220276,-0.251025915145874,-0.14810460805892944,0.5062651038169861,0.7612130045890808,0.3166543245315552,0.21255528926849365,0.1799379289150238,0.1950177103281021,-0.5647055506706238,0.08198345452547073,0.3905937969684601,-0.10102193802595139,-0.2065034955739975,-0.645352840423584,-0.3189488649368286,-0.2280094474554062,-0.16850964725017548,0.7298758029937744,-0.5620173215866089,0.10750896483659744,0.7905020713806152,-0.09774483740329742,-0.5867235660552979,0.17911864817142487,0.09406774491071701,-0.5135265588760376,0.5694260597229004,-0.43405693769454956,-0.10209723562002182,-0.7721611261367798,-0.1793394386768341,-0.7374187707901001,-0.22509075701236725,-0.23704704642295837,-0.2666945457458496,0.28598272800445557,0.58017897605896,0.1290661245584488,-0.17334848642349243,-0.1956224888563156,-0.3675420880317688,-0.275757759809494,0.17573915421962738,0.271543025970459,0.2695716619491577,0.49986451864242554,-0.5764314532279968,0.3516014516353607,0.6036563515663147,-0.2649279832839966,-0.3728674054145813,0.18879632651805878,0.276279479265213,-0.20652909576892853,0.08838402479887009,0.17307652533054352,-0.1334344744682312,0.615433394908905,0.2689572274684906,0.49978768825531006,0.170695498585701,0.3025730550289154,0.37131527066230774,-0.34903162717819214,-0.2936025857925415,0.6107738018035889,-0.32473501563072205,0.17059308290481567,0.4715483486652374,-0.48083239793777466,-0.3807784914970398,0.5455646514892578,-0.7795858383178711,-0.0729873925447464,0.4217774271965027,0.5558568239212036,0.17980992794036865,-0.22332420945167542,0.65562903881073,-0.19111648201942444,0.36678364872932434,0.7515097856521606,-0.5309104919433594,0.10942914336919785,-0.33205729722976685,0.13654199242591858,-0.060007013380527496,0.5945419073104858,0.44676530361175537,-0.3772197961807251,0.5462815165519714,0.7586783766746521,0.07839912176132202,-0.7349354028701782,-0.2666945457458496,0.29719656705856323,-0.1951872557401657,0.15479645133018494,-0.4023868441581726,-0.5017238855361938,0.1765328347682953,0.27743157744407654,-0.22926394641399384,-0.14574919641017914,-0.173655703663826,-0.6789942383766174,-0.21822935342788696,-0.2666945457458496,0.08792319148778915,-0.09792406111955643,0.17745451629161835,0.22169531881809235,-0.1720171570777893,-0.44030389189720154,0.42812681198120117,-0.1133110523223877,0.337776243686676,0.3270488679409027,0.2518036663532257,-0.22634528577327728,-0.41616091132164,0.2084077149629593,0.075250044465065,-0.3593749701976776,0.38247787952423096,-0.7527033686637878,0.23600701987743378,-0.1835894137620926,0.48053476214408875,-0.4836485981941223,0.3478635251522064,0.8068107962608337,-0.10998275130987167,-0.3207922875881195,-0.25985872745513916,-0.2779339551925659,0.7622371315956116,-0.07303860038518906,-0.31149861216545105,-0.4144711494445801,0.6775190830230713,0.2886453866958618,0.3455081284046173,-0.19019481539726257,0.36565715074539185,0.6014801263809204,0.48644888401031494,0.4007835388183594,-0.18056833744049072,0.3124043345451355,-0.1947520226240158,0.11293665319681168,0.5189894437789917,-0.6296074390411377,-0.19669780135154724,-0.47932180762290955,-0.5322162508964539,-0.4092482924461365,0.6975144743919373,-0.17956984043121338,-0.394885390996933,0.3754628300666809,0.3937684893608093,-0.1873529553413391,0.21480830013751984,0.24489103257656097,-0.16945692896842957,-0.2706885039806366,0.24181875586509705,0.23329317569732666,0.3851405382156372,-0.10017705708742142,-0.2503858804702759,-0.25199881196022034,-0.5481920838356018,-0.13407452404499054],\"type\":\"scatter3d\"},{\"marker\":{\"color\":\"#1ac938\"},\"mode\":\"markers\",\"x\":[-0.7234203815460205,-0.7001222968101501,-0.7997152805328369,-0.5654796957969666,-0.47167277336120605,-0.783406674861908,-0.670551598072052,-0.7054475545883179,-0.7521461844444275,-0.7744458317756653,-0.6136888265609741,-0.6966147422790527,-0.7655874490737915,-0.7181207537651062,-0.7666114568710327,-0.6854009628295898,-0.43780088424682617,-0.4861636757850647,-0.6824823021888733,-0.5681679248809814,-0.7348902225494385,-0.7774925231933594,-0.6967939734458923,-0.7093903422355652,-0.7936219573020935,-0.8141549825668335,-0.49737751483917236,-0.46260952949523926,-0.7628735303878784,-0.7132306694984436,-0.558592677116394,-0.7125649452209473,-0.7114384770393372,-0.7473841905593872,-0.7039626836776733,-0.7875797748565674,-0.7672003507614136,-0.6737263202667236,-0.7568826675415039,-0.7738569378852844,-0.725545346736908,-0.7607741355895996,-0.7645633220672607,-0.666532039642334,-0.832767903804779,-0.6825078725814819,-0.7712711691856384,-0.6403408646583557,-0.7426220774650574,-0.8185586333274841,-0.6632805466651917,-0.6213182806968689,-0.6756976842880249,-0.5643787980079651,-0.7252125144004822,-0.7166869640350342,-0.6668904423713684,-0.5556995868682861,-0.7601853013038635,-0.6333001852035522,-0.6599265933036804,-0.69804847240448,-0.6551389694213867,-0.6732398271560669,-0.7122578024864197,-0.835507333278656,-0.6273860335350037,-0.7589052319526672,-0.5577477812767029,-0.6201918125152588,-0.6553694009780884,-0.5730323791503906,-0.6963843107223511,-0.5919780731201172,-0.7037065625190735,-0.5730835795402527,-0.6110774278640747,-0.7527094483375549,-0.77800452709198,-0.7071372866630554,-0.5752085447311401,-0.5839901566505432,-0.8441353440284729,-0.6828663349151611,-0.7059339880943298,-0.8007650375366211,-0.7567546367645264,-0.7140755653381348,-0.6401616334915161,-0.8176369071006775,-0.7296417355537415,-0.7053195238113403,-0.7435950040817261,-0.8416519165039062,-0.6817141771316528,-0.7341733574867249,-0.8138221502304077,-0.6333001852035522,-0.7728584408760071,-0.7453615665435791,-0.7363495230674744,-0.7525046467781067,-0.7425965070724487,-0.6881403923034668,-0.5482493042945862,-0.6476118564605713,-0.7226011157035828,-0.7650241851806641,-0.6617699861526489,-0.5529345273971558,-0.7871445417404175,-0.6971268057823181,-0.6952065825462341,-0.8267513513565063,-0.5974825620651245,-0.6953346133232117,-0.7460528016090393,-0.7804111838340759,-0.7839698791503906,-0.768454909324646,-0.720066487789154,-0.7938267588615417,-0.7162005305290222,-0.8082408905029297,-0.7548344135284424,-0.7070860862731934,-0.789320707321167,-0.764819324016571,-0.7003782987594604,-0.6891900300979614,-0.6419793963432312,-0.7853012084960938,-0.5591815114021301,-0.79697585105896,-0.7776972651481628,-0.7484594583511353,-0.7494835257530212,-0.7644097208976746,-0.7277727723121643,-0.5718802809715271,-0.7429549098014832,-0.7787469625473022,-0.7941595911979675,-0.8175857067108154,-0.7552440762519836,-0.6974852681159973,-0.6469974517822266,-0.6324552893638611,-0.7293857336044312,-0.7417516708374023,-0.738448977470398,-0.8074215650558472,-0.7217050194740295,-0.6759793162345886,-0.6899837255477905,-0.7256221771240234,-0.5474556088447571,-0.6084915995597839,-0.7549368143081665,-0.7908824682235718,-0.73148512840271,-0.7620030641555786,-0.6915711164474487,-0.7858132719993591,-0.7646913528442383,-0.6878331899642944,-0.7496371865272522,-0.7290017008781433,-0.6886780858039856,-0.5152991414070129,-0.7241628766059875,-0.8059110641479492,-0.7965661883354187,-0.6456149220466614,-0.5654796957969666,-0.5265385508537292,-0.7661762237548828,-0.6016557216644287,-0.7636672258377075,-0.6626660823822021,-0.6122806668281555,-0.6512474417686462,-0.6863481998443604,-0.5743892788887024,-0.6422353982925415,-0.7279263734817505,-0.8185586333274841,-0.7122066020965576,-0.7535543441772461,-0.7416492700576782,-0.80693519115448,-0.7565242052078247,-0.7873493432998657,-0.7798479199409485,-0.7117457389831543,-0.8022499084472656,-0.7662530541419983,-0.7819472551345825,-0.793007493019104,-0.5682958960533142,-0.5584646463394165,-0.5687567591667175,-0.6692458391189575,-0.7448750734329224,-0.5503742694854736,-0.8312573432922363,-0.7260830402374268,-0.690009355545044,-0.565889298915863,-0.6002475619316101,-0.6910846829414368,-0.7433645725250244,-0.6073906421661377,-0.7858900427818298,-0.8140013813972473,-0.6649959087371826,-0.5802266001701355,-0.8074471950531006,-0.6211391091346741,-0.7284128069877625,-0.6224448084831238,-0.6786931157112122,-0.7103375792503357,-0.6954882144927979,-0.7065997123718262,-0.6782578825950623,-0.7761355638504028,-0.6908286213874817,-0.73850017786026,-0.7344805598258972,-0.8454409837722778,-0.7244444489479065,-0.707316517829895,-0.7283104062080383,-0.7911897301673889,-0.5391861200332642,-0.5687567591667175,-0.4784829616546631,-0.6299974918365479,-0.7945948243141174,-0.6812021732330322,-0.5042645335197449,-0.724367618560791,-0.5514751672744751,-0.8005858063697815,-0.7687108516693115,-0.5839645266532898,-0.6587489247322083,-0.7970526814460754,-0.5234662294387817,-0.6656871438026428,-0.8119019865989685,-0.5200355648994446,-0.7271327376365662,-0.7187607288360596,-0.8087273240089417,-0.7029897570610046],\"y\":[0.023953568190336227,0.07101063430309296,0.058747123926877975,0.09837951511144638,0.07490218430757523,0.2186848223209381,0.030840588733553886,0.20660053193569183,0.043948981910943985,0.05045197159051895,0.22557184100151062,0.02085568569600582,0.35012713074684143,0.046560417860746384,0.13673178851604462,0.16120761632919312,0.08355577290058136,0.08160998672246933,0.04062068089842796,0.042336031794548035,0.04586915299296379,0.041004713624715805,0.1603115200996399,0.06043687090277672,0.04425620660185814,0.05662212893366814,0.08155879378318787,0.06857841461896896,0.03309359401464462,0.020958101376891136,0.07459495216608047,0.042771272361278534,0.06110253557562828,0.16430549323558807,0.07887054234743118,0.06384198367595673,0.22047698497772217,0.10150299966335297,0.04451223090291023,0.1450013369321823,0.16131001710891724,0.20155687630176544,0.3740397095680237,0.23911547660827637,0.06563414633274078,0.07687356323003769,0.3081393241882324,0.20227374136447906,0.30657759308815,0.062075424939394,0.015632815659046173,0.049555886536836624,0.14157062768936157,0.01762979105114937,0.2601349651813507,0.15304046869277954,0.0533706359565258,0.02377435564994812,0.05060558393597603,0.17664580047130585,0.2529919147491455,0.19415780901908875,0.0364731028676033,0.18693794310092926,0.08534792810678482,0.0683479905128479,0.01834665611386299,0.2850204110145569,0.038854118436574936,0.16123321652412415,0.04835258051753044,0.08911146968603134,0.3148215413093567,0.013789444230496883,0.03588424623012543,0.04489626735448837,0.04814776033163071,0.3304901719093323,0.058875132352113724,0.2776469588279724,0.1408025622367859,0.07362207025289536,0.3784945011138916,0.05506039038300514,0.039289359003305435,0.3958272635936737,0.38768574595451355,0.26295122504234314,0.021546952426433563,0.05649411678314209,0.19669242203235626,0.031147822737693787,0.22979621589183807,0.3935486674308777,0.055905263870954514,0.0497094988822937,0.05672454088926315,0.04504987969994545,0.06146096810698509,0.038879718631505966,0.040185440331697464,0.3611617386341095,0.049965523183345795,0.2978472113609314,0.029765289276838303,0.099787637591362,0.06105133146047592,0.3890426754951477,0.04551072046160698,0.15173475444316864,0.0639955997467041,0.31208208203315735,0.04092790558934212,0.3628259003162384,0.06962810456752777,0.05818387120962143,0.03383606672286987,0.04382096603512764,0.049914319068193436,0.03483455255627632,0.05416430905461311,0.04663722217082977,0.14085376262664795,0.05267937481403351,0.16261573135852814,0.27846625447273254,0.07085701823234558,0.11532824486494064,0.08248046785593033,0.11235837638378143,0.026718616485595703,0.05378027260303497,0.1568296104669571,0.26904457807540894,0.04794294014573097,0.07590067386627197,0.057159777730703354,0.06402119994163513,0.026667417958378792,0.12769417464733124,0.16392144560813904,0.03918695077300072,0.07508140057325363,0.3067312240600586,0.23204922676086426,0.01952436938881874,0.181996688246727,0.04845498874783516,0.03859809786081314,0.04464024305343628,0.06471246480941772,0.06998653709888458,0.04748210310935974,0.05360105261206627,0.02556651085615158,0.055802855640649796,0.1218312457203865,0.02605295740067959,0.3113139867782593,0.05593086779117584,0.0436161532998085,0.04023664444684982,0.14302995800971985,0.2712720036506653,0.053217023611068726,0.05170648545026779,0.18778282403945923,0.13378752768039703,0.0453571081161499,0.10406322777271271,0.056750137358903885,0.06240825355052948,0.07134346663951874,0.16374224424362183,0.019498761743307114,0.12047431617975235,0.06760552525520325,0.11010537296533585,0.048583000898361206,0.03319600597023964,0.03788123279809952,0.024900853633880615,0.1641518771648407,0.027691509574651718,0.21481885015964508,0.027384283021092415,0.40345674753189087,0.049863118678331375,0.3407822549343109,0.25224944949150085,0.06348355114459991,0.04246404767036438,0.3294404447078705,0.06071849912405014,0.05132244899868965,0.06755432486534119,0.033426426351070404,0.06978172063827515,0.04679084196686745,0.01832105778157711,0.06862961500883102,0.04540831223130226,0.053268224000930786,0.03698514774441719,0.03529539704322815,0.35207292437553406,0.04794294014573097,0.03447612002491951,0.11174392700195312,0.2038610577583313,0.0731356218457222,0.13371071219444275,0.027102656662464142,0.26251599192619324,0.0733148381114006,0.04195200279355049,0.1841728836297989,0.07121545076370239,0.12024389952421188,0.06404680013656616,0.031352635473012924,0.05523960664868355,0.3291844129562378,0.05009353905916214,0.0492742620408535,0.029048433527350426,0.2670731842517853,0.05301220342516899,0.02600174956023693,0.2266983538866043,0.06996093690395355,0.03319600597023964,0.02090689353644848,0.14520615339279175,0.049427878111600876,0.14128901064395905,0.12113998085260391,0.10726352035999298,0.11893817037343979,0.29213786125183105,0.207624614238739,0.08954671025276184,0.03726677596569061,0.13627095520496368,0.06143536418676376,0.32288625836372375,0.13455559313297272,0.030046917498111725,0.054676353931427,0.09530723094940186,0.020215626806020737,0.06499408930540085,0.08519431948661804,0.028997225686907768,0.0242351945489645,0.052909791469573975,0.17185817658901215],\"z\":[0.038638725876808167,-0.0020945670548826456,0.22318026423454285,0.020435472950339317,0.018899336457252502,0.006891847122460604,0.1201053112745285,-0.004296366591006517,0.09276203066110611,-0.2214040458202362,0.004715649876743555,0.048495616763830185,-0.002196977147832513,0.21383541822433472,0.003102703485637903,0.013497245498001575,0.011269843205809593,-0.012053869664669037,-0.15691179037094116,-0.010978573001921177,-0.08202502131462097,0.13026942312717438,-0.0041427528485655785,-0.19833634793758392,-0.12521612644195557,-0.23156815767288208,-0.01277073472738266,0.01728639006614685,0.03638571873307228,-0.012821939773857594,0.02023065648972988,-0.18584242463111877,0.20134146511554718,-2.0779467376996763e-05,0.010604184120893478,0.32605037093162537,3.042496791749727e-05,-0.00534606259316206,-0.18338459730148315,0.004971672780811787,-0.0019409531960263848,0.008581600151956081,-0.001556918490678072,0.014137303456664085,0.3084103763103485,0.012549960054457188,0.010399364866316319,0.015161396004259586,-0.003118660533800721,0.26020121574401855,-0.012617122381925583,0.050236571580171585,-0.005192447453737259,0.020845111459493637,-0.0037587187252938747,0.011090627871453762,0.12560980021953583,-0.03637607395648956,-0.13153989613056183,-0.0070358156226575375,-0.0037843200843781233,0.013190018013119698,0.12840045988559723,0.01436772383749485,-0.0013777026906609535,-0.32527267932891846,-0.04784591495990753,0.010834604501724243,-0.011260198429226875,0.01610868237912655,-0.05002211034297943,-0.011388209648430347,0.0007216875092126429,-0.023958949372172356,0.15026482939720154,0.02870502509176731,0.03223814442753792,0.011321048252284527,-0.2866131365299225,-0.004296366591006517,0.01605747826397419,0.019180960953235626,0.0022322246804833412,0.1311655044555664,-0.16497652232646942,-0.0009168609394691885,0.004152398556470871,-0.004193957895040512,-0.059520576149225235,0.23152661323547363,-0.0025298073887825012,0.1138327419757843,-0.0022225785069167614,0.0015153595013543963,-0.14439226686954498,0.11493363976478577,-0.21630918979644775,0.017977651208639145,0.219314306974411,-0.04536249116063118,-0.16116178035736084,0.010348159819841385,-0.23169617354869843,-0.0011728836689144373,-0.02413816563785076,0.015955068171024323,-0.1840246468782425,0.000593676115386188,0.03310862183570862,0.00945207942277193,-0.3178735673427582,0.008760816417634487,-0.16827921569347382,0.007506303023546934,0.018412891775369644,0.16603587567806244,0.024045400321483612,-0.1479765921831131,-0.20678511261940002,-0.06850698590278625,0.13720765709877014,0.14749978482723236,-0.002196977147832513,-0.18771138787269592,0.007839133031666279,0.012908392585814,-0.32693684101104736,0.003589147701859474,-0.0024786025751382113,-0.004014741629362106,0.08738554269075394,0.2507283389568329,-0.0013008957030251622,0.007301483768969774,0.13933265209197998,0.005637332797050476,-0.16651266813278198,0.23224347829818726,-0.04915163293480873,0.017542412504553795,0.00906804483383894,-0.09818007797002792,0.33193889260292053,0.006533414591103792,0.009989728219807148,0.026708044111728668,-0.006651780102401972,-0.03138362243771553,-0.028311343863606453,-0.19372792541980743,-0.2196630835533142,0.29939836263656616,-0.21116310358047485,0.11675140261650085,-0.0699407160282135,-0.23848077654838562,-0.008264726959168911,0.06687808781862259,0.011269843205809593,-0.25637680292129517,-0.1896827518939972,0.1463220864534378,-0.004168355371803045,0.00015843694563955069,0.2582554221153259,-0.09544062614440918,-0.0005840306403115392,0.00945207942277193,-0.17562709748744965,-0.011772245168685913,0.1584319770336151,-0.3015137016773224,-0.2937049865722656,-0.006779791787266731,-0.030308324843645096,-0.005294857546687126,-0.25192201137542725,0.018080061301589012,-0.21344171464443207,-0.11669056117534637,0.07852713763713837,-0.07582925260066986,-0.004859618376940489,0.055254630744457245,-0.006037324666976929,0.06347297877073288,-0.00022559780336450785,0.10200446844100952,-0.0025810112711042166,-0.002785830292850733,0.31829288601875305,-0.07920876145362854,-0.0011216793209314346,-0.21070227026939392,0.22233538329601288,-0.271226167678833,0.06644284725189209,0.2838321626186371,-0.1587807685136795,0.03630891442298889,-0.011465015821158886,-0.036760106682777405,0.14314739406108856,-0.12572817504405975,0.020512279123067856,0.006763835437595844,0.2243579775094986,0.1432754099369049,-0.010338515043258667,0.009375272318720818,0.011653878726065159,0.007992747239768505,-0.0591365322470665,0.0004400622274260968,-0.31751513481140137,0.15177537500858307,0.008684009313583374,-0.2991838753223419,0.016774343326687813,-0.22089198231697083,0.08428766578435898,-0.12787877023220062,0.008120758458971977,-0.08627499639987946,0.09463100135326385,-0.09951139986515045,0.009196056053042412,-0.10706408321857452,-0.028567366302013397,0.01142345741391182,0.33367985486984253,0.11867158114910126,-0.020144205540418625,0.009836114011704922,0.20003575086593628,0.006174982059746981,-0.00954484287649393,0.01198670919984579,-0.007803885266184807,0.008299974724650383,-0.005448471754789352,0.021715592592954636,0.024634255096316338,-0.004859618376940489,0.3053380846977234,-0.0020945670548826456,0.017260786145925522,0.11081166565418243,0.24642717838287354,0.02158757857978344,0.05645793676376343,-0.2628285884857178,-0.012821939773857594,0.07793828845024109,0.04811158403754234,-0.19882279634475708,-0.0039379349909722805],\"type\":\"scatter3d\"},{\"marker\":{\"color\":\"#e8000b\"},\"mode\":\"markers\",\"x\":[0.14900429546833038,0.15527686476707458,0.2796785235404968,0.23525851964950562,0.17493945360183716,0.2891770005226135,0.25835180282592773,0.013900848105549812,0.15527686476707458,0.02539628930389881,0.293759822845459,0.01226230151951313,0.032795362174510956,0.15481601655483246,0.22271336615085602,0.15527686476707458,0.269565612077713,0.26178252696990967,0.17094548046588898,0.19885201752185822,0.0899653434753418,0.2484693080186844,0.09913097321987152,0.0680241510272026,0.26907917857170105,0.14949072897434235,0.18085359036922455,0.14175882935523987,0.26516202092170715,0.07355425506830215,0.26856711506843567,0.23182781040668488,0.27350836992263794,0.08699547499418259,0.25558674335479736,0.1927330493927002,0.06577115505933762,0.11992006003856659,0.2766830623149872,0.15857955813407898,0.14964434504508972,0.21723446249961853,0.20804324746131897,0.12432365119457245,0.2923004627227783,0.17529787123203278,0.2781680226325989,0.14629045128822327,0.2598879337310791,0.20384445786476135,0.1556352972984314,0.24380968511104584,0.14068354666233063,0.035381194204092026,0.10839901119470596,0.7791286110877991,0.27307313680648804,0.2556379735469818,0.08986293524503708,0.26500841975212097,0.15192295610904694,0.017689991742372513,0.2633954584598541,0.2606047987937927,0.2686695456504822,0.15192295610904694,0.2514647841453552,0.18963518738746643,0.15527686476707458,0.09408731758594513,0.2108594924211502,0.06930427253246307,0.02119750902056694,0.2395084947347641,0.28223878145217896,0.20425410568714142,0.1839514523744583,0.2516951858997345,0.23507928848266602,0.1653129756450653,0.08138856291770935,0.22842268645763397,0.2558939754962921,0.11633573472499847,0.2627553939819336,0.7751089930534363,0.1789846122264862,0.15622414648532867,0.16410966217517853,0.23449043929576874,0.23116213083267212,0.2004137486219406,0.23625698685646057,0.07752261310815811,0.15527686476707458,0.25725090503692627,0.2896890342235565,0.022759249433875084,0.28310924768447876,0.23231424391269684,0.017997218295931816,0.23116213083267212,0.1494651436805725,0.024397801607847214,0.20594383776187897,0.2881273031234741,0.02849416993558407,0.2870776057243347,0.2723562717437744,0.28840893507003784,0.25975993275642395,0.2799857556819916,0.055299803614616394,0.09219274669885635,0.18407946825027466,0.2727147042751312,0.05222751945257187,0.16323918104171753,0.045494113117456436,0.14373022317886353,0.15192295610904694,0.26534125208854675,0.7891647219657898,0.23930369317531586,0.15192295610904694,0.13896818459033966,0.06602717190980911,0.15527686476707458,0.27266350388526917,0.24549943208694458,0.26593008637428284,0.02803332917392254,0.2064047008752823,0.15156452357769012,0.1336940973997116,0.28285321593284607,0.08392319083213806,0.11805108934640884,0.2918396294116974,0.7918785810470581,0.2136501520872116,0.12545014917850494,0.0825662687420845,0.05916575342416763,0.15527686476707458,0.2657252550125122,0.07905875891447067,0.23449043929576874,0.22337904572486877,0.18853427469730377,0.04196099191904068,0.792313814163208,0.055914256721735,0.22942118346691132,0.11753904074430466,0.15192295610904694,0.26759424805641174,0.24014854431152344,0.23118773102760315,0.16933253407478333,0.20271795988082886,0.034510716795921326,0.23116213083267212,0.28500381112098694,0.29253089427948,0.14052993059158325,0.2419407218694687,0.11293062567710876,0.22883233428001404,0.1930914968252182,0.1524094045162201,0.2866935729980469,0.29286372661590576,0.18912312388420105,0.15192295610904694,0.08773794025182724,0.23116213083267212,0.06472145766019821,0.1794198602437973,0.267287015914917,0.07040517032146454,0.21080829203128815,0.17125269770622253,0.18615327775478363,0.10289451479911804,0.22821788489818573,0.07772743701934814,0.18287616968154907,0.1320299655199051,0.16375122964382172,0.1937059462070465],\"y\":[-0.1186513602733612,-0.04903864860534668,-0.09581409394741058,-0.030809791758656502,-0.08393462002277374,-0.09210174530744553,-0.03846488520503044,-0.16665568947792053,-0.03838808089494705,-0.16194488108158112,-0.10582458972930908,-0.1503470242023468,-0.1718529611825943,-0.09973124414682388,-0.11964984983205795,-0.06706268340349197,-0.12489832192659378,-0.11458059400320053,-0.05213652178645134,-0.14689071476459503,-0.09801588207483292,-0.05300699919462204,-0.071261465549469,-0.11391492187976837,-0.046683233231306076,-0.1266648769378662,-0.09345868229866028,-0.0972990170121193,-0.09307464212179184,-0.16360904276371002,-0.09804148226976395,-0.13821151852607727,-0.059894029051065445,-0.16609244048595428,-0.09425234794616699,-0.13078685104846954,-0.1596662700176239,-0.11056102812290192,-0.037338387221097946,-0.02320590615272522,-0.10922970622777939,-0.03247394040226936,-0.030732985585927963,-0.1263832449913025,-0.11191794276237488,-0.08255208283662796,-0.09788787364959717,-0.07563945651054382,-0.0881589949131012,-0.1182161197066307,-0.11171313375234604,-0.03639110550284386,-0.10359720140695572,-0.16161204874515533,-0.07387290149927139,-0.17886802554130554,-0.1176016703248024,-0.06332474201917648,-0.07225995510816574,-0.058101873844861984,-0.11040741205215454,-0.18393726646900177,-0.07694517076015472,-0.047553710639476776,-0.0359046570956707,-0.09322825819253922,-0.10574779659509659,-0.1015746146440506,-0.06427202373743057,-0.10533815622329712,-0.15032142400741577,-0.15733647346496582,-0.1502702236175537,-0.09240897744894028,-0.14430488646030426,-0.01846948266029358,-0.1421542912721634,-0.033498041331768036,-0.07676596194505692,-0.04097391664981842,-0.16998401284217834,-0.03280677646398544,-0.046760037541389465,-0.08590598404407501,-0.08744212985038757,-0.1743876039981842,-0.1158607080578804,-0.13890278339385986,-0.06068771332502365,-0.04568473994731903,-0.09717100858688354,-0.09893756359815598,-0.040052227675914764,-0.1564403921365738,-0.0744873508810997,-0.06765154004096985,-0.048500996083021164,-0.17244181036949158,-0.07156869024038315,-0.013272210955619812,-0.16212411224842072,-0.10917849093675613,-0.11010018736124039,-0.183450847864151,-0.07016056030988693,-0.12144200503826141,-0.1786631941795349,-0.04919226095080376,-0.035623032599687576,-0.07543464750051498,-0.09128247201442719,-0.03467574715614319,-0.16360904276371002,-0.17175056040287018,-0.0430477075278759,-0.05971481651067734,-0.08933670073747635,-0.1256151795387268,-0.16729578375816345,-0.05917716398835182,-0.09934720396995544,-0.10413483530282974,-0.17889362573623657,-0.04317571967840195,-0.054389532655477524,-0.11982905864715576,-0.16386505961418152,-0.04514709487557411,-0.12968595325946808,-0.1250775307416916,-0.041537169367074966,-0.1478123962879181,-0.057231396436691284,-0.04834738373756409,-0.0833713635802269,-0.02190018817782402,-0.17904721200466156,-0.05700096860527992,-0.07041658461093903,-0.1758725345134735,-0.07423132658004761,-0.06066209450364113,-0.14415127038955688,-0.07786686718463898,-0.08869665116071701,-0.06094371899962425,-0.08777495473623276,-0.0649888888001442,-0.13570250570774078,-0.07940299808979034,-0.17827917635440826,-0.14952775835990906,-0.1643514782190323,-0.15219038724899292,-0.04550552740693092,-0.07930058240890503,-0.057231396436691284,-0.10231707990169525,-0.12853384017944336,-0.11199475824832916,-0.12653687596321106,-0.16038314998149872,-0.08477947860956192,-0.0918201208114624,-0.12894348800182343,-0.06729309260845184,-0.04187000170350075,-0.07571627199649811,-0.09612131863832474,-0.11199475824832916,-0.07515302300453186,-0.13595852255821228,-0.0749225914478302,-0.08421624451875687,-0.06693467497825623,-0.09991045296192169,-0.07243917137384415,-0.08836381137371063,-0.019852004945278168,-0.06450244784355164,-0.1459178328514099,-0.05141965672373772,-0.12671609222888947,-0.05500398576259613,-0.06637141853570938,-0.08160479366779327,-0.16207291185855865,-0.10623423010110855,-0.05692417174577713,-0.04463504999876022,-0.1203923150897026],\"z\":[-0.23676542937755585,0.2764586806297302,0.24353408813476562,-0.2514355480670929,0.3286105990409851,-0.29954230785369873,0.29005351662635803,0.2044137716293335,0.259023517370224,-0.17170993983745575,0.2678306996822357,-0.15806390345096588,0.15533410012722015,0.3063878118991852,0.3166799247264862,0.28014540672302246,-0.25740090012550354,-0.2622397541999817,-0.29693087935447693,-0.24324281513690948,0.28598272800445557,-0.2992863059043884,-0.2785996198654175,-0.27004843950271606,0.29573723673820496,-0.2442157119512558,0.23290914297103882,0.2502419054508209,0.3093576729297638,0.17586717009544373,-0.20983178913593292,0.282039999961853,0.2901303172111511,0.16593345999717712,0.3046724498271942,0.27466651797294617,-0.1573982536792755,-0.23922324180603027,0.2721574902534485,0.27264395356178284,0.2623518109321594,-0.2727110981941223,0.31716635823249817,-0.26262375712394714,-0.29257848858833313,-0.21152153611183167,0.3256407380104065,-0.2293151617050171,-0.2070155292749405,-0.3086567521095276,0.30311068892478943,-0.28433454036712646,0.2977854311466217,-0.1896827518939972,-0.28466737270355225,-0.010952970944344997,-0.23673982918262482,-0.3048419952392578,-0.27611619234085083,-0.2727110981941223,-0.2845649719238281,0.19780835509300232,0.23206426203250885,0.2364678680896759,-0.23978650569915771,-0.2422187179327011,0.3279193639755249,0.32638320326805115,0.27080056071281433,-0.2852562367916107,-0.2727622985839844,0.1897692233324051,-0.14403383433818817,0.3322460949420929,-0.26239335536956787,0.259535551071167,-0.28702276945114136,-0.27353036403656006,-0.3111913800239563,-0.28103184700012207,-0.18737855553627014,-0.27629542350769043,-0.22455312311649323,-0.29278329014778137,-0.22928956151008606,0.022099623456597328,0.24814251065254211,-0.25112834572792053,-0.2204311490058899,0.29409870505332947,-0.2514355480670929,-0.2088589072227478,0.32779133319854736,0.15279947221279144,0.3084103763103485,0.31470856070518494,-0.2807246148586273,0.15551331639289856,-0.2253211885690689,0.2929721772670746,-0.15028080344200134,-0.26697614789009094,0.28920865058898926,-0.15266181528568268,0.33403831720352173,0.2977598309516907,-0.1995396614074707,-0.2561720013618469,-0.27350476384162903,0.25052353739738464,0.23465010523796082,-0.26654091477394104,-0.19106529653072357,-0.15342988073825836,-0.290709525346756,0.23756876587867737,-0.1482326090335846,0.27589544653892517,-0.1902204155921936,-0.2859219014644623,-0.23223382234573364,0.28029903769493103,0.014137303456664085,0.23408684134483337,-0.27353036403656006,-0.2873556315898895,-0.18963156640529633,0.2922041118144989,0.27492254972457886,0.3120459020137787,0.27681711316108704,0.1637316644191742,-0.21679562330245972,0.30828237533569336,0.3086664080619812,0.261814147233963,0.14924074709415436,0.30113932490348816,0.3287642002105713,-0.02375412918627262,-0.20988298952579498,-0.2776779532432556,-0.1946496218442917,-0.17014819383621216,0.2947131395339966,0.2658337354660034,0.29120564460754395,0.2869812250137329,-0.298236608505249,0.3315548598766327,0.16037775576114655,0.014649350196123123,-0.15855035185813904,-0.2463150918483734,0.2664225697517395,-0.25123074650764465,0.3314780592918396,-0.20768119394779205,0.2523157000541687,-0.3077094554901123,-0.21787090599536896,0.16106902062892914,-0.2636478543281555,0.3246934413909912,-0.2409130036830902,0.3117130994796753,-0.22823984920978546,0.30418598651885986,-0.31487810611724854,0.3183184862136841,0.23866966366767883,-0.27368396520614624,0.320520281791687,0.23016969859600067,-0.29841580986976624,0.27359122037887573,-0.25880903005599976,0.2860851585865021,0.2627870440483093,0.3125835657119751,0.1959649920463562,0.23168021440505981,0.28590595722198486,0.32873860001564026,-0.25729846954345703,-0.2070155292749405,-0.1929086595773697,0.2387208640575409,0.30628538131713867,-0.23522929847240448,0.25011390447616577],\"type\":\"scatter3d\"}],                        {\"template\":{\"data\":{\"bar\":[{\"error_x\":{\"color\":\"#2a3f5f\"},\"error_y\":{\"color\":\"#2a3f5f\"},\"marker\":{\"line\":{\"color\":\"#E5ECF6\",\"width\":0.5},\"pattern\":{\"fillmode\":\"overlay\",\"size\":10,\"solidity\":0.2}},\"type\":\"bar\"}],\"barpolar\":[{\"marker\":{\"line\":{\"color\":\"#E5ECF6\",\"width\":0.5},\"pattern\":{\"fillmode\":\"overlay\",\"size\":10,\"solidity\":0.2}},\"type\":\"barpolar\"}],\"carpet\":[{\"aaxis\":{\"endlinecolor\":\"#2a3f5f\",\"gridcolor\":\"white\",\"linecolor\":\"white\",\"minorgridcolor\":\"white\",\"startlinecolor\":\"#2a3f5f\"},\"baxis\":{\"endlinecolor\":\"#2a3f5f\",\"gridcolor\":\"white\",\"linecolor\":\"white\",\"minorgridcolor\":\"white\",\"startlinecolor\":\"#2a3f5f\"},\"type\":\"carpet\"}],\"choropleth\":[{\"colorbar\":{\"outlinewidth\":0,\"ticks\":\"\"},\"type\":\"choropleth\"}],\"contour\":[{\"colorbar\":{\"outlinewidth\":0,\"ticks\":\"\"},\"colorscale\":[[0.0,\"#0d0887\"],[0.1111111111111111,\"#46039f\"],[0.2222222222222222,\"#7201a8\"],[0.3333333333333333,\"#9c179e\"],[0.4444444444444444,\"#bd3786\"],[0.5555555555555556,\"#d8576b\"],[0.6666666666666666,\"#ed7953\"],[0.7777777777777778,\"#fb9f3a\"],[0.8888888888888888,\"#fdca26\"],[1.0,\"#f0f921\"]],\"type\":\"contour\"}],\"contourcarpet\":[{\"colorbar\":{\"outlinewidth\":0,\"ticks\":\"\"},\"type\":\"contourcarpet\"}],\"heatmap\":[{\"colorbar\":{\"outlinewidth\":0,\"ticks\":\"\"},\"colorscale\":[[0.0,\"#0d0887\"],[0.1111111111111111,\"#46039f\"],[0.2222222222222222,\"#7201a8\"],[0.3333333333333333,\"#9c179e\"],[0.4444444444444444,\"#bd3786\"],[0.5555555555555556,\"#d8576b\"],[0.6666666666666666,\"#ed7953\"],[0.7777777777777778,\"#fb9f3a\"],[0.8888888888888888,\"#fdca26\"],[1.0,\"#f0f921\"]],\"type\":\"heatmap\"}],\"heatmapgl\":[{\"colorbar\":{\"outlinewidth\":0,\"ticks\":\"\"},\"colorscale\":[[0.0,\"#0d0887\"],[0.1111111111111111,\"#46039f\"],[0.2222222222222222,\"#7201a8\"],[0.3333333333333333,\"#9c179e\"],[0.4444444444444444,\"#bd3786\"],[0.5555555555555556,\"#d8576b\"],[0.6666666666666666,\"#ed7953\"],[0.7777777777777778,\"#fb9f3a\"],[0.8888888888888888,\"#fdca26\"],[1.0,\"#f0f921\"]],\"type\":\"heatmapgl\"}],\"histogram\":[{\"marker\":{\"pattern\":{\"fillmode\":\"overlay\",\"size\":10,\"solidity\":0.2}},\"type\":\"histogram\"}],\"histogram2d\":[{\"colorbar\":{\"outlinewidth\":0,\"ticks\":\"\"},\"colorscale\":[[0.0,\"#0d0887\"],[0.1111111111111111,\"#46039f\"],[0.2222222222222222,\"#7201a8\"],[0.3333333333333333,\"#9c179e\"],[0.4444444444444444,\"#bd3786\"],[0.5555555555555556,\"#d8576b\"],[0.6666666666666666,\"#ed7953\"],[0.7777777777777778,\"#fb9f3a\"],[0.8888888888888888,\"#fdca26\"],[1.0,\"#f0f921\"]],\"type\":\"histogram2d\"}],\"histogram2dcontour\":[{\"colorbar\":{\"outlinewidth\":0,\"ticks\":\"\"},\"colorscale\":[[0.0,\"#0d0887\"],[0.1111111111111111,\"#46039f\"],[0.2222222222222222,\"#7201a8\"],[0.3333333333333333,\"#9c179e\"],[0.4444444444444444,\"#bd3786\"],[0.5555555555555556,\"#d8576b\"],[0.6666666666666666,\"#ed7953\"],[0.7777777777777778,\"#fb9f3a\"],[0.8888888888888888,\"#fdca26\"],[1.0,\"#f0f921\"]],\"type\":\"histogram2dcontour\"}],\"mesh3d\":[{\"colorbar\":{\"outlinewidth\":0,\"ticks\":\"\"},\"type\":\"mesh3d\"}],\"parcoords\":[{\"line\":{\"colorbar\":{\"outlinewidth\":0,\"ticks\":\"\"}},\"type\":\"parcoords\"}],\"pie\":[{\"automargin\":true,\"type\":\"pie\"}],\"scatter\":[{\"marker\":{\"colorbar\":{\"outlinewidth\":0,\"ticks\":\"\"}},\"type\":\"scatter\"}],\"scatter3d\":[{\"line\":{\"colorbar\":{\"outlinewidth\":0,\"ticks\":\"\"}},\"marker\":{\"colorbar\":{\"outlinewidth\":0,\"ticks\":\"\"}},\"type\":\"scatter3d\"}],\"scattercarpet\":[{\"marker\":{\"colorbar\":{\"outlinewidth\":0,\"ticks\":\"\"}},\"type\":\"scattercarpet\"}],\"scattergeo\":[{\"marker\":{\"colorbar\":{\"outlinewidth\":0,\"ticks\":\"\"}},\"type\":\"scattergeo\"}],\"scattergl\":[{\"marker\":{\"colorbar\":{\"outlinewidth\":0,\"ticks\":\"\"}},\"type\":\"scattergl\"}],\"scattermapbox\":[{\"marker\":{\"colorbar\":{\"outlinewidth\":0,\"ticks\":\"\"}},\"type\":\"scattermapbox\"}],\"scatterpolar\":[{\"marker\":{\"colorbar\":{\"outlinewidth\":0,\"ticks\":\"\"}},\"type\":\"scatterpolar\"}],\"scatterpolargl\":[{\"marker\":{\"colorbar\":{\"outlinewidth\":0,\"ticks\":\"\"}},\"type\":\"scatterpolargl\"}],\"scatterternary\":[{\"marker\":{\"colorbar\":{\"outlinewidth\":0,\"ticks\":\"\"}},\"type\":\"scatterternary\"}],\"surface\":[{\"colorbar\":{\"outlinewidth\":0,\"ticks\":\"\"},\"colorscale\":[[0.0,\"#0d0887\"],[0.1111111111111111,\"#46039f\"],[0.2222222222222222,\"#7201a8\"],[0.3333333333333333,\"#9c179e\"],[0.4444444444444444,\"#bd3786\"],[0.5555555555555556,\"#d8576b\"],[0.6666666666666666,\"#ed7953\"],[0.7777777777777778,\"#fb9f3a\"],[0.8888888888888888,\"#fdca26\"],[1.0,\"#f0f921\"]],\"type\":\"surface\"}],\"table\":[{\"cells\":{\"fill\":{\"color\":\"#EBF0F8\"},\"line\":{\"color\":\"white\"}},\"header\":{\"fill\":{\"color\":\"#C8D4E3\"},\"line\":{\"color\":\"white\"}},\"type\":\"table\"}]},\"layout\":{\"annotationdefaults\":{\"arrowcolor\":\"#2a3f5f\",\"arrowhead\":0,\"arrowwidth\":1},\"autotypenumbers\":\"strict\",\"coloraxis\":{\"colorbar\":{\"outlinewidth\":0,\"ticks\":\"\"}},\"colorscale\":{\"diverging\":[[0,\"#8e0152\"],[0.1,\"#c51b7d\"],[0.2,\"#de77ae\"],[0.3,\"#f1b6da\"],[0.4,\"#fde0ef\"],[0.5,\"#f7f7f7\"],[0.6,\"#e6f5d0\"],[0.7,\"#b8e186\"],[0.8,\"#7fbc41\"],[0.9,\"#4d9221\"],[1,\"#276419\"]],\"sequential\":[[0.0,\"#0d0887\"],[0.1111111111111111,\"#46039f\"],[0.2222222222222222,\"#7201a8\"],[0.3333333333333333,\"#9c179e\"],[0.4444444444444444,\"#bd3786\"],[0.5555555555555556,\"#d8576b\"],[0.6666666666666666,\"#ed7953\"],[0.7777777777777778,\"#fb9f3a\"],[0.8888888888888888,\"#fdca26\"],[1.0,\"#f0f921\"]],\"sequentialminus\":[[0.0,\"#0d0887\"],[0.1111111111111111,\"#46039f\"],[0.2222222222222222,\"#7201a8\"],[0.3333333333333333,\"#9c179e\"],[0.4444444444444444,\"#bd3786\"],[0.5555555555555556,\"#d8576b\"],[0.6666666666666666,\"#ed7953\"],[0.7777777777777778,\"#fb9f3a\"],[0.8888888888888888,\"#fdca26\"],[1.0,\"#f0f921\"]]},\"colorway\":[\"#636efa\",\"#EF553B\",\"#00cc96\",\"#ab63fa\",\"#FFA15A\",\"#19d3f3\",\"#FF6692\",\"#B6E880\",\"#FF97FF\",\"#FECB52\"],\"font\":{\"color\":\"#2a3f5f\"},\"geo\":{\"bgcolor\":\"white\",\"lakecolor\":\"white\",\"landcolor\":\"#E5ECF6\",\"showlakes\":true,\"showland\":true,\"subunitcolor\":\"white\"},\"hoverlabel\":{\"align\":\"left\"},\"hovermode\":\"closest\",\"mapbox\":{\"style\":\"light\"},\"paper_bgcolor\":\"white\",\"plot_bgcolor\":\"#E5ECF6\",\"polar\":{\"angularaxis\":{\"gridcolor\":\"white\",\"linecolor\":\"white\",\"ticks\":\"\"},\"bgcolor\":\"#E5ECF6\",\"radialaxis\":{\"gridcolor\":\"white\",\"linecolor\":\"white\",\"ticks\":\"\"}},\"scene\":{\"xaxis\":{\"backgroundcolor\":\"#E5ECF6\",\"gridcolor\":\"white\",\"gridwidth\":2,\"linecolor\":\"white\",\"showbackground\":true,\"ticks\":\"\",\"zerolinecolor\":\"white\"},\"yaxis\":{\"backgroundcolor\":\"#E5ECF6\",\"gridcolor\":\"white\",\"gridwidth\":2,\"linecolor\":\"white\",\"showbackground\":true,\"ticks\":\"\",\"zerolinecolor\":\"white\"},\"zaxis\":{\"backgroundcolor\":\"#E5ECF6\",\"gridcolor\":\"white\",\"gridwidth\":2,\"linecolor\":\"white\",\"showbackground\":true,\"ticks\":\"\",\"zerolinecolor\":\"white\"}},\"shapedefaults\":{\"line\":{\"color\":\"#2a3f5f\"}},\"ternary\":{\"aaxis\":{\"gridcolor\":\"white\",\"linecolor\":\"white\",\"ticks\":\"\"},\"baxis\":{\"gridcolor\":\"white\",\"linecolor\":\"white\",\"ticks\":\"\"},\"bgcolor\":\"#E5ECF6\",\"caxis\":{\"gridcolor\":\"white\",\"linecolor\":\"white\",\"ticks\":\"\"}},\"title\":{\"x\":0.05},\"xaxis\":{\"automargin\":true,\"gridcolor\":\"white\",\"linecolor\":\"white\",\"ticks\":\"\",\"title\":{\"standoff\":15},\"zerolinecolor\":\"white\",\"zerolinewidth\":2},\"yaxis\":{\"automargin\":true,\"gridcolor\":\"white\",\"linecolor\":\"white\",\"ticks\":\"\",\"title\":{\"standoff\":15},\"zerolinecolor\":\"white\",\"zerolinewidth\":2}}}},                        {\"responsive\": true}                    ).then(function(){\n",
              "                            \n",
              "var gd = document.getElementById('a486e8d3-f4bc-4046-832e-4de2acd5b04a');\n",
              "var x = new MutationObserver(function (mutations, observer) {{\n",
              "        var display = window.getComputedStyle(gd).display;\n",
              "        if (!display || display === 'none') {{\n",
              "            console.log([gd, 'removed!']);\n",
              "            Plotly.purge(gd);\n",
              "            observer.disconnect();\n",
              "        }}\n",
              "}});\n",
              "\n",
              "// Listen for the removal of the full notebook cells\n",
              "var notebookContainer = gd.closest('#notebook-container');\n",
              "if (notebookContainer) {{\n",
              "    x.observe(notebookContainer, {childList: true});\n",
              "}}\n",
              "\n",
              "// Listen for the clearing of the current output cell\n",
              "var outputEl = gd.closest('.output');\n",
              "if (outputEl) {{\n",
              "    x.observe(outputEl, {childList: true});\n",
              "}}\n",
              "\n",
              "                        })                };                            </script>        </div>\n",
              "</body>\n",
              "</html>"
            ]
          },
          "metadata": {}
        }
      ],
      "source": [
        "#for ground truth\n",
        "fig = go.Figure()\n",
        "for i_seg in range(label_max - label_min +1):\n",
        "    idxs = np.where(s_pt == i_seg)[0]\n",
        "    color = current_palette.as_hex()[i_seg]\n",
        "    fig.add_trace(go.Scatter3d(x=x_pt[idxs,0], y=x_pt[idxs,1], z=x_pt[idxs,2],\n",
        "                                   mode='markers',\n",
        "                                   marker = dict(color = color )))\n",
        "    \n",
        "fig.show()"
      ]
    },
    {
      "cell_type": "code",
      "source": [
        "pre_pt.shape"
      ],
      "metadata": {
        "colab": {
          "base_uri": "https://localhost:8080/"
        },
        "id": "2B5PyqIge9jP",
        "outputId": "e4abad7b-40b9-4583-fb74-16e7c8e65168"
      },
      "execution_count": null,
      "outputs": [
        {
          "output_type": "execute_result",
          "data": {
            "text/plain": [
              "torch.Size([2048])"
            ]
          },
          "metadata": {},
          "execution_count": 84
        }
      ]
    },
    {
      "cell_type": "code",
      "source": [
        "s_pt"
      ],
      "metadata": {
        "colab": {
          "base_uri": "https://localhost:8080/"
        },
        "id": "yBmOpB8qe-n4",
        "outputId": "3d891d9c-94fa-4d5a-f3fe-5f22a0a04ae0"
      },
      "execution_count": null,
      "outputs": [
        {
          "output_type": "execute_result",
          "data": {
            "text/plain": [
              "array([1, 2, 1, ..., 1, 1, 0], dtype=int32)"
            ]
          },
          "metadata": {},
          "execution_count": 86
        }
      ]
    },
    {
      "cell_type": "code",
      "source": [
        "pre_pt"
      ],
      "metadata": {
        "colab": {
          "base_uri": "https://localhost:8080/"
        },
        "id": "cikWX5zufAnr",
        "outputId": "ae515db7-dcd5-49f6-ae2f-a031ef156349"
      },
      "execution_count": null,
      "outputs": [
        {
          "output_type": "execute_result",
          "data": {
            "text/plain": [
              "tensor([25, 31, 11,  ...,  7, 36, 46])"
            ]
          },
          "metadata": {},
          "execution_count": 87
        }
      ]
    },
    {
      "cell_type": "code",
      "source": [
        ""
      ],
      "metadata": {
        "id": "Uvoif9eifCZx"
      },
      "execution_count": null,
      "outputs": []
    }
  ],
  "metadata": {
    "kernelspec": {
      "display_name": "Python 3.10.5 ('3d-seg-in-2d')",
      "language": "python",
      "name": "python3"
    },
    "language_info": {
      "codemirror_mode": {
        "name": "ipython",
        "version": 3
      },
      "file_extension": ".py",
      "mimetype": "text/x-python",
      "name": "python",
      "nbconvert_exporter": "python",
      "pygments_lexer": "ipython3",
      "version": "3.10.5"
    },
    "orig_nbformat": 4,
    "vscode": {
      "interpreter": {
        "hash": "5afbfbd5725c5019ed9353e9bec16bb1488174a8e46020ee475f05b3f16ebf00"
      }
    },
    "colab": {
      "name": "test.ipynb",
      "provenance": []
    },
    "accelerator": "GPU",
    "gpuClass": "standard"
  },
  "nbformat": 4,
  "nbformat_minor": 0
}